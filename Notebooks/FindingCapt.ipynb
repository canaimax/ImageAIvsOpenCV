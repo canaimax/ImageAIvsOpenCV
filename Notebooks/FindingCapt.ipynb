{
  "cells": [
    {
      "cell_type": "markdown",
      "metadata": {
        "id": "spCV35vkpKPb"
      },
      "source": [
        "Gus Marquez IS687\n",
        "\n",
        "Captain's All Findings Master\n",
        "\n",
        "(Help for these code can be found in ImageAI\n",
        "\n",
        "  additional graphs in seaborn    numpy and pandas documentation)\n",
        "\n",
        "Google Drive Mounted /content/drive/MyDrive/colab/\n",
        "\n",
        "LOAD LIBRARIES and SETUP"
      ]
    },
    {
      "cell_type": "code",
      "execution_count": 2,
      "metadata": {
        "colab": {
          "base_uri": "https://localhost:8080/"
        },
        "id": "z8vrfg_Vohu_",
        "outputId": "71548e46-6052-424f-f768-6c14939b64ae"
      },
      "outputs": [
        {
          "name": "stdout",
          "output_type": "stream",
          "text": [
            "Mounted at /content/drive\n"
          ]
        }
      ],
      "source": [
        "from google.colab import drive\n",
        "drive.mount('/content/drive')"
      ]
    },
    {
      "cell_type": "markdown",
      "metadata": {
        "id": "H8obayaURKGr"
      },
      "source": [
        "SETUP Imports and counters/accumulators"
      ]
    },
    {
      "cell_type": "code",
      "execution_count": 3,
      "metadata": {
        "colab": {
          "base_uri": "https://localhost:8080/",
          "height": 419
        },
        "id": "86tSxSnNcApr",
        "outputId": "a5bb6fd3-0d69-435c-e978-7315eb32ac4f"
      },
      "outputs": [
        {
          "name": "stdout",
          "output_type": "stream",
          "text": [
            "Looking in indexes: https://pypi.org/simple, https://us-python.pkg.dev/colab-wheels/public/simple/\n",
            "Collecting matplotlib==3.1.3\n",
            "  Downloading matplotlib-3.1.3-cp37-cp37m-manylinux1_x86_64.whl (13.1 MB)\n",
            "\u001b[K     |████████████████████████████████| 13.1 MB 28.4 MB/s \n",
            "\u001b[?25hRequirement already satisfied: numpy>=1.11 in /usr/local/lib/python3.7/dist-packages (from matplotlib==3.1.3) (1.21.6)\n",
            "Requirement already satisfied: kiwisolver>=1.0.1 in /usr/local/lib/python3.7/dist-packages (from matplotlib==3.1.3) (1.4.4)\n",
            "Requirement already satisfied: python-dateutil>=2.1 in /usr/local/lib/python3.7/dist-packages (from matplotlib==3.1.3) (2.8.2)\n",
            "Requirement already satisfied: cycler>=0.10 in /usr/local/lib/python3.7/dist-packages (from matplotlib==3.1.3) (0.11.0)\n",
            "Requirement already satisfied: pyparsing!=2.0.4,!=2.1.2,!=2.1.6,>=2.0.1 in /usr/local/lib/python3.7/dist-packages (from matplotlib==3.1.3) (3.0.9)\n",
            "Requirement already satisfied: typing-extensions in /usr/local/lib/python3.7/dist-packages (from kiwisolver>=1.0.1->matplotlib==3.1.3) (4.1.1)\n",
            "Requirement already satisfied: six>=1.5 in /usr/local/lib/python3.7/dist-packages (from python-dateutil>=2.1->matplotlib==3.1.3) (1.15.0)\n",
            "Installing collected packages: matplotlib\n",
            "  Attempting uninstall: matplotlib\n",
            "    Found existing installation: matplotlib 3.2.2\n",
            "    Uninstalling matplotlib-3.2.2:\n",
            "      Successfully uninstalled matplotlib-3.2.2\n",
            "Successfully installed matplotlib-3.1.3\n"
          ]
        },
        {
          "data": {
            "application/vnd.colab-display-data+json": {
              "pip_warning": {
                "packages": [
                  "matplotlib",
                  "mpl_toolkits"
                ]
              }
            }
          },
          "metadata": {},
          "output_type": "display_data"
        }
      ],
      "source": [
        "\n",
        "pip install matplotlib==3.1.3"
      ]
    },
    {
      "cell_type": "code",
      "execution_count": 3,
      "metadata": {
        "id": "NYTsb9-oko3Y"
      },
      "outputs": [],
      "source": []
    },
    {
      "cell_type": "code",
      "execution_count": 4,
      "metadata": {
        "colab": {
          "base_uri": "https://localhost:8080/"
        },
        "id": "_KVhw9ep8lZw",
        "outputId": "130e82c4-b61e-4b43-9267-03bb6295b2bc"
      },
      "outputs": [
        {
          "name": "stdout",
          "output_type": "stream",
          "text": [
            "[0, 0, 0, 0, 0, 0, 0, 0, 0, 0, 0, 0, 0, 0]\n",
            "[array([0.8434939 , 0.75541089, 0.8441711 , 0.64459731]), array([0.90698946, 0.78355612, 0.903375  , 0.60732799]), array([0., 0., 0., 0.]), array([0.6907901 , 0.77985755, 0.77847194, 0.54558198]), array([0.77304202, 0.63026441, 0.52373136, 0.63976388]), array([0.81978961, 0.75862185, 0.67599933, 0.64370049]), array([0.8510078 , 0.75637245, 0.67476748, 0.78762392]), array([0.77304202, 0.63026441, 0.52373136, 0.63976388]), array([0.8510078 , 0.75637245, 0.67476748, 0.78762392]), array([0.83284402, 0.85869202, 0.59539559, 0.79248616]), array([0.90698946, 0.78355612, 0.903375  , 0.60732799]), array([0.79541599, 0.6337859 , 0.48575537, 0.73596198]), array([0.80882804, 0.70604484, 0.76320182, 0.57309749]), array([0.8434939 , 0.75541089, 0.8441711 , 0.64459731])]\n"
          ]
        }
      ],
      "source": [
        "#  LOAD RESULTS FROM OPENCV and IMAGEAI\n",
        "\n",
        "import numpy as np\n",
        "import matplotlib.pyplot as plt\n",
        "arr=[]\n",
        "arr = [0 for i in range(14)] \n",
        "print(arr)\n",
        "\n",
        "arr[0] =  np.load('/content/drive/MyDrive/colab/var/xv01cv.npy') \n",
        "arr[2] =  np.load('/content/drive/MyDrive/colab/var/xv02cv.npy') \n",
        "arr[4] =  np.load('/content/drive/MyDrive/colab/var/xv03cv.npy') \n",
        "arr[6] =  np.load('/content/drive/MyDrive/colab/var/xv04cv.npy') \n",
        "arr[8] =  np.load('/content/drive/MyDrive/colab/var/xv05cv.npy') \n",
        "arr[10] = np.load('/content/drive/MyDrive/colab/var/xv06cv.npy') \n",
        "arr[12] = np.load('/content/drive/MyDrive/colab/var/xv07cv.npy') \n",
        "\n",
        "arr[1] =  np.load('/content/drive/MyDrive/colab/var/xv01ai.npy') \n",
        "arr[3] =  np.load('/content/drive/MyDrive/colab/var/xv02ai.npy') \n",
        "arr[5] =  np.load('/content/drive/MyDrive/colab/var/xv03ai.npy') \n",
        "arr[7] = np.load('/content/drive/MyDrive/colab/var/xv04ai.npy') \n",
        "arr[9] = np.load('/content/drive/MyDrive/colab/var/xv05ai.npy') \n",
        "arr[11] = np.load('/content/drive/MyDrive/colab/var/xv06ai.npy') \n",
        "arr[13] = np.load('/content/drive/MyDrive/colab/var/xv07ai.npy') \n",
        "\n",
        "\n",
        "xcv = np.load('/content/drive/MyDrive/colab/var/xvt2cv.npy') \n",
        "xai = np.load('/content/drive/MyDrive/colab/var/xvt2ai.npy') \n",
        "\n",
        "\n",
        "print(arr)"
      ]
    },
    {
      "cell_type": "code",
      "execution_count": 5,
      "metadata": {
        "colab": {
          "base_uri": "https://localhost:8080/",
          "height": 352
        },
        "id": "hLNNUZfDLBOu",
        "outputId": "cd79dd5f-1870-41b9-ce94-b04efd66a580"
      },
      "outputs": [
        {
          "data": {
            "image/png": "[encoded data removed]",
            "text/plain": [
              "<Figure size 432x288 with 1 Axes>"
            ]
          },
          "metadata": {},
          "output_type": "display_data"
        }
      ],
      "source": [
        "import numpy as np\n",
        "import matplotlib.pyplot as plt\n",
        "\n",
        "plt.style.use('dark_background')\n",
        "xt = [\"Cars 7 Videos\", \"Persons 7 Videos\", \"Motorb 7 Videos\", \"Trucks 7 Videos\"]\n",
        "\n",
        "data = arr\n",
        "X = np.arange(4)\n",
        "fig = plt.figure()\n",
        "ax = fig.add_axes([0,0,1,1])\n",
        "ax.bar(xt, data[0], color = 'b', width = 0.07)\n",
        "ax.bar(X+0.07, data[1], color = 'g', width = 0.07)\n",
        "ax.bar(X+0.14, data[2], color = 'b', width = 0.07)\n",
        "ax.bar(X+0.21, data[3], color = 'g', width = 0.07)\n",
        "ax.bar(X+0.28, data[4], color = 'b', width = 0.07)\n",
        "ax.bar(X+0.35, data[5], color = 'g', width = 0.07)\n",
        "ax.bar(X+0.42, data[6], color = 'b', width = 0.07)\n",
        "ax.bar(X+0.49, data[7], color = 'g', width = 0.07)\n",
        "ax.bar(X+0.56, data[8], color = 'b', width = 0.07)\n",
        "ax.bar(X+0.63, data[9], color = 'g', width = 0.07)\n",
        "ax.bar(X+0.70, data[10], color = 'b', width = 0.07)\n",
        "ax.bar(X+0.77, data[11], color = 'g', width = 0.07)\n",
        "ax.bar(X+0.84, data[12], color = 'b', width = 0.07)\n",
        "ax.bar(X+0.91, data[13], color = 'g', width = 0.07)\n",
        "\n",
        "#ax.set_ylabel(\"Confidence Scores from 0 to 1\", fontsize =\"small\")\n",
        "\n",
        "ax.set_ylim([0,1])\n",
        "#plt.title(\"Comparison objects scores both libraries\")\n",
        "\n",
        "plt.title(\n",
        "    \"Comparison Libraries Scores\",\n",
        "    fontsize='medium',\n",
        "    loc='center',\n",
        "    fontweight='bold',\n",
        "    style='italic',\n",
        "    color='w',\n",
        "    family='monospace')\n",
        "\n",
        "plt.title(\n",
        "    \"OPENCV is BLUE\",\n",
        "    fontsize='large',\n",
        "    loc='left',\n",
        "    fontweight='bold',\n",
        "    style='italic',\n",
        "    color='b',\n",
        "    family='monospace')\n",
        "\n",
        "plt.title(\n",
        "    \"IMAGEAI is GREEN\",\n",
        "    fontsize='large',\n",
        "    loc='right',\n",
        "    fontweight='bold',\n",
        "    style='italic',\n",
        "    color='g',\n",
        "    family='monospace')\n",
        "\n",
        "plt.show()"
      ]
    },
    {
      "cell_type": "code",
      "execution_count": 6,
      "metadata": {
        "colab": {
          "base_uri": "https://localhost:8080/",
          "height": 352
        },
        "id": "_lkDuq76v4fo",
        "outputId": "5cde750a-4796-4b46-a58f-3243258f5186"
      },
      "outputs": [
        {
          "data": {
            "image/png": "[encoded data removed]",
            "text/plain": [
              "<Figure size 432x288 with 1 Axes>"
            ]
          },
          "metadata": {},
          "output_type": "display_data"
        }
      ],
      "source": [
        "import numpy as np\n",
        "import matplotlib.pyplot as plt\n",
        "\n",
        "plt.style.use('dark_background')\n",
        "\n",
        "xt = [\"Cars\", \"Persons\", \"Motorcycles\", \"Trucks\"]\n",
        "\n",
        "data = [[xcv[0], xcv[1], xcv[2], xcv[3]], [xai[0], xai[1], xai[2], xai[3]]]\n",
        "X = np.arange(4)\n",
        "fig = plt.figure()\n",
        "ax = fig.add_axes([0,0,1,1])\n",
        "ax.bar(xt, data[0], color = 'b', width = 0.25)\n",
        "ax.bar(X+0.50, data[1], color = 'g', width = 0.25)\n",
        "ax.set_ylim([0,1])\n",
        "\n",
        "\n",
        "plt.title(\n",
        "    \"Comparison Libraries Scores\",\n",
        "    fontsize='medium',\n",
        "    loc='center',\n",
        "    fontweight='bold',\n",
        "    style='italic',\n",
        "    color='w',\n",
        "    family='monospace')\n",
        "\n",
        "plt.title(\n",
        "    \"OPENCV is BLUE\",\n",
        "    fontsize='large',\n",
        "    loc='left',\n",
        "    fontweight='bold',\n",
        "    style='italic',\n",
        "    color='b',\n",
        "    family='monospace')\n",
        "\n",
        "plt.title(\n",
        "    \"IMAGEAI is GREEN\",\n",
        "    fontsize='large',\n",
        "    loc='right',\n",
        "    fontweight='bold',\n",
        "    style='italic',\n",
        "    color='g',\n",
        "    family='monospace')\n",
        "\n",
        "plt.show()"
      ]
    },
    {
      "cell_type": "code",
      "execution_count": 6,
      "metadata": {
        "id": "8s5UQ1sW5DCT"
      },
      "outputs": [],
      "source": []
    },
    {
      "cell_type": "markdown",
      "metadata": {
        "id": "6aSGYnIS41B4"
      },
      "source": [
        "TIME SECTION\n"
      ]
    },
    {
      "cell_type": "code",
      "execution_count": 6,
      "metadata": {
        "id": "onsLzb0N4913"
      },
      "outputs": [],
      "source": []
    },
    {
      "cell_type": "code",
      "execution_count": 7,
      "metadata": {
        "colab": {
          "base_uri": "https://localhost:8080/"
        },
        "id": "iI3B4xkdScM7",
        "outputId": "24004826-4b2e-4802-a057-cef1eabd2c97"
      },
      "outputs": [
        {
          "name": "stdout",
          "output_type": "stream",
          "text": [
            "*** ['149']\n",
            "*** ['149']\n",
            "[149, 453, 140, 383, 299, 811, 149, 453, 140, 383, 299, 811, 299, 811]\n"
          ]
        }
      ],
      "source": [
        "\n",
        "runtime=[]\n",
        "runtime = [0 for i in range(14)] \n",
        "#print(arrt)\n",
        "cvtime=0\n",
        "aitime=0\n",
        "\n",
        "\n",
        "\n",
        "file = open(\"/content/drive/MyDrive/colab/var/transtime01cv.txt\")\n",
        "data = file.readlines()\n",
        "file.close()\n",
        "print(\"***\", data)\n",
        "runtime[0] = int(data[0])\n",
        "cvtime = cvtime + int(data[0])\n",
        "\n",
        "\n",
        "file = open(\"/content/drive/MyDrive/colab/var/transtime01ai.txt\")\n",
        "data = file.readlines()\n",
        "file.close()\n",
        "runtime[1] = int(data[0])\n",
        "aitime = aitime + int(data[0])\n",
        "\n",
        "file = open(\"/content/drive/MyDrive/colab/var/transtime02cv.txt\")\n",
        "data = file.readlines()\n",
        "file.close()\n",
        "runtime[2] = int(data[0])\n",
        "cvtime = cvtime + int(data[0])\n",
        "\n",
        "file = open(\"/content/drive/MyDrive/colab/var/transtime02ai.txt\")\n",
        "data = file.readlines()\n",
        "file.close()\n",
        "runtime[3] = int(data[0])\n",
        "aitime = aitime + int(data[0])\n",
        "\n",
        "\n",
        "file = open(\"/content/drive/MyDrive/colab/var/transtime05cv.txt\")\n",
        "data = file.readlines()\n",
        "file.close()\n",
        "runtime[4] = int(data[0])\n",
        "cvtime = cvtime + int(data[0])\n",
        "\n",
        "file = open(\"/content/drive/MyDrive/colab/var/transtime05ai.txt\")\n",
        "data = file.readlines()\n",
        "file.close()\n",
        "runtime[5] = int(data[0])\n",
        "aitime = aitime + int(data[0])\n",
        "\n",
        "\n",
        "file = open(\"/content/drive/MyDrive/colab/var/transtime01cv.txt\")\n",
        "data = file.readlines()\n",
        "file.close()\n",
        "print(\"***\", data)\n",
        "runtime[6] = int(data[0])\n",
        "cvtime = cvtime + int(data[0])\n",
        "\n",
        "file = open(\"/content/drive/MyDrive/colab/var/transtime01ai.txt\")\n",
        "data = file.readlines()\n",
        "file.close()\n",
        "runtime[7] = int(data[0])\n",
        "aitime = aitime + int(data[0])\n",
        "\n",
        "\n",
        "file = open(\"/content/drive/MyDrive/colab/var/transtime02cv.txt\")\n",
        "data = file.readlines()\n",
        "file.close()\n",
        "runtime[8] = int(data[0])\n",
        "cvtime = cvtime + int(data[0])\n",
        "\n",
        "file = open(\"/content/drive/MyDrive/colab/var/transtime02ai.txt\")\n",
        "data = file.readlines()\n",
        "file.close()\n",
        "runtime[9] = int(data[0])\n",
        "aitime = aitime + int(data[0])\n",
        "\n",
        "\n",
        "file = open(\"/content/drive/MyDrive/colab/var/transtime05cv.txt\")\n",
        "data = file.readlines()\n",
        "file.close()\n",
        "runtime[10] = int(data[0])\n",
        "cvtime = cvtime + int(data[0])\n",
        "\n",
        "file = open(\"/content/drive/MyDrive/colab/var/transtime05ai.txt\")\n",
        "data = file.readlines()\n",
        "file.close()\n",
        "runtime[11] = int(data[0])\n",
        "aitime = aitime + int(data[0])\n",
        "\n",
        "\n",
        "file = open(\"/content/drive/MyDrive/colab/var/transtime05cv.txt\")\n",
        "data = file.readlines()\n",
        "file.close()\n",
        "runtime[12] = int(data[0])\n",
        "cvtime = cvtime + int(data[0])\n",
        "\n",
        "file = open(\"/content/drive/MyDrive/colab/var/transtime05ai.txt\")\n",
        "data = file.readlines()\n",
        "file.close()\n",
        "runtime[13] = int(data[0])\n",
        "aitime = aitime + int(data[0])\n",
        "\n",
        "print(runtime)\n"
      ]
    },
    {
      "cell_type": "code",
      "execution_count": 16,
      "metadata": {
        "colab": {
          "base_uri": "https://localhost:8080/",
          "height": 352
        },
        "id": "e7fQOVzg7k-m",
        "outputId": "521564be-88dc-488f-f9d7-52f9b04a2cb9"
      },
      "outputs": [
        {
          "data": {
            "image/png": "[encoded data removed]",
            "text/plain": [
              "<Figure size 432x288 with 1 Axes>"
            ]
          },
          "metadata": {},
          "output_type": "display_data"
        }
      ],
      "source": [
        "import numpy as np\n",
        "import matplotlib.pyplot as plt\n",
        "\n",
        "plt.style.use('dark_background')\n",
        "\n",
        "\n",
        "data = runtime\n",
        "X = np.arange(1)\n",
        "fig = plt.figure()\n",
        "ax = fig.add_axes([0,0,1,1])\n",
        "\n",
        "xt = [\"                                                                                                          TIME    \"\n",
        "            + str(data[0]) + \"   \" + str(data[1])   + \"   \" + str(data[2]) + \"   \"  \n",
        "            + str(data[3]) + \"   \" + str(data[4])   + \"   \" + str(data[5])  + \"   \" \n",
        "            + str(data[6]) + \"   \" + str(data[7])   + \"   \" + str(data[8]) + \"   \" \n",
        "            + str(data[9]) + \"   \" + str(data[10])   + \"   \" + str(data[11]) + \"   \" \n",
        "            + str(data[12]) + \"   \" + str(data[13])  ]\n",
        "\n",
        "ax.bar(xt, data[0], color = 'g', width = 0.07)\n",
        "ax.bar(X+0.07, data[1], color = 'y', width = 0.07)\n",
        "ax.bar(X+0.14, data[2], color = 'g', width = 0.07)\n",
        "ax.bar(X+0.21, data[3], color = 'y', width = 0.07)\n",
        "ax.bar(X+0.28, data[4], color = 'g', width = 0.07)\n",
        "ax.bar(X+0.35, data[5], color = 'y', width = 0.07)\n",
        "ax.bar(X+0.42, data[6], color = 'g', width = 0.07)\n",
        "ax.bar(X+0.49, data[7], color = 'y', width = 0.07)\n",
        "ax.bar(X+0.56, data[8], color = 'g', width = 0.07)\n",
        "ax.bar(X+0.63, data[9], color = 'y', width = 0.07)\n",
        "ax.bar(X+0.70, data[10], color = 'g', width = 0.07)\n",
        "ax.bar(X+0.77, data[11], color = 'y', width = 0.07)\n",
        "ax.bar(X+0.84, data[12], color = 'g', width = 0.07)\n",
        "ax.bar(X+0.91, data[13], color = 'y', width = 0.07)\n",
        "\n",
        "#ax.set_ylabel(\"Confidence Scores from 0 to 1\", fontsize =\"small\")\n",
        "\n",
        "#ax.set_ylim([0,1])\n",
        "#plt.title(\"Comparison objects scores both libraries\")\n",
        "\n",
        "plt.title(\n",
        "    \"Comparison Libraries Scores\",\n",
        "    fontsize='medium',\n",
        "    loc='center',\n",
        "    fontweight='bold',\n",
        "    style='italic',\n",
        "    color='w',\n",
        "    family='monospace')\n",
        "\n",
        "plt.title(\n",
        "    \"OPENCV is GREEN\",\n",
        "    fontsize='large',\n",
        "    loc='left',\n",
        "    fontweight='bold',\n",
        "    style='italic',\n",
        "    color='lightgreen',\n",
        "    family='monospace')\n",
        "\n",
        "plt.title(\n",
        "    \"IMAGEAI is YELLOW\",\n",
        "    fontsize='large',\n",
        "    loc='right',\n",
        "    fontweight='bold',\n",
        "    style='italic',\n",
        "    color='yellow',\n",
        "    family='monospace')\n",
        "\n",
        "plt.show()"
      ]
    },
    {
      "cell_type": "code",
      "execution_count": 10,
      "metadata": {
        "colab": {
          "base_uri": "https://localhost:8080/",
          "height": 517
        },
        "id": "a3vMur1gv4VK",
        "outputId": "85169aa8-bbc4-4619-b001-2732ddef56cf"
      },
      "outputs": [
        {
          "data": {
            "image/png": "[encoded data removed]",
            "text/plain": [
              "<Figure size 576x576 with 1 Axes>"
            ]
          },
          "metadata": {},
          "output_type": "display_data"
        }
      ],
      "source": [
        "#  This is where the total of both is displayed\n",
        "\n",
        "import numpy as np\n",
        "import pandas as pd\n",
        "import seaborn as sns\n",
        "import matplotlib.pyplot as plt\n",
        "\n",
        "\n",
        "\n",
        "data = {\"Libraries\": [\"OpenCV\", \"ImageAI\"],\n",
        "\t\t\"RunTime\": [cvtime, aitime]}\n",
        "df = pd.DataFrame(data, columns=['Libraries', 'RunTime'])\n",
        "plt.figure(figsize=(8, 8))\n",
        "plots = sns.barplot(x=\"Libraries\", y=\"RunTime\", data=df)\n",
        "for bar in plots.patches:\n",
        "\tplots.annotate(format(bar.get_height(), '.2f'),\n",
        "\t\t\t\t(bar.get_x() + bar.get_width() / 2,\n",
        "\t\t\t\t\tbar.get_height()), ha='center', va='center',\n",
        "\t\t\t\tsize=15, xytext=(0, 8),\n",
        "\t\t\t\ttextcoords='offset points')\n",
        "plt.xlabel(\"Libraries\", size=14)\n",
        "plt.ylabel(\"RunTime\", size=14)\n",
        "plt.title(\"This is running time in seconds\")\n",
        "plt.show()"
      ]
    },
    {
      "cell_type": "code",
      "execution_count": 10,
      "metadata": {
        "id": "rLkBQwA_v4cQ"
      },
      "outputs": [],
      "source": []
    },
    {
      "cell_type": "code",
      "execution_count": 10,
      "metadata": {
        "id": "lNGsT0ruv4kO"
      },
      "outputs": [],
      "source": []
    },
    {
      "cell_type": "code",
      "execution_count": 10,
      "metadata": {
        "id": "Zqd7dBxCv4oK"
      },
      "outputs": [],
      "source": []
    }
  ],
  "metadata": {
    "colab": {
      "collapsed_sections": [],
      "provenance": []
    },
    "gpuClass": "standard",
    "kernelspec": {
      "display_name": "Python 3",
      "name": "python3"
    },
    "language_info": {
      "name": "python"
    }
  },
  "nbformat": 4,
  "nbformat_minor": 0
}

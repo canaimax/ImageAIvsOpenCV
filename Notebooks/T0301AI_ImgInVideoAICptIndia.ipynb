{
  "cells": [
    {
      "cell_type": "markdown",
      "metadata": {
        "id": "qPa6bUafys0d"
      },
      "source": []
    },
    {
      "cell_type": "code",
      "execution_count": null,
      "metadata": {
        "id": "ZGz4tceyCga-"
      },
      "outputs": [],
      "source": []
    },
    {
      "cell_type": "code",
      "execution_count": null,
      "metadata": {
        "id": "acKHaHZ-qnWE"
      },
      "outputs": [],
      "source": []
    },
    {
      "cell_type": "markdown",
      "metadata": {
        "id": "spCV35vkpKPb"
      },
      "source": [
        "Gus Marquez IS687\n",
        "\n",
        "Captain's ImageAI Object Detection in Video\n",
        "\n",
        "(Help for these code can be found in ImageAI\n",
        "\n",
        "  additional graphs in seaborn    numpy and pandas documentation)\n",
        "\n",
        "Google Drive Mounted /content/drive/MyDrive/colab/\n",
        "\n",
        "LOAD LIBRARIES and SETUP"
      ]
    },
    {
      "cell_type": "code",
      "execution_count": null,
      "metadata": {
        "id": "YjRd7Nkvqogv"
      },
      "outputs": [],
      "source": []
    },
    {
      "cell_type": "code",
      "execution_count": null,
      "metadata": {
        "id": "z8vrfg_Vohu_"
      },
      "outputs": [],
      "source": [
        "from google.colab import drive\n",
        "drive.mount('/content/drive')"
      ]
    },
    {
      "cell_type": "markdown",
      "metadata": {
        "id": "H8obayaURKGr"
      },
      "source": [
        "SETUP Imports and counters/accumulators"
      ]
    },
    {
      "cell_type": "code",
      "execution_count": null,
      "metadata": {
        "id": "6ySplNzLRIEs"
      },
      "outputs": [],
      "source": [
        "from imageai.Detection import VideoObjectDetection\n",
        "import os\n",
        "import time\n",
        "import calendar\n",
        "import imutils\n",
        "from imutils.video import FPS\n",
        "from imutils.video import VideoStream\n",
        "\n",
        "\n",
        "\n",
        "carcc = 0; carconf = 0; carplot=[]\n",
        "personcc = 0; personconf = 0; personplot=[]\n",
        "motorbikecc = 0; motorbikeconf = 0; motorbikeplot = []\n",
        "truckcc = 0; truckconf = 0; truckplot = []\n",
        "xxx=0"
      ]
    },
    {
      "cell_type": "markdown",
      "metadata": {
        "id": "HzFY2tSrRYwD"
      },
      "source": [
        "Run Detector"
      ]
    },
    {
      "cell_type": "code",
      "execution_count": null,
      "metadata": {
        "id": "J4RvR0hVqomi"
      },
      "outputs": [],
      "source": [
        "\n",
        "#TIMER\n",
        "\n",
        "current_GMT = time.gmtime()\n",
        "time_stamp_start = calendar.timegm(current_GMT)\n",
        "print(\"Current timestamp:\", time_stamp_start)\n",
        "\n",
        "fps = FPS().start()\n",
        "\n",
        "#RUN\n",
        "execution_path = os.getcwd()\n",
        "\n",
        "# THIS IS THE OPTION FUNCTION FOR IMAGEAI THAT YOU CAN IMPROVISE\n",
        "# I USE IT FOR COUNTERS AND ACCUMULATORS\n",
        "\n",
        "def forFrame(frame_number, output_array, output_count):\n",
        "  global carcc, carconf, personcc, personconf\n",
        "  global motorbikecc, motorbikeconf, truckcc, truckconf\n",
        "  #print(\"FOR FRAME  \" , frame_number, \"   ++++++++++++++++++++++++++++++++++++++++++++++++++\")\n",
        "  #print(\"Output for each object : \", output_array)\n",
        "  #print(\"Output count for unique objects : \", output_count)\n",
        "  #print(type(output_array))\n",
        "  #print(\">>>>>\", output_array[0])\n",
        "  #for key,value in output_array[0].items():\n",
        "\t  #print(key, ':', value)\n",
        "\n",
        "  #  Countes/accumulators\n",
        "  for item in output_array:\n",
        "      conf = item.get(\"percentage_probability\")\n",
        "      flag = item.get(\"name\")\n",
        "      #print(\"*****\", flag, conf)\n",
        "      if flag == \"car\":\n",
        "        carcc = carcc + 1\n",
        "        carconf = carconf + conf/100\n",
        "        carplot.append(conf/100)\n",
        "      if flag == \"person\":\n",
        "        personcc = personcc + 1\n",
        "        personconf = personconf + conf/100\n",
        "        personplot.append(conf/100)\n",
        "      if flag == \"motorcycle\":\n",
        "        motorbikecc = motorbikecc + 1\n",
        "        motorbikeconf = motorbikeconf + conf/100\n",
        "        motorbikeplot.append(conf/100)\n",
        "      if flag == \"truck\":\n",
        "        truckcc = truckcc + 1\n",
        "        truckconf = truckconf + conf/100\n",
        "        truckplot.append(conf/100)\n",
        "\n",
        "      #print(\"CAR\", carcc, \"PERSON\", personcc, \"MOTORCYCLE\", motorbikecc, \"TRUCK\", truckcc)\n",
        "      fps.update()\n",
        "    \n",
        "   \n",
        "\n",
        "print(\"------------END OF A FRAME --------------\")\n",
        "\n",
        "# STANDARD Video Detection in Video code from ImageAI\n",
        "# YOLOv3 version\n",
        "\n",
        "detector = VideoObjectDetection()\n",
        "detector.setModelTypeAsYOLOv3()\n",
        "detector.setModelPath( os.path.join(execution_path , \"/content/drive/MyDrive/colab/yolo.h5\"))\n",
        "detector.loadModel()\n",
        "\n",
        "video_path = detector.detectObjectsFromVideo(input_file_path=os.path.join(execution_path, \"/content/drive/MyDrive/colab/traffictiny.mp4\"),\n",
        "                                output_file_path=os.path.join(execution_path, \"traffic_detected\")\n",
        "                                , frames_per_second=30, log_progress=True, display_percentage_probability=True, display_object_name=True, per_frame_function=forFrame)\n",
        "\n",
        "\n",
        "\n",
        "#  ENDING - REPORTS\n",
        "current_GMT = time.gmtime()\n",
        "time_stamp_end = calendar.timegm(current_GMT)\n",
        "print(\"Start:\", time_stamp_start)\n",
        "print(\"End:\", time_stamp_end)\n",
        "print(\"Time:\", time_stamp_end - time_stamp_start)\n",
        "\n",
        "\n",
        "fps.update()\n",
        "fps.stop()\n",
        "\n",
        "print(\"[INFO] elasped time: {:.2f}\".format(fps.elapsed()))\n",
        "print(\"[INFO] approx. FPS: {:.2f}\".format(fps.fps()))\n",
        "\n",
        "print(\"///////////// CARtotal \", carcc, carconf, carconf/carcc)\n",
        "print(\"///////////// PERSONtotal \", personcc, personconf, personconf/personcc)\n",
        "print(\"///////////// MOTORBIKEtotal \", motorbikecc, motorbikeconf, motorbikeconf/motorbikecc)\n",
        "print(\"///////////// TRUCKtotal \", truckcc, truckconf, truckconf/truckcc)\n",
        "print(video_path)"
      ]
    },
    {
      "cell_type": "code",
      "execution_count": null,
      "metadata": {
        "id": "npumCTGtqosM"
      },
      "outputs": [],
      "source": [
        "print(len(carplot))"
      ]
    },
    {
      "cell_type": "code",
      "execution_count": null,
      "metadata": {
        "id": "86tSxSnNcApr"
      },
      "outputs": [],
      "source": [
        "\n",
        "pip install matplotlib==3.1.3"
      ]
    },
    {
      "cell_type": "code",
      "execution_count": null,
      "metadata": {
        "id": "MW9rz38BkozO"
      },
      "outputs": [],
      "source": [
        "\n",
        "#  PLOT SCORE RESULTS\n",
        "\n",
        "import matplotlib.pyplot as plt\n",
        "import numpy as np\n",
        "plt.style.use('dark_background')\n",
        "\n",
        "xkeys = ['Cars', 'Persons', 'Motobikes', 'Trucks']\n",
        "xvalues = [carconf/carcc, personconf/personcc, motorbikeconf/motorbikecc, truckconf/truckcc]\n",
        "xd = dict(zip(xkeys, xvalues))\n",
        "print(xd)\n",
        "print()\n",
        "\n",
        "\n",
        "\n",
        "group_data = list(xd.values())\n",
        "group_names = list(xd.keys())\n",
        "group_mean = np.mean(group_data)\n",
        "\n",
        "fig, ax = plt.subplots()\n",
        "ax.set_xlim([0,1])\n",
        "ax.barh(group_names, group_data)"
      ]
    },
    {
      "cell_type": "code",
      "execution_count": null,
      "metadata": {
        "id": "NYTsb9-oko3Y"
      },
      "outputs": [],
      "source": []
    },
    {
      "cell_type": "code",
      "execution_count": null,
      "metadata": {
        "id": "QXo4_qRZko7l"
      },
      "outputs": [],
      "source": [
        "print(len(personplot))"
      ]
    },
    {
      "cell_type": "code",
      "execution_count": null,
      "metadata": {
        "id": "L0Ciswy_XImR"
      },
      "outputs": [],
      "source": [
        "\n",
        "from matplotlib import docstring\n",
        "import numpy as np \n",
        "co = carplot # create an array of 1000 1's for the example \n",
        "po = personplot\n",
        "mo = motorbikeplot\n",
        "to = truckplot\n",
        "xv = xvalues\n",
        "\n",
        "np.save('/content/drive/MyDrive/colab/co', co)\n",
        "\n",
        "np.save('/content/drive/MyDrive/colab/po', po)\n",
        "        \n",
        "np.save('/content/drive/MyDrive/colab/mo', mo)\n",
        "        \n",
        "np.save('/content/drive/MyDrive/colab/to', to)\n",
        "\n",
        "np.save('/content/drive/MyDrive/colab/var/xv01ai', xv)"
      ]
    },
    {
      "cell_type": "code",
      "execution_count": null,
      "metadata": {
        "id": "ro7jqhE8x7ZV"
      },
      "outputs": [],
      "source": [
        "#  LOAD RESULTS FROM OPENCV\n",
        "\n",
        "import numpy as np\n",
        "import matplotlib.pyplot as plt\n",
        "\n",
        "ci = np.load('/content/drive/MyDrive/colab/cocv.npy') \n",
        "\n",
        "pi = np.load('/content/drive/MyDrive/colab/pocv.npy') \n",
        "\n",
        "mi = np.load('/content/drive/MyDrive/colab/mocv.npy') \n",
        "\n",
        "ti = np.load('/content/drive/MyDrive/colab/tocv.npy') \n",
        "\n",
        "xi = np.load('/content/drive/MyDrive/colab/var/xv01cv.npy') \n"
      ]
    },
    {
      "cell_type": "code",
      "execution_count": null,
      "metadata": {
        "id": "Ki4U9Q6XFoln"
      },
      "outputs": [],
      "source": [
        "#Tranfer timestamp of ImageAI\n",
        "\n",
        "tot_time =  time_stamp_end - time_stamp_start\n",
        "\n",
        "file = open(\"/content/drive/MyDrive/colab/var/transtime01ai.txt\", \"w\")\n",
        "str = repr(tot_time)\n",
        "file.write(str)\n",
        "file.close()\n"
      ]
    },
    {
      "cell_type": "code",
      "execution_count": null,
      "metadata": {
        "id": "iI3B4xkdScM7"
      },
      "outputs": [],
      "source": [
        "print(carplot[0])"
      ]
    },
    {
      "cell_type": "markdown",
      "metadata": {
        "id": "eWqcJMX-XTNk"
      },
      "source": [
        "BELOW WILL PLOT ALL DETECTIONS FROM OpenCV (CV) and ImageAI  (AI)\n"
      ]
    },
    {
      "cell_type": "code",
      "execution_count": null,
      "metadata": {
        "id": "NSt8CpFM5EmX"
      },
      "outputs": [],
      "source": [
        "\n",
        "x1 = np.array(range(0, len(ci)))\n",
        "y1 = ci\n",
        "\n",
        "x2 = np.array(range(0, len(carplot)))\n",
        "y2 = carplot\n",
        "\n",
        "plt.subplot(1, 2, 1)\n",
        "plt.scatter(x1, y1)\n",
        "plt.xlabel(\"CARS\\nOPENCV\")\n",
        "plt.ylim([0,1])\n",
        "\n",
        "plt.subplot(1, 2, 2)\n",
        "plt.scatter(x2, y2)\n",
        "plt.xlabel(\"CARS\\nIMAGEAI\")\n",
        "plt.ylim([0,1])\n",
        "\n",
        "plt.show()"
      ]
    },
    {
      "cell_type": "code",
      "execution_count": null,
      "metadata": {
        "id": "9bZmJdd5lWYZ"
      },
      "outputs": [],
      "source": [
        "\n",
        "x1 = np.array(range(0, len(pi)))\n",
        "y1 =pi\n",
        "\n",
        "x2 = np.array(range(0, len(personplot)))\n",
        "y2 = personplot\n",
        "\n",
        "plt.subplot(1, 2, 1)\n",
        "plt.scatter(x1, y1, color = \"red\")\n",
        "plt.xlabel(\"PERSON\\nOPENCV\")\n",
        "plt.ylim([0,1])\n",
        "\n",
        "plt.subplot(1, 2, 2)\n",
        "plt.scatter(x2, y2, color = \"red\")\n",
        "plt.xlabel(\"PERSON\\nIMAGEAI\")\n",
        "plt.ylim([0,1])\n",
        "\n",
        "#plt.legend([\"blue\", \"green\"], loc =\"lower right\")\n",
        "\n",
        "plt.show()"
      ]
    },
    {
      "cell_type": "code",
      "execution_count": null,
      "metadata": {
        "id": "SHC6VyvPlWbt"
      },
      "outputs": [],
      "source": [
        "\n",
        "x1 = np.array(range(0, len(mi)))\n",
        "y1 = mi\n",
        "\n",
        "x2 = np.array(range(0, len(motorbikeplot)))\n",
        "y2 = motorbikeplot\n",
        "\n",
        "plt.subplot(1, 2, 1)\n",
        "plt.scatter(x1, y1, color = \"blue\")\n",
        "plt.xlabel(\"MOTORCYCLES\\nOPENCV\")\n",
        "plt.ylim([0,1])\n",
        "\n",
        "plt.subplot(1, 2, 2)\n",
        "plt.scatter(x2, y2, color = \"blue\")\n",
        "plt.xlabel(\"MOTORCYCLES\\nIMAGEAI\")\n",
        "plt.ylim([0,1])\n",
        "\n",
        "plt.show()"
      ]
    },
    {
      "cell_type": "code",
      "execution_count": null,
      "metadata": {
        "id": "z9gi_p5olWe-"
      },
      "outputs": [],
      "source": [
        "\n",
        "x1 = np.array(range(0, len(ti)))\n",
        "y1 = ti\n",
        "\n",
        "x2 = np.array(range(0, len(truckplot)))\n",
        "y2 = truckplot\n",
        "\n",
        "plt.subplot(1, 2, 1)\n",
        "plt.scatter(x1, y1, color = \"yellow\")\n",
        "plt.xlabel(\"TRUCKS\\nOPENCV\")\n",
        "plt.ylim([0,1])\n",
        "\n",
        "plt.subplot(1, 2, 2)\n",
        "plt.scatter(x2, y2, color = \"yellow\")\n",
        "plt.xlabel(\"TRUCKS\\nIMAGEAI\")\n",
        "plt.ylim([0,1])\n",
        "\n",
        "plt.show()"
      ]
    },
    {
      "cell_type": "code",
      "execution_count": null,
      "metadata": {
        "id": "TOs6wvXse6Us"
      },
      "outputs": [],
      "source": []
    },
    {
      "cell_type": "markdown",
      "metadata": {
        "id": "OZRztn1KrVfV"
      },
      "source": [
        "ANALYSIS and FINDINGS REPORTS"
      ]
    },
    {
      "cell_type": "code",
      "execution_count": null,
      "metadata": {
        "id": "8krvC4dXe_4z"
      },
      "outputs": [],
      "source": [
        "# Import libraries\n",
        "from matplotlib import pyplot as plt\n",
        "import numpy as np\n",
        "plt.style.use('dark_background')\n",
        " \n",
        "#get timestamp from OpenCV\n",
        "# open the data file\n",
        "file = open(\"/content/drive/MyDrive/colab/transtime.txt\")\n",
        "# read the file as a list\n",
        "data = file.readlines()\n",
        "# close the file\n",
        "file.close()\n",
        "cvtime = int(data[0])\n",
        "\n",
        "#get timestamp from OpenCV\n",
        "# open the data file\n",
        "file = open(\"/content/drive/MyDrive/colab/transtime.txt\")\n",
        "# read the file as a list\n",
        "data = file.readlines()\n",
        "# close the file\n",
        "file.close()\n",
        "cvtime = int(data[0])\n",
        "\n",
        "# Get ImageAI timestamp , mix and repot\n",
        "\n",
        "aitime = time_stamp_end - time_stamp_start\n",
        " \n",
        "# Creating dataset\n",
        "libTime = ['OPENCV', 'IMAGEAI']\n",
        " \n",
        "data = [cvtime, aitime]\n",
        " \n",
        "# Creating plot\n",
        "fig = plt.figure(figsize =(10, 7))\n",
        "plt.pie(data, labels = libTime)\n",
        "plt.title(label=\"TimeStamp OpenCV and ImageAI\",\n",
        "          fontsize=15,\n",
        "          color=\"green\")\n",
        "\n",
        " \n",
        "# show plot\n",
        "plt.show()"
      ]
    },
    {
      "cell_type": "code",
      "execution_count": null,
      "metadata": {
        "id": "zaxUjEnwbtBf"
      },
      "outputs": [],
      "source": [
        "#  This is where the total of both is displayed\n",
        "\n",
        "import numpy as np\n",
        "import pandas as pd\n",
        "import seaborn as sns\n",
        "import matplotlib.pyplot as plt\n",
        "\n",
        "\n",
        "\n",
        "data = {\"Libraries\": [\"OpenCV\", \"ImageAI\"],\n",
        "\t\t\"RunTime\": [cvtime, aitime]}\n",
        "df = pd.DataFrame(data, columns=['Libraries', 'RunTime'])\n",
        "plt.figure(figsize=(8, 8))\n",
        "plots = sns.barplot(x=\"Libraries\", y=\"RunTime\", data=df)\n",
        "for bar in plots.patches:\n",
        "\tplots.annotate(format(bar.get_height(), '.2f'),\n",
        "\t\t\t\t(bar.get_x() + bar.get_width() / 2,\n",
        "\t\t\t\t\tbar.get_height()), ha='center', va='center',\n",
        "\t\t\t\tsize=15, xytext=(0, 8),\n",
        "\t\t\t\ttextcoords='offset points')\n",
        "plt.xlabel(\"Libraries\", size=14)\n",
        "plt.ylabel(\"RunTime\", size=14)\n",
        "plt.title(\"This is running time in seconds\")\n",
        "plt.show()\n",
        "\n"
      ]
    },
    {
      "cell_type": "code",
      "execution_count": null,
      "metadata": {
        "id": "Gr-LmvMTNdM-"
      },
      "outputs": [],
      "source": [
        "import numpy as np\n",
        "import matplotlib.pyplot as plt\n",
        "xt = [\"Cars\", \"Persons\", \"Motorcycles\", \"Trucks\"]\n",
        "\n",
        "data = [[xi[0], xi[1], xi[2], xi[3]],\n",
        "[carconf/carcc, personconf/personcc, motorbikeconf/motorbikecc, truckconf/truckcc]]\n",
        "X = np.arange(4)\n",
        "fig = plt.figure()\n",
        "ax = fig.add_axes([0,0,1,1])\n",
        "ax.bar(xt, data[0], color = 'b', width = 0.25)\n",
        "ax.bar(X+0.50, data[1], color = 'g', width = 0.25)\n",
        "ax.set_ylim([0,1])\n",
        "plt.title(\"Comparison objects scores both libraries\")\n",
        "\n",
        "plt.show()"
      ]
    },
    {
      "cell_type": "code",
      "execution_count": null,
      "metadata": {
        "id": "-2JsIAvvjp02"
      },
      "outputs": [],
      "source": [
        "import numpy as np\n",
        "import pandas as pd\n",
        "import seaborn as sns\n",
        "import matplotlib.pyplot as plt\n",
        "\n",
        "#  Calculating subtotals\n",
        "\n",
        "totalcv = ((xi[0] + xi[1] + xi[2] + xi[3])*100)/4\n",
        "\n",
        "totalai = (carconf/carcc + personconf/personcc + motorbikeconf/motorbikecc + truckconf/truckcc)/4\n",
        "\n",
        "print(totalcv, totalai)"
      ]
    },
    {
      "cell_type": "code",
      "execution_count": null,
      "metadata": {
        "id": "sYY4UYBPiA4B"
      },
      "outputs": [],
      "source": [
        "#  Another plot for the total of accurate hits for 4 objects\n",
        "data = {\"Libraries\": [\"OpenCV\", \"ImageAI\"],\n",
        "\t\t\"RunTime\": [totalcv, totalai*100]}\n",
        "df = pd.DataFrame(data, columns=['Libraries', 'RunTime'])\n",
        "plt.figure(figsize=(8, 8))\n",
        "plots = sns.barplot(x=\"Libraries\", y=\"RunTime\", data=df, color = \"salmon\")\n",
        "for bar in plots.patches:\n",
        "\tplots.annotate(format(bar.get_height(), '.2f'),\n",
        "\t\t\t\t(bar.get_x() + bar.get_width() / 2,\n",
        "\t\t\t\t\tbar.get_height()), ha='center', va='center',\n",
        "\t\t\t\tsize=15, xytext=(0, 8),\n",
        "\t\t\t\ttextcoords='offset points')\n",
        "plt.xlabel(\"Libraries\", size=14)\n",
        "plt.ylabel(\"RunTime\", size=14)\n",
        "plt.ylim([0,100])\n",
        "plt.title(\"Accurate hits total for all 4 objects\")\n",
        "plt.show()"
      ]
    }
  ],
  "metadata": {
    "accelerator": "GPU",
    "colab": {
      "collapsed_sections": [],
      "provenance": []
    },
    "gpuClass": "standard",
    "kernelspec": {
      "display_name": "Python 3.9.13 64-bit (microsoft store)",
      "language": "python",
      "name": "python3"
    },
    "language_info": {
      "name": "python",
      "version": "3.9.13"
    },
    "vscode": {
      "interpreter": {
        "hash": "a74c002d188b1aa5740b97468140ffb2c7f9d2ba79e32b4d6d1bd2ae5bb03638"
      }
    }
  },
  "nbformat": 4,
  "nbformat_minor": 0
}

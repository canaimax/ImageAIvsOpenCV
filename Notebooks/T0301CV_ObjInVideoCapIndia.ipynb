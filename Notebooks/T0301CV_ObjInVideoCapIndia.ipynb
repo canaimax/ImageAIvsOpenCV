{
  "nbformat": 4,
  "nbformat_minor": 0,
  "metadata": {
    "colab": {
      "provenance": [],
      "collapsed_sections": []
    },
    "kernelspec": {
      "name": "python3",
      "display_name": "Python 3"
    },
    "language_info": {
      "name": "python"
    }
  },
  "cells": [
    {
      "cell_type": "code",
      "source": [],
      "metadata": {
        "id": "yRL-w55IlvBW"
      },
      "execution_count": null,
      "outputs": []
    },
    {
      "cell_type": "markdown",
      "source": [
        "Gus Marquez IS687\n",
        "\n",
        "Captain's OpenCV Object Detection in Video\n",
        "\n",
        "(Help for these code can be found in OpenCV, YOLO and PYImageSearch)\n",
        "\n",
        "Google Drive Mounted /content/drive/MyDrive/colab/\n",
        "\n",
        "LOAD LIBRARIES and SETUP"
      ],
      "metadata": {
        "id": "rlCvTuqyoNNI"
      }
    },
    {
      "cell_type": "code",
      "source": [
        "pip install imutils"
      ],
      "metadata": {
        "colab": {
          "base_uri": "https://localhost:8080/"
        },
        "id": "-s37Ss1elvDj",
        "outputId": "368e1789-9d18-4525-cd32-16760349e41c"
      },
      "execution_count": null,
      "outputs": [
        {
          "output_type": "stream",
          "name": "stdout",
          "text": [
            "Looking in indexes: https://pypi.org/simple, https://us-python.pkg.dev/colab-wheels/public/simple/\n",
            "Requirement already satisfied: imutils in /usr/local/lib/python3.7/dist-packages (0.5.4)\n"
          ]
        }
      ]
    },
    {
      "cell_type": "code",
      "source": [
        "from google.colab import drive\n",
        "drive.mount('/content/drive')"
      ],
      "metadata": {
        "colab": {
          "base_uri": "https://localhost:8080/"
        },
        "id": "JlNJpbzuAANe",
        "outputId": "9e282781-9e6e-4205-c93a-9b391d628ff4"
      },
      "execution_count": null,
      "outputs": [
        {
          "output_type": "stream",
          "name": "stdout",
          "text": [
            "Mounted at /content/drive\n"
          ]
        }
      ]
    },
    {
      "cell_type": "markdown",
      "source": [
        "SETUP"
      ],
      "metadata": {
        "id": "YWSmma9TNXE9"
      }
    },
    {
      "cell_type": "code",
      "source": [
        "import numpy as np\n",
        "import time\n",
        "import calendar\n",
        "import cv2\n",
        "import imutils\n",
        "from imutils.video import FPS\n",
        "from imutils.video import VideoStream\n",
        "\n",
        "#  Google Drive Paths\n",
        "\n",
        "INPUT_FILE='/content/drive/MyDrive/colab/traffictiny.mp4'\n",
        "OUTPUT_FILE='output.avi'\n",
        "LABELS_FILE='/content/drive/MyDrive/colab/coco.names'\n",
        "CONFIG_FILE='/content/drive/MyDrive/colab/yolov3.cfg'\n",
        "WEIGHTS_FILE='/content/drive/MyDrive/colab/yolov3.weights'\n",
        "CONFIDENCE_THRESHOLD=0.3\n",
        "\n",
        "#  Set high, width, timer, writer, labels, color, darknet, video capture\n",
        "#   And all my counters / accumulators\n",
        "#    (cc) counting counter, (conf) confidence, \n",
        "#     Now...  (plot) the value for plotting later and tranfered via drive to ImageAI\n",
        "\n",
        "\n",
        "\n",
        "# Video Capture abd boxes\n",
        "H=None\n",
        "W=None\n",
        "fourcc = cv2.VideoWriter_fourcc(*\"MJPG\")\n",
        "writer = cv2.VideoWriter(OUTPUT_FILE, fourcc, 30,\n",
        "\t(800, 600), True)\n",
        "LABELS = open(LABELS_FILE).read().strip().split(\"\\n\")\n",
        "# 42, Captain's meaning of life\n",
        "np.random.seed(42)\n",
        "COLORS = np.random.randint(0, 255, size=(len(LABELS), 3),\n",
        "\tdtype=\"uint8\")\n",
        "net = cv2.dnn.readNetFromDarknet(CONFIG_FILE, WEIGHTS_FILE)\n",
        "vs = cv2.VideoCapture(INPUT_FILE)\n",
        "ln = [layer_name for layer_name in net.getUnconnectedOutLayersNames()]\n",
        "\n",
        "# Counters/Accumulators \n",
        "cnt =0;\n",
        "carcc = 0; carconf = 0; carplot = []\n",
        "personcc = 0; personconf = 0; personplot = []\n",
        "motorbikecc = 0; motorbikeconf = 0; motorbikeplot = []\n",
        "truckcc = 0; truckconf = 0; truckplot = []\n",
        "FRAMENUM = 0\n",
        "tt = 0\n"
      ],
      "metadata": {
        "id": "Zrlkg5U1NV9T"
      },
      "execution_count": null,
      "outputs": []
    },
    {
      "cell_type": "code",
      "source": [
        "#SET TIMER\n",
        "# this timer for CV is the same for AI\n",
        "current_GMT = time.gmtime()\n",
        "time_stamp_start = calendar.timegm(current_GMT)\n",
        "print(\"Current timestamp:\", time_stamp_start)\n",
        "fps = FPS().start()\n",
        "# Begin detection/boxes\n",
        "\n",
        "while True:\n",
        "\tcnt+=1\n",
        "\tprint (\"Frames so far\", cnt)\n",
        "\ttry:\n",
        "\t\t(grabbed, image) = vs.read()\n",
        "\texcept:\n",
        "\t\tbreak\n",
        "\tblob = cv2.dnn.blobFromImage(image, 1 / 255.0, (416, 416), swapRB=True, crop=False)\n",
        "\n",
        "\tnet.setInput(blob)\n",
        "\tif W is None or H is None:\n",
        "\t\t(H, W) = image.shape[:2]\n",
        "\tlayerOutputs = net.forward(ln)\n",
        "\tif cnt == 102:\n",
        "\t\tbreak\n",
        "\n",
        "\t# initialize our lists of detected bounding boxes, confidences, and\n",
        "\t# class IDs, respectively\n",
        "\tboxes = []\n",
        "\tconfidences = []\n",
        "\tclassIDs = []\n",
        "\n",
        "\tprint(\"#################################################################\")\n",
        "\t# LOOPS LAYERS\n",
        "\tfor output in layerOutputs:\n",
        "\t\t#print(\"OUTPUT >>>>>> \", output)\n",
        "\t\t# LOOPS DETECTION\n",
        "\t\tfor detection in output:\n",
        "\t\t\t#CLASSID / SCORE\n",
        "\t\t\tscores = detection[5:]\n",
        "\t\t\tclassID = np.argmax(scores)\n",
        "\t\t\tconfidence = scores[classID]\n",
        "\t\t\ttt = confidence\n",
        "\t\t\t#print(\"$$$$$$$$$$$$$$$$\", FRAMENUM, tt, \"$$$$$$$$$$$$$\")\n",
        "\n",
        "\t\t\t#FILTER\n",
        "\t\t\tif confidence > CONFIDENCE_THRESHOLD:\n",
        "\t\t\t\t# BOX\n",
        "\t\t\t\tbox = detection[0:4] * np.array([W, H, W, H])\n",
        "\t\t\t\t(centerX, centerY, width, height) = box.astype(\"int\")\n",
        "\t\t\t\t# BOX BOUND\n",
        "\t\t\t\tx = int(centerX - (width / 2))\n",
        "\t\t\t\ty = int(centerY - (height / 2))\n",
        "\t\t\t\t# APPEND\n",
        "\t\t\t\tboxes.append([x, y, int(width), int(height)])\n",
        "\t\t\t\tconfidences.append(float(confidence))\n",
        "\t\t\t\tclassIDs.append(classID)\n",
        "\t\t\n",
        "\t\t\t\t#print(\"$$$$$$$$$$$$$$$$\", FRAMENUM, classID, confidence, \"$$$$$$$$$$$$$\")\n",
        "\n",
        "\t# NMS\n",
        "\tidxs = cv2.dnn.NMSBoxes(boxes, confidences, CONFIDENCE_THRESHOLD,\n",
        "\t\tCONFIDENCE_THRESHOLD)\n",
        "\n",
        "\n",
        "\t#DETECTION\n",
        "\tif len(idxs) > 0:\n",
        "\t\tfor i in idxs.flatten():\n",
        "\t\t\tFRAMENUM = FRAMENUM + 1\n",
        "\t\t\t#print(\"FRAMENUM = :\", FRAMENUM)\n",
        "\t\t\t#print(\"IIIIIIIIIII\", i)\n",
        "\t\t\t# BOX COORDS\n",
        "\t\t\t(x, y) = (boxes[i][0], boxes[i][1])\n",
        "\t\t\t(w, h) = (boxes[i][2], boxes[i][3])\n",
        "\t\t\t#print(\"$$$$$$$$$$$$$$$$\", FRAMENUM, classID, confidence, \"$$$$$$$$$$$$$\")\n",
        "\t\t\tcolor = [int(c) for c in COLORS[classIDs[i]]]\n",
        "\t\t\tcv2.rectangle(image, (x, y), (x + w, y + h), color, 2)\n",
        "\t\t\ttext = \"{}: {:.4f}\".format(LABELS[classIDs[i]], confidences[i])\n",
        "\t\t\t#print(\"..........\", classIDs[i], \"..............TEXT\", text)\n",
        "\t\t\tcv2.putText(image, text, (x, y - 5), cv2.FONT_HERSHEY_SIMPLEX,\n",
        "\t\t\t\t0.5, color, 2)\n",
        "\t\t\t#print(\"TEXT = \" , text)\n",
        "\t\t\t#CURRENT REPORT...\n",
        "\t\t\t#print(\"This frame\", LABELS[classIDs[i]], confidences[i])\n",
        "\t \t\t# NOW HERE THE COUNTERS/ACCUMULATORS\n",
        "\t\t\tif LABELS[classIDs[i]] == \"car\":\n",
        "\t\t\t\tcarcc = carcc + 1\n",
        "\t\t\t\tcarconf = carconf + confidences[i]\n",
        "\t\t\t\tcarplot.append(confidences[i])\n",
        "\t\t\tif LABELS[classIDs[i]] == \"person\":\n",
        "\t\t\t\tpersoncc = personcc + 1\n",
        "\t\t\t\tpersonconf = personconf + confidences[i]\n",
        "\t\t\t\tpersonplot.append(confidences[i])\n",
        "\t\t\tif LABELS[classIDs[i]] == \"motorbike\":\n",
        "\t\t\t\tmotorbikecc = motorbikecc + 1\n",
        "\t\t\t\tmotorbikeconf = motorbikeconf + confidences[i]\n",
        "\t\t\t\tmotorbikeplot.append(confidences[i])\n",
        "\t\t\tif LABELS[classIDs[i]] == \"truck\":\n",
        "\t\t\t\ttruckcc = truckcc + 1\n",
        "\t\t\t\ttruckconf = truckconf + confidences[i]\n",
        "\t\t\t\ttruckplot.append(confidences[i])\n",
        "\t\t\t#print(\"///////////////////////////Cars = \", carcc, \" Confidences = \", carconf)\n",
        "\t\t\t#print(\"CONF = \", confidences[i])\n",
        "\n",
        "\t\t\t#print(\"Persons = \", personcc, \" Confidences = \", personconf)\n",
        "\t\t\t#print(\"CONF = \", confidences[i])\n",
        "\t \n",
        "\t\t\t#print(\"Motorbikes = \", motorbikecc, \" Confidences = \", motorbikeconf)\n",
        "\t\t\t#print(\"CONF = \", confidences[i])\n",
        "\n",
        "\t\t\t#print(\"Trucks = \", truckcc, \" Confidences = \", truckconf)\n",
        "\t\t\t#print(\"CONF = \", confidences[i])\n",
        "\n",
        "\t#ENDING LOOP LAYEROUTPUT\n",
        "\t#cv2.imshow(cv2.resize(image,(800, 600)))\n",
        "\twriter.write(cv2.resize(image,(800, 600)))\n",
        "\tfps.update()\n",
        "\t#print(\"[INFO] elasped time: {:.2f}\".format(fps.elapsed()))\n",
        "\t#print(\"[INFO] approx. FPS: {:.2f}\".format(fps.fps()))\n",
        "\tkey = cv2.waitKey(1) & 0xFF\n",
        "\tif key == ord(\"q\"):\n",
        "\t\tbreak\n",
        "\n",
        "\n",
        "\n",
        "#TOTALS........\n",
        "\n",
        "# TIMER\n",
        "current_GMT = time.gmtime()\n",
        "time_stamp_end = calendar.timegm(current_GMT)\n",
        "print(\"Start:\", time_stamp_start)\n",
        "print(\"End:\", time_stamp_end)\n",
        "print(\"Time:\", time_stamp_end - time_stamp_start)\n",
        "\n",
        "\n",
        "fps.stop()\n",
        "\n",
        "# REPORTS\n",
        "\n",
        "print(\"[INFO] elasped time: {:.2f}\".format(fps.elapsed()))\n",
        "print(\"[INFO] approx. FPS: {:.2f}\".format(fps.fps()))\n",
        "\n",
        "print(\"Cars = \", carcc, \" Confidences = \", carconf, \" Cars average confidence = \" , carconf/carcc)\n",
        "\n",
        "print(\"Persons = \", personcc, \" Confidences = \", personconf, \" Persons average confidence = \" , personconf/personcc)\n",
        "\n",
        "print(\"Motorbikes = \", motorbikecc, \" Confidences = \", motorbikeconf, \" Motobikes average confidence = \" , motorbikeconf/motorbikecc)\n",
        "\n",
        "print(\"Trucks = \", truckcc, \" Confidences = \", truckconf, \" Trucks average confidence = \" , truckconf/truckcc)\n",
        "\n",
        "# do a bit of cleanup\n",
        "cv2.destroyAllWindows()\n",
        "\n",
        "# release the file pointers\n",
        "print(\"[INFO] cleaning up...\")\n",
        "writer.release()\n",
        "vs.release()"
      ],
      "metadata": {
        "colab": {
          "base_uri": "https://localhost:8080/"
        },
        "id": "6IqpXX98lvHB",
        "outputId": "241e9257-5ba2-4c82-cfa4-d274ef35e77c"
      },
      "execution_count": null,
      "outputs": [
        {
          "output_type": "stream",
          "name": "stdout",
          "text": [
            "Current timestamp: 1662672972\n",
            "Frames so far 1\n",
            "#################################################################\n",
            "Frames so far 2\n",
            "#################################################################\n",
            "Frames so far 3\n",
            "#################################################################\n",
            "Frames so far 4\n",
            "#################################################################\n",
            "Frames so far 5\n",
            "#################################################################\n",
            "Frames so far 6\n",
            "#################################################################\n",
            "Frames so far 7\n",
            "#################################################################\n",
            "Frames so far 8\n",
            "#################################################################\n",
            "Frames so far 9\n",
            "#################################################################\n",
            "Frames so far 10\n",
            "#################################################################\n",
            "Frames so far 11\n",
            "#################################################################\n",
            "Frames so far 12\n",
            "#################################################################\n",
            "Frames so far 13\n",
            "#################################################################\n",
            "Frames so far 14\n",
            "#################################################################\n",
            "Frames so far 15\n",
            "#################################################################\n",
            "Frames so far 16\n",
            "#################################################################\n",
            "Frames so far 17\n",
            "#################################################################\n",
            "Frames so far 18\n",
            "#################################################################\n",
            "Frames so far 19\n",
            "#################################################################\n",
            "Frames so far 20\n",
            "#################################################################\n",
            "Frames so far 21\n",
            "#################################################################\n",
            "Frames so far 22\n",
            "#################################################################\n",
            "Frames so far 23\n",
            "#################################################################\n",
            "Frames so far 24\n",
            "#################################################################\n",
            "Frames so far 25\n",
            "#################################################################\n",
            "Frames so far 26\n",
            "#################################################################\n",
            "Frames so far 27\n",
            "#################################################################\n",
            "Frames so far 28\n",
            "#################################################################\n",
            "Frames so far 29\n",
            "#################################################################\n",
            "Frames so far 30\n",
            "#################################################################\n",
            "Frames so far 31\n",
            "#################################################################\n",
            "Frames so far 32\n",
            "#################################################################\n",
            "Frames so far 33\n",
            "#################################################################\n",
            "Frames so far 34\n",
            "#################################################################\n",
            "Frames so far 35\n",
            "#################################################################\n",
            "Frames so far 36\n",
            "#################################################################\n",
            "Frames so far 37\n",
            "#################################################################\n",
            "Frames so far 38\n",
            "#################################################################\n",
            "Frames so far 39\n",
            "#################################################################\n",
            "Frames so far 40\n",
            "#################################################################\n",
            "Frames so far 41\n",
            "#################################################################\n",
            "Frames so far 42\n",
            "#################################################################\n",
            "Frames so far 43\n",
            "#################################################################\n",
            "Frames so far 44\n",
            "#################################################################\n",
            "Frames so far 45\n",
            "#################################################################\n",
            "Frames so far 46\n",
            "#################################################################\n",
            "Frames so far 47\n",
            "#################################################################\n",
            "Frames so far 48\n",
            "#################################################################\n",
            "Frames so far 49\n",
            "#################################################################\n",
            "Frames so far 50\n",
            "#################################################################\n",
            "Frames so far 51\n",
            "#################################################################\n",
            "Frames so far 52\n",
            "#################################################################\n",
            "Frames so far 53\n",
            "#################################################################\n",
            "Frames so far 54\n",
            "#################################################################\n",
            "Frames so far 55\n",
            "#################################################################\n",
            "Frames so far 56\n",
            "#################################################################\n",
            "Frames so far 57\n",
            "#################################################################\n",
            "Frames so far 58\n",
            "#################################################################\n",
            "Frames so far 59\n",
            "#################################################################\n",
            "Frames so far 60\n",
            "#################################################################\n",
            "Frames so far 61\n",
            "#################################################################\n",
            "Frames so far 62\n",
            "#################################################################\n",
            "Frames so far 63\n",
            "#################################################################\n",
            "Frames so far 64\n",
            "#################################################################\n",
            "Frames so far 65\n",
            "#################################################################\n",
            "Frames so far 66\n",
            "#################################################################\n",
            "Frames so far 67\n",
            "#################################################################\n",
            "Frames so far 68\n",
            "#################################################################\n",
            "Frames so far 69\n",
            "#################################################################\n",
            "Frames so far 70\n",
            "#################################################################\n",
            "Frames so far 71\n",
            "#################################################################\n",
            "Frames so far 72\n",
            "#################################################################\n",
            "Frames so far 73\n",
            "#################################################################\n",
            "Frames so far 74\n",
            "#################################################################\n",
            "Frames so far 75\n",
            "#################################################################\n",
            "Frames so far 76\n",
            "#################################################################\n",
            "Frames so far 77\n",
            "#################################################################\n",
            "Frames so far 78\n",
            "#################################################################\n",
            "Frames so far 79\n",
            "#################################################################\n",
            "Frames so far 80\n",
            "#################################################################\n",
            "Frames so far 81\n",
            "#################################################################\n",
            "Frames so far 82\n",
            "#################################################################\n",
            "Frames so far 83\n",
            "#################################################################\n",
            "Frames so far 84\n",
            "#################################################################\n",
            "Frames so far 85\n",
            "#################################################################\n",
            "Frames so far 86\n",
            "#################################################################\n",
            "Frames so far 87\n",
            "#################################################################\n",
            "Frames so far 88\n",
            "#################################################################\n",
            "Frames so far 89\n",
            "#################################################################\n",
            "Frames so far 90\n",
            "#################################################################\n",
            "Frames so far 91\n",
            "#################################################################\n",
            "Frames so far 92\n",
            "#################################################################\n",
            "Frames so far 93\n",
            "#################################################################\n",
            "Frames so far 94\n",
            "#################################################################\n",
            "Frames so far 95\n",
            "#################################################################\n",
            "Frames so far 96\n",
            "#################################################################\n",
            "Frames so far 97\n",
            "#################################################################\n",
            "Frames so far 98\n",
            "#################################################################\n",
            "Frames so far 99\n",
            "#################################################################\n",
            "Frames so far 100\n",
            "#################################################################\n",
            "Frames so far 101\n",
            "#################################################################\n",
            "Frames so far 102\n",
            "Start: 1662672972\n",
            "End: 1662673121\n",
            "Time: 149\n",
            "[INFO] elasped time: 149.02\n",
            "[INFO] approx. FPS: 0.68\n",
            "Cars =  1355  Confidences =  1142.9342340230942  Cars average confidence =  0.84349389964804\n",
            "Persons =  482  Confidences =  364.10805052518845  Persons average confidence =  0.7554108932057851\n",
            "Motorbikes =  527  Confidences =  444.87816819548607  Motobikes average confidence =  0.8441710971451348\n",
            "Trucks =  55  Confidences =  35.45285207033157  Trucks average confidence =  0.6445973103696649\n",
            "[INFO] cleaning up...\n"
          ]
        }
      ]
    },
    {
      "cell_type": "code",
      "source": [
        "\n",
        "\n",
        "# PLOT SCORES RESULTS\n",
        "\n",
        "import matplotlib.pyplot as plt\n",
        "import numpy as np\n",
        "plt.style.use('dark_background')\n",
        "\n",
        "xkeys = ['Cars', 'Persons', 'Motobikes', 'Trucks']\n",
        "xvalues = [carconf/carcc, personconf/personcc, motorbikeconf/motorbikecc, truckconf/truckcc]\n",
        "xd = dict(zip(xkeys, xvalues))\n",
        "print(xd)\n",
        "print()\n",
        "\n",
        "\n",
        "\n",
        "group_data = list(xd.values())\n",
        "group_names = list(xd.keys())\n",
        "group_mean = np.mean(group_data)\n",
        "\n",
        "fig, ax = plt.subplots()\n",
        "ax.set_xlim([0,1])\n",
        "ax.barh(group_names, group_data)"
      ],
      "metadata": {
        "id": "_vZTFwmHlvJp",
        "colab": {
          "base_uri": "https://localhost:8080/",
          "height": 317
        },
        "outputId": "a25cb7db-2efb-45cc-a548-8632d9d3f031"
      },
      "execution_count": null,
      "outputs": [
        {
          "output_type": "stream",
          "name": "stdout",
          "text": [
            "{'Cars': 0.84349389964804, 'Persons': 0.7554108932057851, 'Motobikes': 0.8441710971451348, 'Trucks': 0.6445973103696649}\n",
            "\n"
          ]
        },
        {
          "output_type": "execute_result",
          "data": {
            "text/plain": [
              "<BarContainer object of 4 artists>"
            ]
          },
          "metadata": {},
          "execution_count": 5
        },
        {
          "output_type": "display_data",
          "data": {
            "text/plain": [
              "<Figure size 432x288 with 1 Axes>"
            ],
            "image/png": "[encoded data removed]"
          },
          "metadata": {}
        }
      ]
    },
    {
      "cell_type": "code",
      "source": [
        "print(truckconf)"
      ],
      "metadata": {
        "colab": {
          "base_uri": "https://localhost:8080/"
        },
        "id": "Bt07cRVd-h7Y",
        "outputId": "5d5a3ec3-8e68-4721-a746-4f7170eb0817"
      },
      "execution_count": null,
      "outputs": [
        {
          "output_type": "stream",
          "name": "stdout",
          "text": [
            "35.45285207033157\n"
          ]
        }
      ]
    },
    {
      "cell_type": "code",
      "source": [],
      "metadata": {
        "id": "__OnAck4lvPT"
      },
      "execution_count": null,
      "outputs": []
    },
    {
      "cell_type": "code",
      "source": [
        "\n",
        "#  This part transfer save to be load via drive in ImageAI notebook\n",
        "\n",
        "from matplotlib import docstring\n",
        "import numpy as np \n",
        "co = carplot # create an array of 1000 1's for the example \n",
        "po = personplot\n",
        "mo = motorbikeplot\n",
        "to = truckplot\n",
        "xv = xvalues\n",
        "\n",
        "np.save('/content/drive/MyDrive/colab/cocv', co)\n",
        "\n",
        "np.save('/content/drive/MyDrive/colab/pocv', po)\n",
        "        \n",
        "np.save('/content/drive/MyDrive/colab/mocv', mo)\n",
        "        \n",
        "np.save('/content/drive/MyDrive/colab/tocv', to)\n",
        "\n",
        "np.save('/content/drive/MyDrive/colab/var/xv01cv', xv)\n",
        " "
      ],
      "metadata": {
        "id": "tvaEmp1li4LC"
      },
      "execution_count": null,
      "outputs": []
    },
    {
      "cell_type": "code",
      "source": [
        "print(xv)"
      ],
      "metadata": {
        "id": "XeLJWYJghe9g",
        "colab": {
          "base_uri": "https://localhost:8080/"
        },
        "outputId": "e08e98d3-3a6a-4553-b4f3-6e057b790652"
      },
      "execution_count": null,
      "outputs": [
        {
          "output_type": "stream",
          "name": "stdout",
          "text": [
            "[0.84349389964804, 0.7554108932057851, 0.8441710971451348, 0.6445973103696649]\n"
          ]
        }
      ]
    },
    {
      "cell_type": "code",
      "source": [
        "# FOR TEST ONLY\n",
        "\n",
        "ci = np.load('/content/drive/MyDrive/colab/co.npy') \n",
        "print(ci)"
      ],
      "metadata": {
        "id": "hmlGEAuoy0Jo",
        "colab": {
          "base_uri": "https://localhost:8080/"
        },
        "outputId": "fcdb64c5-c363-448e-89f7-747fec49d6e3"
      },
      "execution_count": null,
      "outputs": [
        {
          "output_type": "stream",
          "name": "stdout",
          "text": [
            "[0.99773782 0.9943735  0.9893496  ... 0.87632495 0.86970335 0.81949931]\n"
          ]
        }
      ]
    },
    {
      "cell_type": "code",
      "source": [
        "#Tranfer timestamp to ImageAI\n",
        "\n",
        "trans_time = time_stamp_end - time_stamp_start\n",
        "file = open(\"/content/drive/MyDrive/colab/var/transtime01cv.txt\", \"w\")\n",
        "str = repr(trans_time)\n",
        "file.write(str)\n",
        "file.close()\n",
        "\n",
        "\n",
        " \n"
      ],
      "metadata": {
        "id": "F7qqS3dQcQRh"
      },
      "execution_count": null,
      "outputs": []
    }
  ]
}
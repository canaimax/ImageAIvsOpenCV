{
  "cells": [
    {
      "cell_type": "markdown",
      "metadata": {
        "id": "qPa6bUafys0d"
      },
      "source": []
    },
    {
      "cell_type": "code",
      "execution_count": 4,
      "metadata": {
        "id": "ZGz4tceyCga-"
      },
      "outputs": [],
      "source": []
    },
    {
      "cell_type": "code",
      "execution_count": 4,
      "metadata": {
        "id": "acKHaHZ-qnWE"
      },
      "outputs": [],
      "source": []
    },
    {
      "cell_type": "markdown",
      "metadata": {
        "id": "spCV35vkpKPb"
      },
      "source": [
        "Gus Marquez IS687\n",
        "\n",
        "Captain's ImageAI Object Detection in Video\n",
        "\n",
        "(Help for these code can be found in ImageAI\n",
        "\n",
        "  additional graphs in seaborn    numpy and pandas documentation)\n",
        "\n",
        "Google Drive Mounted /content/drive/MyDrive/colab/\n",
        "\n",
        "LOAD LIBRARIES and SETUP"
      ]
    },
    {
      "cell_type": "code",
      "execution_count": 4,
      "metadata": {
        "id": "YjRd7Nkvqogv"
      },
      "outputs": [],
      "source": []
    },
    {
      "cell_type": "code",
      "execution_count": 5,
      "metadata": {
        "colab": {
          "base_uri": "https://localhost:8080/"
        },
        "id": "z8vrfg_Vohu_",
        "outputId": "dbd1f805-2a03-4f16-fdc8-e5019040d720"
      },
      "outputs": [
        {
          "name": "stdout",
          "output_type": "stream",
          "text": [
            "Mounted at /content/drive\n"
          ]
        }
      ],
      "source": [
        "from google.colab import drive\n",
        "drive.mount('/content/drive')"
      ]
    },
    {
      "cell_type": "markdown",
      "metadata": {
        "id": "H8obayaURKGr"
      },
      "source": [
        "SETUP Imports and counters/accumulators"
      ]
    },
    {
      "cell_type": "code",
      "execution_count": 6,
      "metadata": {
        "id": "6ySplNzLRIEs"
      },
      "outputs": [],
      "source": [
        "from imageai.Detection import VideoObjectDetection\n",
        "import os\n",
        "import time\n",
        "import calendar\n",
        "import imutils\n",
        "from imutils.video import FPS\n",
        "from imutils.video import VideoStream\n",
        "\n",
        "\n",
        "\n",
        "carcc = 0; carconf = 0; carplot=[]\n",
        "personcc = 0; personconf = 0; personplot=[]\n",
        "motorbikecc = 0; motorbikeconf = 0; motorbikeplot = []\n",
        "truckcc = 0; truckconf = 0; truckplot = []\n",
        "xxx=0"
      ]
    },
    {
      "cell_type": "markdown",
      "metadata": {
        "id": "HzFY2tSrRYwD"
      },
      "source": [
        "Run Detector"
      ]
    },
    {
      "cell_type": "code",
      "execution_count": 7,
      "metadata": {
        "colab": {
          "base_uri": "https://localhost:8080/"
        },
        "id": "J4RvR0hVqomi",
        "outputId": "8ae7534e-b171-4ae8-9c72-992a0016ea10"
      },
      "outputs": [
        {
          "name": "stdout",
          "output_type": "stream",
          "text": [
            "Current timestamp: 1662351310\n",
            "------------END OF A FRAME --------------\n",
            "Processing Frame :  1\n",
            "Processing Frame :  2\n",
            "Processing Frame :  3\n",
            "Processing Frame :  4\n",
            "Processing Frame :  5\n",
            "Processing Frame :  6\n",
            "Processing Frame :  7\n",
            "Processing Frame :  8\n",
            "Processing Frame :  9\n",
            "Processing Frame :  10\n",
            "Processing Frame :  11\n",
            "Processing Frame :  12\n",
            "Processing Frame :  13\n",
            "Processing Frame :  14\n",
            "Processing Frame :  15\n",
            "Processing Frame :  16\n",
            "Processing Frame :  17\n",
            "Processing Frame :  18\n",
            "Processing Frame :  19\n",
            "Processing Frame :  20\n",
            "Processing Frame :  21\n",
            "Processing Frame :  22\n",
            "Processing Frame :  23\n",
            "Processing Frame :  24\n",
            "Processing Frame :  25\n",
            "Processing Frame :  26\n",
            "Processing Frame :  27\n",
            "Processing Frame :  28\n",
            "Processing Frame :  29\n",
            "Processing Frame :  30\n",
            "Processing Frame :  31\n",
            "Processing Frame :  32\n",
            "Processing Frame :  33\n",
            "Processing Frame :  34\n",
            "Processing Frame :  35\n",
            "Processing Frame :  36\n",
            "Processing Frame :  37\n",
            "Processing Frame :  38\n",
            "Processing Frame :  39\n",
            "Processing Frame :  40\n",
            "Processing Frame :  41\n",
            "Processing Frame :  42\n",
            "Processing Frame :  43\n",
            "Processing Frame :  44\n",
            "Processing Frame :  45\n",
            "Processing Frame :  46\n",
            "Processing Frame :  47\n",
            "Processing Frame :  48\n",
            "Processing Frame :  49\n",
            "Processing Frame :  50\n",
            "Processing Frame :  51\n",
            "Processing Frame :  52\n",
            "Processing Frame :  53\n",
            "Processing Frame :  54\n",
            "Processing Frame :  55\n",
            "Processing Frame :  56\n",
            "Processing Frame :  57\n",
            "Processing Frame :  58\n",
            "Processing Frame :  59\n",
            "Processing Frame :  60\n",
            "Processing Frame :  61\n",
            "Processing Frame :  62\n",
            "Processing Frame :  63\n",
            "Processing Frame :  64\n",
            "Processing Frame :  65\n",
            "Processing Frame :  66\n",
            "Processing Frame :  67\n",
            "Processing Frame :  68\n",
            "Processing Frame :  69\n",
            "Processing Frame :  70\n",
            "Processing Frame :  71\n",
            "Processing Frame :  72\n",
            "Processing Frame :  73\n",
            "Processing Frame :  74\n",
            "Processing Frame :  75\n",
            "Processing Frame :  76\n",
            "Processing Frame :  77\n",
            "Processing Frame :  78\n",
            "Processing Frame :  79\n",
            "Processing Frame :  80\n",
            "Processing Frame :  81\n",
            "Processing Frame :  82\n",
            "Processing Frame :  83\n",
            "Processing Frame :  84\n",
            "Processing Frame :  85\n",
            "Processing Frame :  86\n",
            "Processing Frame :  87\n",
            "Processing Frame :  88\n",
            "Processing Frame :  89\n",
            "Processing Frame :  90\n",
            "Processing Frame :  91\n",
            "Processing Frame :  92\n",
            "Processing Frame :  93\n",
            "Processing Frame :  94\n",
            "Processing Frame :  95\n",
            "Processing Frame :  96\n",
            "Processing Frame :  97\n",
            "Processing Frame :  98\n",
            "Processing Frame :  99\n",
            "Start: 1662351310\n",
            "End: 1662351693\n",
            "Time: 383\n",
            "[INFO] elasped time: 383.39\n",
            "[INFO] approx. FPS: 3.24\n",
            "///////////// CARtotal  404 279.0791999697685 0.6907900989350706\n",
            "///////////// PERSONtotal  451 351.7157553434372 0.7798575506506368\n",
            "///////////// MOTORBIKEtotal  196 152.58049947023392 0.778471936072622\n",
            "///////////// TRUCKtotal  46 25.096771121025085 0.5455819808918497\n",
            "/content/drive/MyDrive/colab/detectedeng302ai.avi\n"
          ]
        }
      ],
      "source": [
        "\n",
        "#TIMER\n",
        "\n",
        "current_GMT = time.gmtime()\n",
        "time_stamp_start = calendar.timegm(current_GMT)\n",
        "print(\"Current timestamp:\", time_stamp_start)\n",
        "\n",
        "fps = FPS().start()\n",
        "\n",
        "#RUN\n",
        "execution_path = os.getcwd()\n",
        "\n",
        "# THIS IS THE OPTION FUNCTION FOR IMAGEAI THAT YOU CAN IMPROVISE\n",
        "# I USE IT FOR COUNTERS AND ACCUMULATORS\n",
        "\n",
        "def forFrame(frame_number, output_array, output_count):\n",
        "  global carcc, carconf, personcc, personconf\n",
        "  global motorbikecc, motorbikeconf, truckcc, truckconf\n",
        "  #print(\"FOR FRAME  \" , frame_number, \"   ++++++++++++++++++++++++++++++++++++++++++++++++++\")\n",
        "  #print(\"Output for each object : \", output_array)\n",
        "  #print(\"Output count for unique objects : \", output_count)\n",
        "  #print(type(output_array))\n",
        "  #print(\">>>>>\", output_array[0])\n",
        "  #for key,value in output_array[0].items():\n",
        "\t  #print(key, ':', value)\n",
        "\n",
        "  #  Countes/accumulators\n",
        "  for item in output_array:\n",
        "      conf = item.get(\"percentage_probability\")\n",
        "      flag = item.get(\"name\")\n",
        "      #print(\"*****\", flag, conf)\n",
        "      if flag == \"car\":\n",
        "        carcc = carcc + 1\n",
        "        carconf = carconf + conf/100\n",
        "        carplot.append(conf/100)\n",
        "      if flag == \"person\":\n",
        "        personcc = personcc + 1\n",
        "        personconf = personconf + conf/100\n",
        "        personplot.append(conf/100)\n",
        "      if flag == \"motorcycle\":\n",
        "        motorbikecc = motorbikecc + 1\n",
        "        motorbikeconf = motorbikeconf + conf/100\n",
        "        motorbikeplot.append(conf/100)\n",
        "      if flag == \"truck\":\n",
        "        truckcc = truckcc + 1\n",
        "        truckconf = truckconf + conf/100\n",
        "        truckplot.append(conf/100)\n",
        "\n",
        "      #print(\"CAR\", carcc, \"PERSON\", personcc, \"MOTORCYCLE\", motorbikecc, \"TRUCK\", truckcc)\n",
        "      fps.update()\n",
        "    \n",
        "   \n",
        "\n",
        "print(\"------------END OF A FRAME --------------\")\n",
        "\n",
        "# STANDARD Video Detection in Video code from ImageAI\n",
        "# YOLOv3 version\n",
        "\n",
        "detector = VideoObjectDetection()\n",
        "detector.setModelTypeAsYOLOv3()\n",
        "detector.setModelPath( os.path.join(execution_path , \"/content/drive/MyDrive/colab/yolo.h5\"))\n",
        "detector.loadModel()\n",
        "\n",
        "video_path = detector.detectObjectsFromVideo(input_file_path=os.path.join(execution_path, \"/content/drive/MyDrive/colab/england_mini.mp4\"),\n",
        "                                output_file_path=os.path.join(execution_path, \"/content/drive/MyDrive/colab/detectedeng302ai\")\n",
        "                                , frames_per_second=20, log_progress=True, display_percentage_probability=True, display_object_name=True, per_frame_function=forFrame)\n",
        "\n",
        "\n",
        "\n",
        "#  ENDING - REPORTS\n",
        "current_GMT = time.gmtime()\n",
        "time_stamp_end = calendar.timegm(current_GMT)\n",
        "print(\"Start:\", time_stamp_start)\n",
        "print(\"End:\", time_stamp_end)\n",
        "print(\"Time:\", time_stamp_end - time_stamp_start)\n",
        "\n",
        "\n",
        "\n",
        "fps.update()\n",
        "fps.stop()\n",
        "\n",
        "print(\"[INFO] elasped time: {:.2f}\".format(fps.elapsed()))\n",
        "print(\"[INFO] approx. FPS: {:.2f}\".format(fps.fps()))\n",
        "\n",
        "print(\"///////////// CARtotal \", carcc, carconf, carconf/carcc)\n",
        "print(\"///////////// PERSONtotal \", personcc, personconf, personconf/personcc)\n",
        "print(\"///////////// MOTORBIKEtotal \", motorbikecc, motorbikeconf, motorbikeconf/motorbikecc)\n",
        "print(\"///////////// TRUCKtotal \", truckcc, truckconf, truckconf/truckcc)\n",
        "print(video_path)"
      ]
    },
    {
      "cell_type": "code",
      "execution_count": 8,
      "metadata": {
        "colab": {
          "base_uri": "https://localhost:8080/"
        },
        "id": "npumCTGtqosM",
        "outputId": "07db4031-91ac-40fd-973d-ac77f4a653bc"
      },
      "outputs": [
        {
          "name": "stdout",
          "output_type": "stream",
          "text": [
            "404\n"
          ]
        }
      ],
      "source": [
        "print(len(carplot))"
      ]
    },
    {
      "cell_type": "code",
      "execution_count": 9,
      "metadata": {
        "colab": {
          "base_uri": "https://localhost:8080/",
          "height": 471
        },
        "id": "86tSxSnNcApr",
        "outputId": "99508065-5dce-40a9-8d76-d6b562527477"
      },
      "outputs": [
        {
          "name": "stdout",
          "output_type": "stream",
          "text": [
            "Looking in indexes: https://pypi.org/simple, https://us-python.pkg.dev/colab-wheels/public/simple/\n",
            "Collecting matplotlib==3.1.3\n",
            "  Downloading matplotlib-3.1.3-cp37-cp37m-manylinux1_x86_64.whl (13.1 MB)\n",
            "\u001b[K     |████████████████████████████████| 13.1 MB 511 kB/s \n",
            "\u001b[?25hRequirement already satisfied: numpy>=1.11 in /usr/local/lib/python3.7/dist-packages (from matplotlib==3.1.3) (1.19.3)\n",
            "Requirement already satisfied: pyparsing!=2.0.4,!=2.1.2,!=2.1.6,>=2.0.1 in /usr/local/lib/python3.7/dist-packages (from matplotlib==3.1.3) (3.0.9)\n",
            "Requirement already satisfied: python-dateutil>=2.1 in /usr/local/lib/python3.7/dist-packages (from matplotlib==3.1.3) (2.8.2)\n",
            "Requirement already satisfied: cycler>=0.10 in /usr/local/lib/python3.7/dist-packages (from matplotlib==3.1.3) (0.11.0)\n",
            "Requirement already satisfied: kiwisolver>=1.0.1 in /usr/local/lib/python3.7/dist-packages (from matplotlib==3.1.3) (1.4.4)\n",
            "Requirement already satisfied: typing-extensions in /usr/local/lib/python3.7/dist-packages (from kiwisolver>=1.0.1->matplotlib==3.1.3) (3.7.4.3)\n",
            "Requirement already satisfied: six>=1.5 in /usr/local/lib/python3.7/dist-packages (from python-dateutil>=2.1->matplotlib==3.1.3) (1.15.0)\n",
            "Installing collected packages: matplotlib\n",
            "  Attempting uninstall: matplotlib\n",
            "    Found existing installation: matplotlib 3.3.2\n",
            "    Uninstalling matplotlib-3.3.2:\n",
            "      Successfully uninstalled matplotlib-3.3.2\n",
            "\u001b[31mERROR: pip's dependency resolver does not currently take into account all the packages that are installed. This behaviour is the source of the following dependency conflicts.\n",
            "plotnine 0.8.0 requires scipy>=1.5.0, but you have scipy 1.4.1 which is incompatible.\n",
            "imageai 2.1.6 requires matplotlib==3.3.2, but you have matplotlib 3.1.3 which is incompatible.\u001b[0m\n",
            "Successfully installed matplotlib-3.1.3\n"
          ]
        },
        {
          "data": {
            "application/vnd.colab-display-data+json": {
              "pip_warning": {
                "packages": [
                  "matplotlib",
                  "mpl_toolkits"
                ]
              }
            }
          },
          "metadata": {},
          "output_type": "display_data"
        }
      ],
      "source": [
        "\n",
        "pip install matplotlib==3.1.3"
      ]
    },
    {
      "cell_type": "code",
      "execution_count": 10,
      "metadata": {
        "colab": {
          "base_uri": "https://localhost:8080/",
          "height": 317
        },
        "id": "MW9rz38BkozO",
        "outputId": "5f6116f3-cc13-4d59-acd7-e797d28440a2"
      },
      "outputs": [
        {
          "name": "stdout",
          "output_type": "stream",
          "text": [
            "{'Cars': 0.6907900989350706, 'Persons': 0.7798575506506368, 'Motobikes': 0.778471936072622, 'Trucks': 0.5455819808918497}\n",
            "\n"
          ]
        },
        {
          "data": {
            "text/plain": [
              "<BarContainer object of 4 artists>"
            ]
          },
          "execution_count": 10,
          "metadata": {},
          "output_type": "execute_result"
        },
        {
          "data": {
            "image/png": "[encoded data removed]",
            "text/plain": [
              "<Figure size 432x288 with 1 Axes>"
            ]
          },
          "metadata": {},
          "output_type": "display_data"
        }
      ],
      "source": [
        "\n",
        "#  PLOT SCORE RESULTS\n",
        "\n",
        "import matplotlib.pyplot as plt\n",
        "import numpy as np\n",
        "plt.style.use('dark_background')\n",
        "\n",
        "xkeys = ['Cars', 'Persons', 'Motobikes', 'Trucks']\n",
        "xvalues = [carconf/carcc, personconf/personcc, motorbikeconf/motorbikecc, truckconf/truckcc]\n",
        "xd = dict(zip(xkeys, xvalues))\n",
        "print(xd)\n",
        "print()\n",
        "\n",
        "\n",
        "\n",
        "group_data = list(xd.values())\n",
        "group_names = list(xd.keys())\n",
        "group_mean = np.mean(group_data)\n",
        "\n",
        "fig, ax = plt.subplots()\n",
        "ax.barh(group_names, group_data)"
      ]
    },
    {
      "cell_type": "code",
      "execution_count": 10,
      "metadata": {
        "id": "NYTsb9-oko3Y"
      },
      "outputs": [],
      "source": []
    },
    {
      "cell_type": "code",
      "execution_count": 11,
      "metadata": {
        "colab": {
          "base_uri": "https://localhost:8080/"
        },
        "id": "QXo4_qRZko7l",
        "outputId": "3e139f14-a5d1-46a0-fc49-d0a671d65b31"
      },
      "outputs": [
        {
          "name": "stdout",
          "output_type": "stream",
          "text": [
            "451\n"
          ]
        }
      ],
      "source": [
        "print(len(personplot))"
      ]
    },
    {
      "cell_type": "code",
      "execution_count": 11,
      "metadata": {
        "id": "L0Ciswy_XImR"
      },
      "outputs": [],
      "source": []
    },
    {
      "cell_type": "code",
      "execution_count": 23,
      "metadata": {
        "id": "ro7jqhE8x7ZV"
      },
      "outputs": [],
      "source": [
        "#  LOAD RESULTS FROM OPENCV\n",
        "\n",
        "import numpy as np\n",
        "import matplotlib.pyplot as plt\n",
        "\n",
        "co02ai = carplot # create an array of 1000 1's for the example \n",
        "po02ai = personplot\n",
        "mo02ai = motorbikeplot\n",
        "to02ai = truckplot\n",
        "xv02ai = xvalues\n",
        "\n",
        "np.save('/content/drive/MyDrive/colab/var/co02ai', co02ai)\n",
        "\n",
        "np.save('/content/drive/MyDrive/colab/var/po02ai', po02ai)\n",
        "        \n",
        "np.save('/content/drive/MyDrive/colab/var/mo02ai', mo02ai)\n",
        "        \n",
        "np.save('/content/drive/MyDrive/colab/var/to02ai', to02ai)\n",
        "\n",
        "np.save('/content/drive/MyDrive/colab/var/xv02ai', xv02ai)\n"
      ]
    },
    {
      "cell_type": "code",
      "execution_count": 24,
      "metadata": {
        "id": "O2oCV48m5vcj"
      },
      "outputs": [],
      "source": [
        "#Tranfer timestamp to ImageAI\n",
        "\n",
        "trans_time = time_stamp_end - time_stamp_start\n",
        "file = open(\"/content/drive/MyDrive/colab/var/transtime02ai.txt\", \"w\")\n",
        "str = repr(trans_time)\n",
        "file.write(str)\n",
        "file.close()"
      ]
    },
    {
      "cell_type": "code",
      "execution_count": 13,
      "metadata": {
        "colab": {
          "base_uri": "https://localhost:8080/"
        },
        "id": "iI3B4xkdScM7",
        "outputId": "087e433b-1860-4725-a219-879c614541fe"
      },
      "outputs": [
        {
          "name": "stdout",
          "output_type": "stream",
          "text": [
            "0.7371704578399658\n"
          ]
        }
      ],
      "source": [
        "print(carplot[0])"
      ]
    },
    {
      "cell_type": "markdown",
      "metadata": {
        "id": "eWqcJMX-XTNk"
      },
      "source": [
        "BELOW WILL PLOT ALL DETECTIONS FROM OpenCV (CV) and ImageAI  (AI)\n"
      ]
    },
    {
      "cell_type": "code",
      "execution_count": 14,
      "metadata": {
        "colab": {
          "base_uri": "https://localhost:8080/",
          "height": 280
        },
        "id": "NSt8CpFM5EmX",
        "outputId": "9e258e5b-62da-4384-d05a-ef93aac446bd"
      },
      "outputs": [
        {
          "data": {
            "image/png": "[encoded data removed]",
            "text/plain": [
              "<Figure size 432x288 with 2 Axes>"
            ]
          },
          "metadata": {},
          "output_type": "display_data"
        }
      ],
      "source": [
        "\n",
        "x1 = np.array(range(0, len(ci)))\n",
        "y1 = ci\n",
        "\n",
        "x2 = np.array(range(0, len(carplot)))\n",
        "y2 = carplot\n",
        "\n",
        "plt.subplot(1, 2, 1)\n",
        "plt.scatter(x1, y1)\n",
        "plt.xlabel(\"CARS CV\")\n",
        "\n",
        "plt.subplot(1, 2, 2)\n",
        "plt.scatter(x2, y2)\n",
        "plt.xlabel(\"CARS AI\")\n",
        "\n",
        "plt.show()"
      ]
    },
    {
      "cell_type": "code",
      "execution_count": 15,
      "metadata": {
        "colab": {
          "base_uri": "https://localhost:8080/",
          "height": 283
        },
        "id": "9bZmJdd5lWYZ",
        "outputId": "f26fad95-ebfd-4ce1-eff1-e888bf5b6af1"
      },
      "outputs": [
        {
          "data": {
            "image/png": "[encoded data removed]",
            "text/plain": [
              "<Figure size 432x288 with 2 Axes>"
            ]
          },
          "metadata": {},
          "output_type": "display_data"
        }
      ],
      "source": [
        "\n",
        "x1 = np.array(range(0, len(pi)))\n",
        "y1 =pi\n",
        "\n",
        "x2 = np.array(range(0, len(personplot)))\n",
        "y2 = personplot\n",
        "\n",
        "plt.subplot(1, 2, 1)\n",
        "plt.scatter(x1, y1, color = \"red\")\n",
        "plt.xlabel(\"PERSON CV\")\n",
        "plt.ylim([0,1])\n",
        "\n",
        "plt.subplot(1, 2, 2)\n",
        "plt.scatter(x2, y2, color = \"red\")\n",
        "plt.xlabel(\"PERSON AI/100\")\n",
        "plt.ylim([0,1])\n",
        "\n",
        "#plt.legend([\"blue\", \"green\"], loc =\"lower right\")\n",
        "\n",
        "plt.show()"
      ]
    },
    {
      "cell_type": "code",
      "execution_count": 16,
      "metadata": {
        "colab": {
          "base_uri": "https://localhost:8080/",
          "height": 279
        },
        "id": "SHC6VyvPlWbt",
        "outputId": "b495e6f0-1b8b-4964-abe4-f2bc2808cc6f"
      },
      "outputs": [
        {
          "data": {
            "image/png": "[encoded data removed]",
            "text/plain": [
              "<Figure size 432x288 with 2 Axes>"
            ]
          },
          "metadata": {},
          "output_type": "display_data"
        }
      ],
      "source": [
        "\n",
        "x1 = np.array(range(0, len(mi)))\n",
        "y1 = mi\n",
        "\n",
        "x2 = np.array(range(0, len(motorbikeplot)))\n",
        "y2 = motorbikeplot\n",
        "\n",
        "plt.subplot(1, 2, 1)\n",
        "plt.scatter(x1, y1, color = \"blue\")\n",
        "plt.xlabel(\"MOTORCYCLES CV\")\n",
        "\n",
        "plt.subplot(1, 2, 2)\n",
        "plt.scatter(x2, y2, color = \"blue\")\n",
        "plt.xlabel(\"MOTORCYCLES AI\")\n",
        "\n",
        "plt.show()"
      ]
    },
    {
      "cell_type": "code",
      "execution_count": 17,
      "metadata": {
        "colab": {
          "base_uri": "https://localhost:8080/",
          "height": 283
        },
        "id": "z9gi_p5olWe-",
        "outputId": "ad594ae3-ccb7-440e-e8ed-a43a36d099a5"
      },
      "outputs": [
        {
          "data": {
            "image/png": "[encoded data removed]",
            "text/plain": [
              "<Figure size 432x288 with 2 Axes>"
            ]
          },
          "metadata": {},
          "output_type": "display_data"
        }
      ],
      "source": [
        "\n",
        "x1 = np.array(range(0, len(ti)))\n",
        "y1 = ti\n",
        "\n",
        "x2 = np.array(range(0, len(truckplot)))\n",
        "y2 = truckplot\n",
        "\n",
        "plt.subplot(1, 2, 1)\n",
        "plt.scatter(x1, y1, color = \"yellow\")\n",
        "plt.xlabel(\"TRUCKS CV\")\n",
        "plt.ylim([0,1])\n",
        "\n",
        "plt.subplot(1, 2, 2)\n",
        "plt.scatter(x2, y2, color = \"yellow\")\n",
        "plt.xlabel(\"TRUCKS AI\")\n",
        "plt.ylim([0,1])\n",
        "\n",
        "plt.show()"
      ]
    },
    {
      "cell_type": "code",
      "execution_count": 17,
      "metadata": {
        "id": "TOs6wvXse6Us"
      },
      "outputs": [],
      "source": []
    },
    {
      "cell_type": "markdown",
      "metadata": {
        "id": "OZRztn1KrVfV"
      },
      "source": [
        "ANALYSIS and FINDINGS REPORTS"
      ]
    },
    {
      "cell_type": "code",
      "execution_count": 18,
      "metadata": {
        "colab": {
          "base_uri": "https://localhost:8080/",
          "height": 429
        },
        "id": "8krvC4dXe_4z",
        "outputId": "36ec36a0-dc19-47d9-ecae-397def9d6eaf"
      },
      "outputs": [
        {
          "data": {
            "image/png": "[encoded data removed]",
            "text/plain": [
              "<Figure size 720x504 with 1 Axes>"
            ]
          },
          "metadata": {},
          "output_type": "display_data"
        }
      ],
      "source": [
        "# Import libraries\n",
        "from matplotlib import pyplot as plt\n",
        "import numpy as np\n",
        "plt.style.use('dark_background')\n",
        " \n",
        "#get timestamp from OpenCV\n",
        "# open the data file\n",
        "file = open(\"/content/drive/MyDrive/colab/transtime2.txt\")\n",
        "# read the file as a list\n",
        "data = file.readlines()\n",
        "# close the file\n",
        "file.close()\n",
        "cvtime = int(data[0])\n",
        "\n",
        "#get timestamp from OpenCV\n",
        "# open the data file\n",
        "file = open(\"/content/drive/MyDrive/colab/transtime2.txt\")\n",
        "# read the file as a list\n",
        "data = file.readlines()\n",
        "# close the file\n",
        "file.close()\n",
        "cvtime = int(data[0])\n",
        "\n",
        "# Get ImageAI timestamp , mix and repot\n",
        "\n",
        "aitime = time_stamp_end - time_stamp_start\n",
        " \n",
        "# Creating dataset\n",
        "libTime = ['OPENCV', 'IMAGEAI']\n",
        " \n",
        "data = [cvtime, aitime]\n",
        " \n",
        "# Creating plot\n",
        "fig = plt.figure(figsize =(10, 7))\n",
        "plt.pie(data, labels = libTime)\n",
        "plt.title(label=\"TimeStamp OpenCV and ImageAI\",\n",
        "          fontsize=15,\n",
        "          color=\"green\")\n",
        "\n",
        " \n",
        "# show plot\n",
        "plt.show()"
      ]
    },
    {
      "cell_type": "code",
      "execution_count": 19,
      "metadata": {
        "colab": {
          "base_uri": "https://localhost:8080/",
          "height": 517
        },
        "id": "zaxUjEnwbtBf",
        "outputId": "81370a14-b5f0-40e2-b3f9-04d4cc42819b"
      },
      "outputs": [
        {
          "data": {
            "image/png": "[encoded data removed]",
            "text/plain": [
              "<Figure size 576x576 with 1 Axes>"
            ]
          },
          "metadata": {},
          "output_type": "display_data"
        }
      ],
      "source": [
        "#  This is where the total of both is displayed\n",
        "\n",
        "import numpy as np\n",
        "import pandas as pd\n",
        "import seaborn as sns\n",
        "import matplotlib.pyplot as plt\n",
        "\n",
        "\n",
        "\n",
        "data = {\"Libraries\": [\"OpenCV\", \"ImageAI\"],\n",
        "\t\t\"RunTime\": [cvtime, aitime]}\n",
        "df = pd.DataFrame(data, columns=['Libraries', 'RunTime'])\n",
        "plt.figure(figsize=(8, 8))\n",
        "plots = sns.barplot(x=\"Libraries\", y=\"RunTime\", data=df)\n",
        "for bar in plots.patches:\n",
        "\tplots.annotate(format(bar.get_height(), '.2f'),\n",
        "\t\t\t\t(bar.get_x() + bar.get_width() / 2,\n",
        "\t\t\t\t\tbar.get_height()), ha='center', va='center',\n",
        "\t\t\t\tsize=15, xytext=(0, 8),\n",
        "\t\t\t\ttextcoords='offset points')\n",
        "plt.xlabel(\"Libraries\", size=14)\n",
        "plt.ylabel(\"RunTime\", size=14)\n",
        "plt.title(\"This is running time in seconds\")\n",
        "plt.show()\n",
        "\n"
      ]
    },
    {
      "cell_type": "code",
      "execution_count": 20,
      "metadata": {
        "colab": {
          "base_uri": "https://localhost:8080/",
          "height": 352
        },
        "id": "Gr-LmvMTNdM-",
        "outputId": "f8d8cd6c-80dc-4e21-9cdc-157335478acf"
      },
      "outputs": [
        {
          "data": {
            "image/png": "[encoded data removed]",
            "text/plain": [
              "<Figure size 432x288 with 1 Axes>"
            ]
          },
          "metadata": {},
          "output_type": "display_data"
        }
      ],
      "source": [
        "import numpy as np\n",
        "import matplotlib.pyplot as plt\n",
        "xt = [\"Cars\", \"Persons\", \"Motorcycles\", \"Trucks\"]\n",
        "\n",
        "data = [[xi[0], xi[1], xi[2], xi[3]],\n",
        "[carconf/carcc, personconf/personcc, motorbikeconf/motorbikecc, truckconf/truckcc]]\n",
        "X = np.arange(4)\n",
        "fig = plt.figure()\n",
        "ax = fig.add_axes([0,0,1,1])\n",
        "ax.bar(xt, data[0], color = 'b', width = 0.25)\n",
        "ax.bar(X+0.50, data[1], color = 'g', width = 0.25)\n",
        "ax.set_ylim([0, 1])\n",
        "plt.title(\"Comparison objects scores both libraries\")\n",
        "\n",
        "plt.show()"
      ]
    },
    {
      "cell_type": "code",
      "execution_count": 21,
      "metadata": {
        "colab": {
          "base_uri": "https://localhost:8080/"
        },
        "id": "-2JsIAvvjp02",
        "outputId": "7e19df00-d933-4c80-b657-8da008031153"
      },
      "outputs": [
        {
          "name": "stdout",
          "output_type": "stream",
          "text": [
            "0.6593144926598471 0.6986753916375448\n"
          ]
        }
      ],
      "source": [
        "import numpy as np\n",
        "import pandas as pd\n",
        "import seaborn as sns\n",
        "import matplotlib.pyplot as plt\n",
        "\n",
        "#  Calculating subtotals\n",
        "\n",
        "totalcv = ((xi[0] + xi[1] + xi[2] + xi[3]))/4\n",
        "\n",
        "totalai = (carconf/carcc + personconf/personcc + motorbikeconf/motorbikecc + truckconf/truckcc)/4\n",
        "\n",
        "print(totalcv, totalai)"
      ]
    },
    {
      "cell_type": "code",
      "execution_count": 22,
      "metadata": {
        "colab": {
          "base_uri": "https://localhost:8080/",
          "height": 517
        },
        "id": "sYY4UYBPiA4B",
        "outputId": "a37dca91-e855-44ad-d3a5-388075709b37"
      },
      "outputs": [
        {
          "data": {
            "image/png": "[encoded data removed]",
            "text/plain": [
              "<Figure size 576x576 with 1 Axes>"
            ]
          },
          "metadata": {},
          "output_type": "display_data"
        }
      ],
      "source": [
        "#  Another plot for the total of accurate hits for 4 objects\n",
        "data = {\"Libraries\": [\"OpenCV\", \"ImageAI\"],\n",
        "\t\t\"RunTime\": [totalcv, totalai]}\n",
        "df = pd.DataFrame(data, columns=['Libraries', 'RunTime'])\n",
        "plt.figure(figsize=(8, 8))\n",
        "plots = sns.barplot(x=\"Libraries\", y=\"RunTime\", data=df, color = \"salmon\")\n",
        "for bar in plots.patches:\n",
        "\tplots.annotate(format(bar.get_height(), '.2f'),\n",
        "\t\t\t\t(bar.get_x() + bar.get_width() / 2,\n",
        "\t\t\t\t\tbar.get_height()), ha='center', va='center',\n",
        "\t\t\t\tsize=15, xytext=(0, 8),\n",
        "\t\t\t\ttextcoords='offset points')\n",
        "plt.xlabel(\"Libraries\", size=14)\n",
        "plt.ylabel(\"RunTime\", size=14)\n",
        "plt.ylim ([0, 1])\n",
        "plt.title(\"Accurate hits total for all 4 objects\")\n",
        "plt.show()"
      ]
    }
  ],
  "metadata": {
    "accelerator": "GPU",
    "colab": {
      "collapsed_sections": [],
      "provenance": []
    },
    "gpuClass": "standard",
    "kernelspec": {
      "display_name": "Python 3",
      "name": "python3"
    },
    "language_info": {
      "name": "python"
    }
  },
  "nbformat": 4,
  "nbformat_minor": 0
}

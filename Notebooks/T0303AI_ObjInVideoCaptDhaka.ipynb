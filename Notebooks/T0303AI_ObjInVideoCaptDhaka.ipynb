{
  "cells": [
    {
      "cell_type": "markdown",
      "metadata": {
        "id": "qPa6bUafys0d"
      },
      "source": []
    },
    {
      "cell_type": "code",
      "execution_count": 4,
      "metadata": {
        "id": "ZGz4tceyCga-"
      },
      "outputs": [],
      "source": []
    },
    {
      "cell_type": "code",
      "execution_count": 4,
      "metadata": {
        "id": "acKHaHZ-qnWE"
      },
      "outputs": [],
      "source": []
    },
    {
      "cell_type": "markdown",
      "metadata": {
        "id": "spCV35vkpKPb"
      },
      "source": [
        "Gus Marquez IS687\n",
        "\n",
        "Captain's ImageAI Object Detection in Video\n",
        "\n",
        "(Help for these code can be found in ImageAI\n",
        "\n",
        "  additional graphs in seaborn    numpy and pandas documentation)\n",
        "\n",
        "Google Drive Mounted /content/drive/MyDrive/colab/\n",
        "\n",
        "LOAD LIBRARIES and SETUP"
      ]
    },
    {
      "cell_type": "code",
      "execution_count": 4,
      "metadata": {
        "id": "YjRd7Nkvqogv"
      },
      "outputs": [],
      "source": []
    },
    {
      "cell_type": "code",
      "execution_count": 5,
      "metadata": {
        "colab": {
          "base_uri": "https://localhost:8080/"
        },
        "id": "z8vrfg_Vohu_",
        "outputId": "1792cf3f-544d-49fc-d44e-017a4595b341"
      },
      "outputs": [
        {
          "name": "stdout",
          "output_type": "stream",
          "text": [
            "Mounted at /content/drive\n"
          ]
        }
      ],
      "source": [
        "from google.colab import drive\n",
        "drive.mount('/content/drive')"
      ]
    },
    {
      "cell_type": "markdown",
      "metadata": {
        "id": "H8obayaURKGr"
      },
      "source": [
        "SETUP Imports and counters/accumulators"
      ]
    },
    {
      "cell_type": "code",
      "execution_count": 6,
      "metadata": {
        "id": "6ySplNzLRIEs"
      },
      "outputs": [],
      "source": [
        "from imageai.Detection import VideoObjectDetection\n",
        "import os\n",
        "import time\n",
        "import calendar\n",
        "import imutils\n",
        "from imutils.video import FPS\n",
        "from imutils.video import VideoStream\n",
        "\n",
        "\n",
        "\n",
        "carcc = 1; carconf = 1; carplot=[]\n",
        "personcc = 1; personconf = 1; personplot=[]\n",
        "motorbikecc = 1; motorbikeconf = 1; motorbikeplot = []\n",
        "truckcc = 1; truckconf = 1; truckplot = []\n",
        "xxx=0"
      ]
    },
    {
      "cell_type": "markdown",
      "metadata": {
        "id": "HzFY2tSrRYwD"
      },
      "source": [
        "Run Detector"
      ]
    },
    {
      "cell_type": "code",
      "execution_count": 7,
      "metadata": {
        "colab": {
          "base_uri": "https://localhost:8080/"
        },
        "id": "J4RvR0hVqomi",
        "outputId": "694e877c-6105-4069-ed7e-0316d0e912d6"
      },
      "outputs": [
        {
          "name": "stdout",
          "output_type": "stream",
          "text": [
            "Current timestamp: 1662890314\n",
            "------------END OF A FRAME --------------\n",
            "Processing Frame :  1\n",
            "Processing Frame :  2\n",
            "Processing Frame :  3\n",
            "Processing Frame :  4\n",
            "Processing Frame :  5\n",
            "Processing Frame :  6\n",
            "Processing Frame :  7\n",
            "Processing Frame :  8\n",
            "Processing Frame :  9\n",
            "Processing Frame :  10\n",
            "Processing Frame :  11\n",
            "Processing Frame :  12\n",
            "Processing Frame :  13\n",
            "Processing Frame :  14\n",
            "Processing Frame :  15\n",
            "Processing Frame :  16\n",
            "Processing Frame :  17\n",
            "Processing Frame :  18\n",
            "Processing Frame :  19\n",
            "Processing Frame :  20\n",
            "Processing Frame :  21\n",
            "Processing Frame :  22\n",
            "Processing Frame :  23\n",
            "Processing Frame :  24\n",
            "Processing Frame :  25\n",
            "Processing Frame :  26\n",
            "Processing Frame :  27\n",
            "Processing Frame :  28\n",
            "Processing Frame :  29\n",
            "Processing Frame :  30\n",
            "Processing Frame :  31\n",
            "Processing Frame :  32\n",
            "Processing Frame :  33\n",
            "Processing Frame :  34\n",
            "Processing Frame :  35\n",
            "Processing Frame :  36\n",
            "Processing Frame :  37\n",
            "Processing Frame :  38\n",
            "Processing Frame :  39\n",
            "Processing Frame :  40\n",
            "Processing Frame :  41\n",
            "Processing Frame :  42\n",
            "Processing Frame :  43\n",
            "Processing Frame :  44\n",
            "Processing Frame :  45\n",
            "Processing Frame :  46\n",
            "Processing Frame :  47\n",
            "Processing Frame :  48\n",
            "Processing Frame :  49\n",
            "Processing Frame :  50\n",
            "Processing Frame :  51\n",
            "Processing Frame :  52\n",
            "Processing Frame :  53\n",
            "Processing Frame :  54\n",
            "Processing Frame :  55\n",
            "Processing Frame :  56\n",
            "Processing Frame :  57\n",
            "Processing Frame :  58\n",
            "Processing Frame :  59\n",
            "Processing Frame :  60\n",
            "Processing Frame :  61\n",
            "Processing Frame :  62\n",
            "Processing Frame :  63\n",
            "Processing Frame :  64\n",
            "Processing Frame :  65\n",
            "Processing Frame :  66\n",
            "Processing Frame :  67\n",
            "Processing Frame :  68\n",
            "Processing Frame :  69\n",
            "Processing Frame :  70\n",
            "Processing Frame :  71\n",
            "Processing Frame :  72\n",
            "Processing Frame :  73\n",
            "Processing Frame :  74\n",
            "Processing Frame :  75\n",
            "Processing Frame :  76\n",
            "Processing Frame :  77\n",
            "Processing Frame :  78\n",
            "Processing Frame :  79\n",
            "Processing Frame :  80\n",
            "Processing Frame :  81\n",
            "Processing Frame :  82\n",
            "Processing Frame :  83\n",
            "Processing Frame :  84\n",
            "Processing Frame :  85\n",
            "Processing Frame :  86\n",
            "Processing Frame :  87\n",
            "Processing Frame :  88\n",
            "Processing Frame :  89\n",
            "Processing Frame :  90\n",
            "Processing Frame :  91\n",
            "Processing Frame :  92\n",
            "Processing Frame :  93\n",
            "Processing Frame :  94\n",
            "Processing Frame :  95\n",
            "Processing Frame :  96\n",
            "Processing Frame :  97\n",
            "Processing Frame :  98\n",
            "Processing Frame :  99\n",
            "Processing Frame :  100\n",
            "Processing Frame :  101\n",
            "Processing Frame :  102\n",
            "Processing Frame :  103\n",
            "Processing Frame :  104\n",
            "Processing Frame :  105\n",
            "Processing Frame :  106\n",
            "Processing Frame :  107\n",
            "Processing Frame :  108\n",
            "Processing Frame :  109\n",
            "Processing Frame :  110\n",
            "Processing Frame :  111\n",
            "Processing Frame :  112\n",
            "Processing Frame :  113\n",
            "Processing Frame :  114\n",
            "Processing Frame :  115\n",
            "Processing Frame :  116\n",
            "Processing Frame :  117\n",
            "Processing Frame :  118\n",
            "Processing Frame :  119\n",
            "Processing Frame :  120\n",
            "Processing Frame :  121\n",
            "Processing Frame :  122\n",
            "Processing Frame :  123\n",
            "Processing Frame :  124\n",
            "Processing Frame :  125\n",
            "Processing Frame :  126\n",
            "Processing Frame :  127\n",
            "Processing Frame :  128\n",
            "Processing Frame :  129\n",
            "Processing Frame :  130\n",
            "Processing Frame :  131\n",
            "Processing Frame :  132\n",
            "Processing Frame :  133\n",
            "Processing Frame :  134\n",
            "Processing Frame :  135\n",
            "Processing Frame :  136\n",
            "Processing Frame :  137\n",
            "Processing Frame :  138\n",
            "Processing Frame :  139\n",
            "Processing Frame :  140\n",
            "Processing Frame :  141\n",
            "Processing Frame :  142\n",
            "Processing Frame :  143\n",
            "Processing Frame :  144\n",
            "Processing Frame :  145\n",
            "Processing Frame :  146\n",
            "Processing Frame :  147\n",
            "Processing Frame :  148\n",
            "Processing Frame :  149\n",
            "Processing Frame :  150\n",
            "Processing Frame :  151\n",
            "Processing Frame :  152\n",
            "Processing Frame :  153\n",
            "Processing Frame :  154\n",
            "Processing Frame :  155\n",
            "Processing Frame :  156\n",
            "Processing Frame :  157\n",
            "Processing Frame :  158\n",
            "Processing Frame :  159\n",
            "Processing Frame :  160\n",
            "Processing Frame :  161\n",
            "Processing Frame :  162\n",
            "Processing Frame :  163\n",
            "Processing Frame :  164\n",
            "Processing Frame :  165\n",
            "Processing Frame :  166\n",
            "Processing Frame :  167\n",
            "Processing Frame :  168\n",
            "Processing Frame :  169\n",
            "Processing Frame :  170\n",
            "Processing Frame :  171\n",
            "Processing Frame :  172\n",
            "Processing Frame :  173\n",
            "Processing Frame :  174\n",
            "Processing Frame :  175\n",
            "Processing Frame :  176\n",
            "Processing Frame :  177\n",
            "Processing Frame :  178\n",
            "Processing Frame :  179\n",
            "Processing Frame :  180\n",
            "Processing Frame :  181\n",
            "Processing Frame :  182\n",
            "Processing Frame :  183\n",
            "Processing Frame :  184\n",
            "Processing Frame :  185\n",
            "Processing Frame :  186\n",
            "Processing Frame :  187\n",
            "Processing Frame :  188\n",
            "Processing Frame :  189\n",
            "Processing Frame :  190\n",
            "Processing Frame :  191\n",
            "Processing Frame :  192\n",
            "Processing Frame :  193\n",
            "Processing Frame :  194\n",
            "Processing Frame :  195\n",
            "Processing Frame :  196\n",
            "Processing Frame :  197\n",
            "Processing Frame :  198\n",
            "Processing Frame :  199\n",
            "Processing Frame :  200\n",
            "Processing Frame :  201\n",
            "Processing Frame :  202\n",
            "Processing Frame :  203\n",
            "Processing Frame :  204\n",
            "Processing Frame :  205\n",
            "Processing Frame :  206\n",
            "Processing Frame :  207\n",
            "Processing Frame :  208\n",
            "Processing Frame :  209\n",
            "Processing Frame :  210\n",
            "Processing Frame :  211\n",
            "Processing Frame :  212\n",
            "Processing Frame :  213\n",
            "Processing Frame :  214\n",
            "Processing Frame :  215\n",
            "Processing Frame :  216\n",
            "Processing Frame :  217\n",
            "Processing Frame :  218\n",
            "Processing Frame :  219\n",
            "Processing Frame :  220\n",
            "Processing Frame :  221\n",
            "Processing Frame :  222\n",
            "Processing Frame :  223\n",
            "Processing Frame :  224\n",
            "Processing Frame :  225\n",
            "Processing Frame :  226\n",
            "Processing Frame :  227\n",
            "Processing Frame :  228\n",
            "Processing Frame :  229\n",
            "Processing Frame :  230\n",
            "Processing Frame :  231\n",
            "Processing Frame :  232\n",
            "Processing Frame :  233\n",
            "Processing Frame :  234\n",
            "Processing Frame :  235\n",
            "Processing Frame :  236\n",
            "Processing Frame :  237\n",
            "Processing Frame :  238\n",
            "Processing Frame :  239\n",
            "Processing Frame :  240\n",
            "Processing Frame :  241\n",
            "Processing Frame :  242\n",
            "Processing Frame :  243\n",
            "Processing Frame :  244\n",
            "Processing Frame :  245\n",
            "Processing Frame :  246\n",
            "Processing Frame :  247\n",
            "Processing Frame :  248\n",
            "Processing Frame :  249\n",
            "Processing Frame :  250\n",
            "Processing Frame :  251\n",
            "Processing Frame :  252\n",
            "Processing Frame :  253\n",
            "Processing Frame :  254\n",
            "Processing Frame :  255\n",
            "Processing Frame :  256\n",
            "Processing Frame :  257\n",
            "Processing Frame :  258\n",
            "Processing Frame :  259\n",
            "Processing Frame :  260\n",
            "Processing Frame :  261\n",
            "Processing Frame :  262\n",
            "Processing Frame :  263\n",
            "Processing Frame :  264\n",
            "Processing Frame :  265\n",
            "Processing Frame :  266\n",
            "Processing Frame :  267\n",
            "Processing Frame :  268\n",
            "Processing Frame :  269\n",
            "Processing Frame :  270\n",
            "Processing Frame :  271\n",
            "Processing Frame :  272\n",
            "Processing Frame :  273\n",
            "Processing Frame :  274\n",
            "Processing Frame :  275\n",
            "Processing Frame :  276\n",
            "Processing Frame :  277\n",
            "Processing Frame :  278\n",
            "Processing Frame :  279\n",
            "Processing Frame :  280\n",
            "Processing Frame :  281\n",
            "Processing Frame :  282\n",
            "Processing Frame :  283\n",
            "Processing Frame :  284\n",
            "Processing Frame :  285\n",
            "Processing Frame :  286\n",
            "Processing Frame :  287\n",
            "Processing Frame :  288\n",
            "Processing Frame :  289\n",
            "Processing Frame :  290\n",
            "Processing Frame :  291\n",
            "Processing Frame :  292\n",
            "Start: 1662890314\n",
            "End: 1662891398\n",
            "Time: 1084\n",
            "[INFO] elasped time: 1084.27\n",
            "[INFO] approx. FPS: 2.10\n",
            "///////////// CARtotal  462 378.7428017258644 0.8197896141252476\n",
            "///////////// PERSONtotal  1243 942.9669605493546 0.7586218508039859\n",
            "///////////// MOTORBIKEtotal  149 100.72390085458755 0.6759993345945473\n",
            "///////////// TRUCKtotal  61 39.26573008298874 0.6437004931637498\n",
            "/content/traffic_detected.avi\n"
          ]
        }
      ],
      "source": [
        "\n",
        "#TIMER\n",
        "\n",
        "current_GMT = time.gmtime()\n",
        "time_stamp_start = calendar.timegm(current_GMT)\n",
        "print(\"Current timestamp:\", time_stamp_start)\n",
        "\n",
        "fps = FPS().start()\n",
        "\n",
        "#RUN\n",
        "execution_path = os.getcwd()\n",
        "\n",
        "# THIS IS THE OPTION FUNCTION FOR IMAGEAI THAT YOU CAN IMPROVISE\n",
        "# I USE IT FOR COUNTERS AND ACCUMULATORS\n",
        "\n",
        "def forFrame(frame_number, output_array, output_count):\n",
        "  global carcc, carconf, personcc, personconf\n",
        "  global motorbikecc, motorbikeconf, truckcc, truckconf\n",
        "  #print(\"FOR FRAME  \" , frame_number, \"   ++++++++++++++++++++++++++++++++++++++++++++++++++\")\n",
        "  #print(\"Output for each object : \", output_array)\n",
        "  #print(\"Output count for unique objects : \", output_count)\n",
        "  #print(type(output_array))\n",
        "  #print(\">>>>>\", output_array[0])\n",
        "  #for key,value in output_array[0].items():\n",
        "\t  #print(key, ':', value)\n",
        "\n",
        "  #  Countes/accumulators\n",
        "  for item in output_array:\n",
        "      conf = item.get(\"percentage_probability\")\n",
        "      flag = item.get(\"name\")\n",
        "      #print(\"*****\", flag, conf)\n",
        "      if flag == \"car\":\n",
        "        carcc = carcc + 1\n",
        "        carconf = carconf + conf/100\n",
        "        carplot.append(conf/100)\n",
        "      if flag == \"person\":\n",
        "        personcc = personcc + 1\n",
        "        personconf = personconf + conf/100\n",
        "        personplot.append(conf/100)\n",
        "      if flag == \"motorcycle\":\n",
        "        motorbikecc = motorbikecc + 1\n",
        "        motorbikeconf = motorbikeconf + conf/100\n",
        "        motorbikeplot.append(conf/100)\n",
        "      if flag == \"truck\":\n",
        "        truckcc = truckcc + 1\n",
        "        truckconf = truckconf + conf/100\n",
        "        truckplot.append(conf/100)\n",
        "\n",
        "      #print(\"CAR\", carcc, \"PERSON\", personcc, \"MOTORCYCLE\", motorbikecc, \"TRUCK\", truckcc)\n",
        "      fps.update()\n",
        "    \n",
        "   \n",
        "\n",
        "print(\"------------END OF A FRAME --------------\")\n",
        "\n",
        "# STANDARD Video Detection in Video code from ImageAI\n",
        "# YOLOv3 version\n",
        "\n",
        "detector = VideoObjectDetection()\n",
        "detector.setModelTypeAsYOLOv3()\n",
        "detector.setModelPath( os.path.join(execution_path , \"/content/drive/MyDrive/colab/yolo.h5\"))\n",
        "detector.loadModel()\n",
        "\n",
        "video_path = detector.detectObjectsFromVideo(input_file_path=os.path.join(execution_path, \"/content/drive/MyDrive/colab/dhaka_traffic_m.mp4\"),\n",
        "                                output_file_path=os.path.join(execution_path, \"traffic_detected\")\n",
        "                                , frames_per_second=20, log_progress=True, display_percentage_probability=True, display_object_name=True, per_frame_function=forFrame)\n",
        "\n",
        "\n",
        "\n",
        "#  ENDING - REPORTS\n",
        "current_GMT = time.gmtime()\n",
        "time_stamp_end = calendar.timegm(current_GMT)\n",
        "print(\"Start:\", time_stamp_start)\n",
        "print(\"End:\", time_stamp_end)\n",
        "print(\"Time:\", time_stamp_end - time_stamp_start)\n",
        "\n",
        "\n",
        "\n",
        "fps.update()\n",
        "fps.stop()\n",
        "\n",
        "print(\"[INFO] elasped time: {:.2f}\".format(fps.elapsed()))\n",
        "print(\"[INFO] approx. FPS: {:.2f}\".format(fps.fps()))\n",
        "\n",
        "print(\"///////////// CARtotal \", carcc, carconf, carconf/carcc)\n",
        "print(\"///////////// PERSONtotal \", personcc, personconf, personconf/personcc)\n",
        "print(\"///////////// MOTORBIKEtotal \", motorbikecc, motorbikeconf, motorbikeconf/motorbikecc)\n",
        "print(\"///////////// TRUCKtotal \", truckcc, truckconf, truckconf/truckcc)\n",
        "print(video_path)"
      ]
    },
    {
      "cell_type": "code",
      "execution_count": 8,
      "metadata": {
        "colab": {
          "base_uri": "https://localhost:8080/"
        },
        "id": "npumCTGtqosM",
        "outputId": "808668a7-9ca9-4ac8-9cf6-f32b18d841df"
      },
      "outputs": [
        {
          "name": "stdout",
          "output_type": "stream",
          "text": [
            "461\n"
          ]
        }
      ],
      "source": [
        "print(len(carplot))"
      ]
    },
    {
      "cell_type": "code",
      "execution_count": 9,
      "metadata": {
        "colab": {
          "base_uri": "https://localhost:8080/",
          "height": 471
        },
        "id": "86tSxSnNcApr",
        "outputId": "70501c6b-1c19-4133-d9a1-8abf37e876da"
      },
      "outputs": [
        {
          "name": "stdout",
          "output_type": "stream",
          "text": [
            "Looking in indexes: https://pypi.org/simple, https://us-python.pkg.dev/colab-wheels/public/simple/\n",
            "Collecting matplotlib==3.1.3\n",
            "  Downloading matplotlib-3.1.3-cp37-cp37m-manylinux1_x86_64.whl (13.1 MB)\n",
            "\u001b[K     |████████████████████████████████| 13.1 MB 33.0 MB/s \n",
            "\u001b[?25hRequirement already satisfied: pyparsing!=2.0.4,!=2.1.2,!=2.1.6,>=2.0.1 in /usr/local/lib/python3.7/dist-packages (from matplotlib==3.1.3) (3.0.9)\n",
            "Requirement already satisfied: cycler>=0.10 in /usr/local/lib/python3.7/dist-packages (from matplotlib==3.1.3) (0.11.0)\n",
            "Requirement already satisfied: kiwisolver>=1.0.1 in /usr/local/lib/python3.7/dist-packages (from matplotlib==3.1.3) (1.4.4)\n",
            "Requirement already satisfied: python-dateutil>=2.1 in /usr/local/lib/python3.7/dist-packages (from matplotlib==3.1.3) (2.8.2)\n",
            "Requirement already satisfied: numpy>=1.11 in /usr/local/lib/python3.7/dist-packages (from matplotlib==3.1.3) (1.19.3)\n",
            "Requirement already satisfied: typing-extensions in /usr/local/lib/python3.7/dist-packages (from kiwisolver>=1.0.1->matplotlib==3.1.3) (3.7.4.3)\n",
            "Requirement already satisfied: six>=1.5 in /usr/local/lib/python3.7/dist-packages (from python-dateutil>=2.1->matplotlib==3.1.3) (1.15.0)\n",
            "Installing collected packages: matplotlib\n",
            "  Attempting uninstall: matplotlib\n",
            "    Found existing installation: matplotlib 3.3.2\n",
            "    Uninstalling matplotlib-3.3.2:\n",
            "      Successfully uninstalled matplotlib-3.3.2\n",
            "\u001b[31mERROR: pip's dependency resolver does not currently take into account all the packages that are installed. This behaviour is the source of the following dependency conflicts.\n",
            "plotnine 0.8.0 requires scipy>=1.5.0, but you have scipy 1.4.1 which is incompatible.\n",
            "imageai 2.1.6 requires matplotlib==3.3.2, but you have matplotlib 3.1.3 which is incompatible.\u001b[0m\n",
            "Successfully installed matplotlib-3.1.3\n"
          ]
        },
        {
          "data": {
            "application/vnd.colab-display-data+json": {
              "pip_warning": {
                "packages": [
                  "matplotlib",
                  "mpl_toolkits"
                ]
              }
            }
          },
          "metadata": {},
          "output_type": "display_data"
        }
      ],
      "source": [
        "\n",
        "pip install matplotlib==3.1.3"
      ]
    },
    {
      "cell_type": "code",
      "execution_count": 10,
      "metadata": {
        "colab": {
          "base_uri": "https://localhost:8080/",
          "height": 317
        },
        "id": "MW9rz38BkozO",
        "outputId": "9769445a-f26e-4568-df09-300568ce7186"
      },
      "outputs": [
        {
          "name": "stdout",
          "output_type": "stream",
          "text": [
            "{'Cars': 0.8197896141252476, 'Persons': 0.7586218508039859, 'Motobikes': 0.6759993345945473, 'Trucks': 0.6437004931637498}\n",
            "\n"
          ]
        },
        {
          "data": {
            "text/plain": [
              "<BarContainer object of 4 artists>"
            ]
          },
          "execution_count": 10,
          "metadata": {},
          "output_type": "execute_result"
        },
        {
          "data": {
            "image/png": "[encoded data removed]",
            "text/plain": [
              "<Figure size 432x288 with 1 Axes>"
            ]
          },
          "metadata": {},
          "output_type": "display_data"
        }
      ],
      "source": [
        "\n",
        "#  PLOT SCORE RESULTS\n",
        "\n",
        "import matplotlib.pyplot as plt\n",
        "import numpy as np\n",
        "plt.style.use('dark_background')\n",
        "\n",
        "xkeys = ['Cars', 'Persons', 'Motobikes', 'Trucks']\n",
        "xvalues = [carconf/carcc, personconf/personcc, motorbikeconf/motorbikecc, truckconf/truckcc]\n",
        "xd = dict(zip(xkeys, xvalues))\n",
        "print(xd)\n",
        "print()\n",
        "\n",
        "\n",
        "\n",
        "group_data = list(xd.values())\n",
        "group_names = list(xd.keys())\n",
        "group_mean = np.mean(group_data)\n",
        "\n",
        "fig, ax = plt.subplots()\n",
        "ax.barh(group_names, group_data)"
      ]
    },
    {
      "cell_type": "code",
      "execution_count": 10,
      "metadata": {
        "id": "NYTsb9-oko3Y"
      },
      "outputs": [],
      "source": []
    },
    {
      "cell_type": "code",
      "execution_count": 11,
      "metadata": {
        "colab": {
          "base_uri": "https://localhost:8080/"
        },
        "id": "QXo4_qRZko7l",
        "outputId": "f19478bb-3188-4309-f0cc-efba0bad3279"
      },
      "outputs": [
        {
          "name": "stdout",
          "output_type": "stream",
          "text": [
            "1242\n"
          ]
        }
      ],
      "source": [
        "print(len(personplot))"
      ]
    },
    {
      "cell_type": "code",
      "execution_count": 12,
      "metadata": {
        "id": "L0Ciswy_XImR"
      },
      "outputs": [],
      "source": [
        "#  This part transfer save to be load via drive in ImageAI notebook\n",
        "\n",
        "from matplotlib import docstring\n",
        "import numpy as np \n",
        "co03ai = carplot # create an array of 1000 1's for the example \n",
        "po03ai = personplot\n",
        "mo03ai = motorbikeplot\n",
        "to03ai = truckplot\n",
        "xv03ai = xvalues\n",
        "\n",
        "np.save('/content/drive/MyDrive/colab/var/co03ai', co03ai)\n",
        "\n",
        "np.save('/content/drive/MyDrive/colab/var/po03ai', po03ai)\n",
        "        \n",
        "np.save('/content/drive/MyDrive/colab/var/mo03ai', mo03ai)\n",
        "        \n",
        "np.save('/content/drive/MyDrive/colab/var/to03ai', to03ai)\n",
        "\n",
        "np.save('/content/drive/MyDrive/colab/var/xv03ai', xv03ai)"
      ]
    },
    {
      "cell_type": "code",
      "execution_count": 25,
      "metadata": {
        "id": "ZeNIQ0jL_Pfm"
      },
      "outputs": [],
      "source": [
        "#Tranfer timestamp to ImageAI\n",
        "\n",
        "trans_time = time_stamp_end - time_stamp_start\n",
        "file = open(\"/content/drive/MyDrive/colab/var/transtime03ai.txt\", \"w\")\n",
        "str = repr(trans_time)\n",
        "file.write(str)\n",
        "file.close()\n"
      ]
    },
    {
      "cell_type": "code",
      "execution_count": 13,
      "metadata": {
        "id": "nkHwv1eEjFm6"
      },
      "outputs": [],
      "source": [
        "#This is for future test without running all\n",
        "#  LOAD RESULTS FROM OPENCV\n",
        "\n",
        "import numpy as np\n",
        "import matplotlib.pyplot as plt\n",
        "\n",
        "carplot = np.load('/content/drive/MyDrive/colab/var/co03ai.npy') \n",
        "\n",
        "pensonplot = np.load('/content/drive/MyDrive/colab/var/po03ai.npy') \n",
        "\n",
        "miotorbikeplot = np.load('/content/drive/MyDrive/colab/var/mo03ai.npy') \n",
        "\n",
        "truckplot = np.load('/content/drive/MyDrive/colab/var/to03ai.npy') \n",
        "\n",
        "xvalues = np.load('/content/drive/MyDrive/colab/var/xv03ai.npy') \n"
      ]
    },
    {
      "cell_type": "code",
      "execution_count": 14,
      "metadata": {
        "id": "ro7jqhE8x7ZV"
      },
      "outputs": [],
      "source": [
        "#  LOAD RESULTS FROM OPENCV\n",
        "\n",
        "import numpy as np\n",
        "import matplotlib.pyplot as plt\n",
        "\n",
        "ci = np.load('/content/drive/MyDrive/colab/var/co03cv.npy') \n",
        "\n",
        "pi = np.load('/content/drive/MyDrive/colab/var/po03cv.npy') \n",
        "\n",
        "mi = np.load('/content/drive/MyDrive/colab/var/mo03cv.npy') \n",
        "\n",
        "ti = np.load('/content/drive/MyDrive/colab/var/to03cv.npy') \n",
        "\n",
        "xi = np.load('/content/drive/MyDrive/colab/var/xv03cv.npy') \n"
      ]
    },
    {
      "cell_type": "code",
      "execution_count": 15,
      "metadata": {
        "colab": {
          "base_uri": "https://localhost:8080/"
        },
        "id": "iI3B4xkdScM7",
        "outputId": "a441671f-c518-448a-dde6-cf20f71dcad5"
      },
      "outputs": [
        {
          "name": "stdout",
          "output_type": "stream",
          "text": [
            "[0.77287437 0.62977332 0.52503428 0.63316183]\n"
          ]
        }
      ],
      "source": [
        "print(xi)"
      ]
    },
    {
      "cell_type": "markdown",
      "metadata": {
        "id": "eWqcJMX-XTNk"
      },
      "source": [
        "BELOW WILL PLOT ALL DETECTIONS FROM OpenCV (CV) and ImageAI  (AI)\n"
      ]
    },
    {
      "cell_type": "code",
      "execution_count": 16,
      "metadata": {
        "colab": {
          "base_uri": "https://localhost:8080/",
          "height": 283
        },
        "id": "NSt8CpFM5EmX",
        "outputId": "78991477-9949-45b4-db1d-add55be1a3f1"
      },
      "outputs": [
        {
          "data": {
            "image/png": "[encoded data removed]",
            "text/plain": [
              "<Figure size 432x288 with 2 Axes>"
            ]
          },
          "metadata": {},
          "output_type": "display_data"
        }
      ],
      "source": [
        "\n",
        "x1 = np.array(range(0, len(ci)))\n",
        "y1 = ci\n",
        "\n",
        "x2 = np.array(range(0, len(carplot)))\n",
        "y2 = carplot\n",
        "\n",
        "plt.subplot(1, 2, 1)\n",
        "plt.scatter(x1, y1)\n",
        "plt.xlabel(\"CARS CV\")\n",
        "plt.ylim([0,1])\n",
        "\n",
        "plt.subplot(1, 2, 2)\n",
        "plt.scatter(x2, y2)\n",
        "plt.xlabel(\"CARS AI\")\n",
        "plt.ylim([0,1])\n",
        "\n",
        "plt.show()"
      ]
    },
    {
      "cell_type": "code",
      "execution_count": 17,
      "metadata": {
        "colab": {
          "base_uri": "https://localhost:8080/",
          "height": 283
        },
        "id": "9bZmJdd5lWYZ",
        "outputId": "dfc8cac6-1ff7-44cd-c63a-d77079222f15"
      },
      "outputs": [
        {
          "data": {
            "image/png": "[encoded data removed]",
            "text/plain": [
              "<Figure size 432x288 with 2 Axes>"
            ]
          },
          "metadata": {},
          "output_type": "display_data"
        }
      ],
      "source": [
        "\n",
        "x1 = np.array(range(0, len(pi)))\n",
        "y1 =pi\n",
        "\n",
        "x2 = np.array(range(0, len(personplot)))\n",
        "y2 = personplot\n",
        "\n",
        "plt.subplot(1, 2, 1)\n",
        "plt.scatter(x1, y1, color = \"red\")\n",
        "plt.xlabel(\"PERSON CV\")\n",
        "plt.ylim([0,1])\n",
        "\n",
        "plt.subplot(1, 2, 2)\n",
        "plt.scatter(x2, y2, color = \"red\")\n",
        "plt.xlabel(\"PERSON AI/100\")\n",
        "plt.ylim([0,1])\n",
        "\n",
        "#plt.legend([\"blue\", \"green\"], loc =\"lower right\")\n",
        "\n",
        "plt.show()"
      ]
    },
    {
      "cell_type": "code",
      "execution_count": 18,
      "metadata": {
        "colab": {
          "base_uri": "https://localhost:8080/",
          "height": 283
        },
        "id": "SHC6VyvPlWbt",
        "outputId": "a07b8862-14ae-4b0c-e40f-ff9e73c1d281"
      },
      "outputs": [
        {
          "data": {
            "image/png": "[encoded data removed]",
            "text/plain": [
              "<Figure size 432x288 with 2 Axes>"
            ]
          },
          "metadata": {},
          "output_type": "display_data"
        }
      ],
      "source": [
        "\n",
        "x1 = np.array(range(0, len(mi)))\n",
        "y1 = mi\n",
        "\n",
        "x2 = np.array(range(0, len(motorbikeplot)))\n",
        "y2 = motorbikeplot\n",
        "\n",
        "plt.subplot(1, 2, 1)\n",
        "plt.scatter(x1, y1, color = \"blue\")\n",
        "plt.xlabel(\"MOTORCYCLES CV\")\n",
        "plt.ylim([0,1])\n",
        "\n",
        "plt.subplot(1, 2, 2)\n",
        "plt.scatter(x2, y2, color = \"blue\")\n",
        "plt.xlabel(\"MOTORCYCLES AI\")\n",
        "plt.ylim([0,1])\n",
        "\n",
        "plt.show()"
      ]
    },
    {
      "cell_type": "code",
      "execution_count": 19,
      "metadata": {
        "colab": {
          "base_uri": "https://localhost:8080/",
          "height": 283
        },
        "id": "z9gi_p5olWe-",
        "outputId": "18695064-7720-4de8-f1ef-e6e02defe3f1"
      },
      "outputs": [
        {
          "data": {
            "image/png": "[encoded data removed]",
            "text/plain": [
              "<Figure size 432x288 with 2 Axes>"
            ]
          },
          "metadata": {},
          "output_type": "display_data"
        }
      ],
      "source": [
        "\n",
        "x1 = np.array(range(0, len(ti)))\n",
        "y1 = ti\n",
        "\n",
        "x2 = np.array(range(0, len(truckplot)))\n",
        "y2 = truckplot\n",
        "\n",
        "plt.subplot(1, 2, 1)\n",
        "plt.scatter(x1, y1, color = \"yellow\")\n",
        "plt.xlabel(\"TRUCKS CV\")\n",
        "plt.ylim([0,1])\n",
        "\n",
        "plt.subplot(1, 2, 2)\n",
        "plt.scatter(x2, y2, color = \"yellow\")\n",
        "plt.xlabel(\"TRUCKS AI\")\n",
        "plt.ylim([0,1])\n",
        "\n",
        "plt.show()"
      ]
    },
    {
      "cell_type": "code",
      "execution_count": 19,
      "metadata": {
        "id": "TOs6wvXse6Us"
      },
      "outputs": [],
      "source": []
    },
    {
      "cell_type": "markdown",
      "metadata": {
        "id": "OZRztn1KrVfV"
      },
      "source": [
        "ANALYSIS and FINDINGS REPORTS"
      ]
    },
    {
      "cell_type": "code",
      "execution_count": 20,
      "metadata": {
        "colab": {
          "base_uri": "https://localhost:8080/",
          "height": 429
        },
        "id": "8krvC4dXe_4z",
        "outputId": "e080571e-819d-489d-c182-b13701ddf548"
      },
      "outputs": [
        {
          "data": {
            "image/png": "[encoded data removed]",
            "text/plain": [
              "<Figure size 720x504 with 1 Axes>"
            ]
          },
          "metadata": {},
          "output_type": "display_data"
        }
      ],
      "source": [
        "# Import libraries\n",
        "from matplotlib import pyplot as plt\n",
        "import numpy as np\n",
        "plt.style.use('dark_background')\n",
        " \n",
        "#get timestamp from OpenCV\n",
        "# open the data file\n",
        "file = open(\"/content/drive/MyDrive/colab/var/transtime03ai.txt\")\n",
        "# read the file as a list\n",
        "data = file.readlines()\n",
        "# close the file\n",
        "file.close()\n",
        "cvtime = int(data[0])\n",
        "\n",
        "\n",
        "\n",
        "# Get ImageAI timestamp , mix and repot\n",
        "\n",
        "aitime = time_stamp_end - time_stamp_start\n",
        " \n",
        "# Creating dataset\n",
        "\n",
        "totratio = cvtime + aitime\n",
        "tcvout = \"OPENCV \"+str(round(cvtime/totratio*100,2))+\"%\"\n",
        "taiout = \"IMAGEAI \"+str(round(aitime/totratio*100,2))+\"%\"\n",
        "\n",
        "libTime = [tcvout, taiout]\n",
        " \n",
        "data = [cvtime, aitime]\n",
        " \n",
        "# Creating plot\n",
        "fig = plt.figure(figsize =(10, 7))\n",
        "plt.pie(data, labels = libTime)\n",
        "plt.title(label=\"TimeStamp OpenCV and ImageAI\",\n",
        "          fontsize=15,\n",
        "          color=\"green\")\n",
        "\n",
        " \n",
        "# show plot\n",
        "plt.show()"
      ]
    },
    {
      "cell_type": "code",
      "execution_count": 21,
      "metadata": {
        "colab": {
          "base_uri": "https://localhost:8080/",
          "height": 517
        },
        "id": "zaxUjEnwbtBf",
        "outputId": "dbeb7553-1531-41e8-c6a0-37e717fc1ff0"
      },
      "outputs": [
        {
          "data": {
            "image/png": "[encoded data removed]",
            "text/plain": [
              "<Figure size 576x576 with 1 Axes>"
            ]
          },
          "metadata": {},
          "output_type": "display_data"
        }
      ],
      "source": [
        "#  This is where the total of both is displayed\n",
        "\n",
        "import numpy as np\n",
        "import pandas as pd\n",
        "import seaborn as sns\n",
        "import matplotlib.pyplot as plt\n",
        "\n",
        "\n",
        "\n",
        "data = {\"Libraries\": [\"OpenCV\", \"ImageAI\"],\n",
        "\t\t\"RunTime\": [cvtime, aitime]}\n",
        "df = pd.DataFrame(data, columns=['Libraries', 'RunTime'])\n",
        "plt.figure(figsize=(8, 8))\n",
        "plots = sns.barplot(x=\"Libraries\", y=\"RunTime\", data=df)\n",
        "for bar in plots.patches:\n",
        "\tplots.annotate(format(bar.get_height(), '.2f'),\n",
        "\t\t\t\t(bar.get_x() + bar.get_width() / 2,\n",
        "\t\t\t\t\tbar.get_height()), ha='center', va='center',\n",
        "\t\t\t\tsize=15, xytext=(0, 8),\n",
        "\t\t\t\ttextcoords='offset points')\n",
        "plt.xlabel(\"Libraries\", size=14)\n",
        "plt.ylabel(\"RunTime\", size=14)\n",
        "plt.title(\"This is running time in seconds\")\n",
        "plt.show()\n",
        "\n"
      ]
    },
    {
      "cell_type": "code",
      "execution_count": 22,
      "metadata": {
        "colab": {
          "base_uri": "https://localhost:8080/",
          "height": 352
        },
        "id": "Gr-LmvMTNdM-",
        "outputId": "b34ce28f-f971-41e6-f8c0-ff56069daaf2"
      },
      "outputs": [
        {
          "data": {
            "image/png": "[encoded data removed]",
            "text/plain": [
              "<Figure size 432x288 with 1 Axes>"
            ]
          },
          "metadata": {},
          "output_type": "display_data"
        }
      ],
      "source": [
        "import numpy as np\n",
        "import matplotlib.pyplot as plt\n",
        "xt = [\"Cars\", \"Persons\", \"Motorcycles\", \"Trucks\"]\n",
        "\n",
        "data = [[xi[0], xi[1], xi[2], xi[3]],\n",
        "[carconf/carcc, personconf/personcc, motorbikeconf/motorbikecc, truckconf/truckcc]]\n",
        "X = np.arange(4)\n",
        "fig = plt.figure()\n",
        "ax = fig.add_axes([0,0,1,1])\n",
        "ax.bar(xt, data[0], color = 'b', width = 0.25)\n",
        "ax.bar(X+0.50, data[1], color = 'g', width = 0.25)\n",
        "ax.set_ylim([0, 1])\n",
        "plt.title(\"Comparison objects scores both libraries\")\n",
        "\n",
        "plt.show()"
      ]
    },
    {
      "cell_type": "code",
      "execution_count": 23,
      "metadata": {
        "colab": {
          "base_uri": "https://localhost:8080/"
        },
        "id": "-2JsIAvvjp02",
        "outputId": "f6f93618-c0dc-42b4-ae25-b52740268038"
      },
      "outputs": [
        {
          "name": "stdout",
          "output_type": "stream",
          "text": [
            "0.6402109503397866 0.7245278231718827\n"
          ]
        }
      ],
      "source": [
        "import numpy as np\n",
        "import pandas as pd\n",
        "import seaborn as sns\n",
        "import matplotlib.pyplot as plt\n",
        "\n",
        "#  Calculating subtotals\n",
        "\n",
        "totalcv = ((xi[0] + xi[1] + xi[2] + xi[3]))/4\n",
        "\n",
        "totalai = (carconf/carcc + personconf/personcc + motorbikeconf/motorbikecc + truckconf/truckcc)/4\n",
        "\n",
        "print(totalcv, totalai)"
      ]
    },
    {
      "cell_type": "code",
      "execution_count": 24,
      "metadata": {
        "colab": {
          "base_uri": "https://localhost:8080/",
          "height": 517
        },
        "id": "sYY4UYBPiA4B",
        "outputId": "2c65439e-3846-4f91-c298-d2fc63d6845c"
      },
      "outputs": [
        {
          "data": {
            "image/png": "[encoded data removed]",
            "text/plain": [
              "<Figure size 576x576 with 1 Axes>"
            ]
          },
          "metadata": {},
          "output_type": "display_data"
        }
      ],
      "source": [
        "#  Another plot for the total of accurate hits for 4 objects\n",
        "data = {\"Libraries\": [\"OpenCV\", \"ImageAI\"],\n",
        "\t\t\"RunTime\": [totalcv, totalai]}\n",
        "df = pd.DataFrame(data, columns=['Libraries', 'RunTime'])\n",
        "plt.figure(figsize=(8, 8))\n",
        "plots = sns.barplot(x=\"Libraries\", y=\"RunTime\", data=df, color = \"salmon\")\n",
        "for bar in plots.patches:\n",
        "\tplots.annotate(format(bar.get_height(), '.2f'),\n",
        "\t\t\t\t(bar.get_x() + bar.get_width() / 2,\n",
        "\t\t\t\t\tbar.get_height()), ha='center', va='center',\n",
        "\t\t\t\tsize=15, xytext=(0, 8),\n",
        "\t\t\t\ttextcoords='offset points')\n",
        "plt.xlabel(\"Libraries\", size=14)\n",
        "plt.ylabel(\"RunTime\", size=14)\n",
        "plt.ylim ([0, 1])\n",
        "plt.title(\"Accurate hits total for all 4 objects\")\n",
        "plt.show()"
      ]
    }
  ],
  "metadata": {
    "accelerator": "GPU",
    "colab": {
      "collapsed_sections": [],
      "provenance": []
    },
    "gpuClass": "standard",
    "kernelspec": {
      "display_name": "Python 3",
      "name": "python3"
    },
    "language_info": {
      "name": "python"
    }
  },
  "nbformat": 4,
  "nbformat_minor": 0
}

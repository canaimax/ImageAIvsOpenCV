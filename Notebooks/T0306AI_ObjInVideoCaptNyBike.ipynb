{
  "cells": [
    {
      "cell_type": "markdown",
      "metadata": {
        "id": "qPa6bUafys0d"
      },
      "source": []
    },
    {
      "cell_type": "code",
      "execution_count": null,
      "metadata": {
        "id": "ZGz4tceyCga-"
      },
      "outputs": [],
      "source": []
    },
    {
      "cell_type": "code",
      "execution_count": null,
      "metadata": {
        "id": "acKHaHZ-qnWE"
      },
      "outputs": [],
      "source": []
    },
    {
      "cell_type": "markdown",
      "metadata": {
        "id": "spCV35vkpKPb"
      },
      "source": [
        "Gus Marquez IS687\n",
        "\n",
        "Captain's ImageAI Object Detection in Video\n",
        "\n",
        "(Help for these code can be found in ImageAI\n",
        "\n",
        "  additional graphs in seaborn    numpy and pandas documentation)\n",
        "\n",
        "Google Drive Mounted /content/drive/MyDrive/colab/\n",
        "\n",
        "LOAD LIBRARIES and SETUP"
      ]
    },
    {
      "cell_type": "code",
      "execution_count": null,
      "metadata": {
        "id": "YjRd7Nkvqogv"
      },
      "outputs": [],
      "source": []
    },
    {
      "cell_type": "code",
      "execution_count": null,
      "metadata": {
        "colab": {
          "base_uri": "https://localhost:8080/"
        },
        "id": "z8vrfg_Vohu_",
        "outputId": "9c839499-cb0f-4bda-f8df-79fe3019d5ec"
      },
      "outputs": [
        {
          "name": "stdout",
          "output_type": "stream",
          "text": [
            "Mounted at /content/drive\n"
          ]
        }
      ],
      "source": [
        "from google.colab import drive\n",
        "drive.mount('/content/drive')"
      ]
    },
    {
      "cell_type": "markdown",
      "metadata": {
        "id": "H8obayaURKGr"
      },
      "source": [
        "SETUP Imports and counters/accumulators"
      ]
    },
    {
      "cell_type": "code",
      "execution_count": null,
      "metadata": {
        "id": "6ySplNzLRIEs"
      },
      "outputs": [],
      "source": [
        "from imageai.Detection import VideoObjectDetection\n",
        "import os\n",
        "import time\n",
        "import calendar\n",
        "import imutils\n",
        "from imutils.video import FPS\n",
        "from imutils.video import VideoStream\n",
        "\n",
        "\n",
        "\n",
        "carcc = .1; carconf = 0; carplot=[]\n",
        "personcc = .1; personconf = 0; personplot=[]\n",
        "motorbikecc = .1; motorbikeconf = 0; motorbikeplot = []\n",
        "truckcc = .1; truckconf = 0; truckplot = []\n",
        "xxx=0"
      ]
    },
    {
      "cell_type": "markdown",
      "metadata": {
        "id": "HzFY2tSrRYwD"
      },
      "source": [
        "Run Detector"
      ]
    },
    {
      "cell_type": "code",
      "execution_count": null,
      "metadata": {
        "colab": {
          "base_uri": "https://localhost:8080/"
        },
        "id": "J4RvR0hVqomi",
        "outputId": "c584235c-5f7b-48bc-d2d5-a0c0c1b70e67"
      },
      "outputs": [
        {
          "name": "stdout",
          "output_type": "stream",
          "text": [
            "Current timestamp: 1662357264\n",
            "------------END OF A FRAME --------------\n",
            "Processing Frame :  1\n",
            "Processing Frame :  2\n",
            "Processing Frame :  3\n",
            "Processing Frame :  4\n",
            "Processing Frame :  5\n",
            "Processing Frame :  6\n",
            "Processing Frame :  7\n",
            "Processing Frame :  8\n",
            "Processing Frame :  9\n",
            "Processing Frame :  10\n",
            "Processing Frame :  11\n",
            "Processing Frame :  12\n",
            "Processing Frame :  13\n",
            "Processing Frame :  14\n",
            "Processing Frame :  15\n",
            "Processing Frame :  16\n",
            "Processing Frame :  17\n",
            "Processing Frame :  18\n",
            "Processing Frame :  19\n",
            "Processing Frame :  20\n",
            "Processing Frame :  21\n",
            "Processing Frame :  22\n",
            "Processing Frame :  23\n",
            "Processing Frame :  24\n",
            "Processing Frame :  25\n",
            "Processing Frame :  26\n",
            "Processing Frame :  27\n",
            "Processing Frame :  28\n",
            "Processing Frame :  29\n",
            "Processing Frame :  30\n",
            "Processing Frame :  31\n",
            "Processing Frame :  32\n",
            "Processing Frame :  33\n",
            "Processing Frame :  34\n",
            "Processing Frame :  35\n",
            "Processing Frame :  36\n",
            "Processing Frame :  37\n",
            "Processing Frame :  38\n",
            "Processing Frame :  39\n",
            "Processing Frame :  40\n",
            "Processing Frame :  41\n",
            "Processing Frame :  42\n",
            "Processing Frame :  43\n",
            "Processing Frame :  44\n",
            "Processing Frame :  45\n",
            "Processing Frame :  46\n",
            "Processing Frame :  47\n",
            "Processing Frame :  48\n",
            "Processing Frame :  49\n",
            "Processing Frame :  50\n",
            "Processing Frame :  51\n",
            "Processing Frame :  52\n",
            "Processing Frame :  53\n",
            "Processing Frame :  54\n",
            "Processing Frame :  55\n",
            "Processing Frame :  56\n",
            "Processing Frame :  57\n",
            "Processing Frame :  58\n",
            "Processing Frame :  59\n",
            "Processing Frame :  60\n",
            "Processing Frame :  61\n",
            "Processing Frame :  62\n",
            "Processing Frame :  63\n",
            "Processing Frame :  64\n",
            "Processing Frame :  65\n",
            "Processing Frame :  66\n",
            "Processing Frame :  67\n",
            "Processing Frame :  68\n",
            "Processing Frame :  69\n",
            "Processing Frame :  70\n",
            "Processing Frame :  71\n",
            "Processing Frame :  72\n",
            "Processing Frame :  73\n",
            "Processing Frame :  74\n",
            "Processing Frame :  75\n",
            "Processing Frame :  76\n",
            "Processing Frame :  77\n",
            "Processing Frame :  78\n",
            "Processing Frame :  79\n",
            "Processing Frame :  80\n",
            "Processing Frame :  81\n",
            "Processing Frame :  82\n",
            "Processing Frame :  83\n",
            "Processing Frame :  84\n",
            "Processing Frame :  85\n",
            "Processing Frame :  86\n",
            "Processing Frame :  87\n",
            "Processing Frame :  88\n",
            "Processing Frame :  89\n",
            "Processing Frame :  90\n",
            "Processing Frame :  91\n",
            "Processing Frame :  92\n",
            "Processing Frame :  93\n",
            "Processing Frame :  94\n",
            "Processing Frame :  95\n",
            "Processing Frame :  96\n",
            "Processing Frame :  97\n",
            "Processing Frame :  98\n",
            "Processing Frame :  99\n",
            "Processing Frame :  100\n",
            "Processing Frame :  101\n",
            "Processing Frame :  102\n",
            "Processing Frame :  103\n",
            "Processing Frame :  104\n",
            "Processing Frame :  105\n",
            "Processing Frame :  106\n",
            "Processing Frame :  107\n",
            "Processing Frame :  108\n",
            "Processing Frame :  109\n",
            "Processing Frame :  110\n",
            "Processing Frame :  111\n",
            "Processing Frame :  112\n",
            "Processing Frame :  113\n",
            "Processing Frame :  114\n",
            "Processing Frame :  115\n",
            "Processing Frame :  116\n",
            "Processing Frame :  117\n",
            "Processing Frame :  118\n",
            "Processing Frame :  119\n",
            "Processing Frame :  120\n",
            "Processing Frame :  121\n",
            "Processing Frame :  122\n",
            "Processing Frame :  123\n",
            "Processing Frame :  124\n",
            "Processing Frame :  125\n",
            "Processing Frame :  126\n",
            "Processing Frame :  127\n",
            "Processing Frame :  128\n",
            "Processing Frame :  129\n",
            "Processing Frame :  130\n",
            "Processing Frame :  131\n",
            "Processing Frame :  132\n",
            "Processing Frame :  133\n",
            "Processing Frame :  134\n",
            "Processing Frame :  135\n",
            "Processing Frame :  136\n",
            "Processing Frame :  137\n",
            "Processing Frame :  138\n",
            "Processing Frame :  139\n",
            "Processing Frame :  140\n",
            "Processing Frame :  141\n",
            "Processing Frame :  142\n",
            "Processing Frame :  143\n",
            "Processing Frame :  144\n",
            "Processing Frame :  145\n",
            "Processing Frame :  146\n",
            "Processing Frame :  147\n",
            "Processing Frame :  148\n",
            "Processing Frame :  149\n",
            "Processing Frame :  150\n",
            "Processing Frame :  151\n",
            "Processing Frame :  152\n",
            "Processing Frame :  153\n",
            "Processing Frame :  154\n",
            "Processing Frame :  155\n",
            "Processing Frame :  156\n",
            "Processing Frame :  157\n",
            "Processing Frame :  158\n",
            "Processing Frame :  159\n",
            "Processing Frame :  160\n",
            "Start: 1662357264\n",
            "End: 1662357925\n",
            "Time: 661\n",
            "[INFO] elasped time: 661.32\n",
            "[INFO] approx. FPS: 1.36\n",
            "///////////// CARtotal  408.1 324.60926604270935 0.7954159912832868\n",
            "///////////// PERSONtotal  11.1 7.035023510456085 0.6337859018428906\n",
            "///////////// MOTORBIKEtotal  1.1 0.5343309044837952 0.485755367712541\n",
            "///////////// TRUCKtotal  39.1 28.776113510131836 0.7359619823563129\n",
            "/content/drive/MyDrive/colab/detected_nybikeai.avi\n"
          ]
        }
      ],
      "source": [
        "\n",
        "#TIMER\n",
        "\n",
        "current_GMT = time.gmtime()\n",
        "time_stamp_start = calendar.timegm(current_GMT)\n",
        "print(\"Current timestamp:\", time_stamp_start)\n",
        "\n",
        "fps = FPS().start()\n",
        "\n",
        "#RUN\n",
        "execution_path = os.getcwd()\n",
        "\n",
        "# THIS IS THE OPTION FUNCTION FOR IMAGEAI THAT YOU CAN IMPROVISE\n",
        "# I USE IT FOR COUNTERS AND ACCUMULATORS\n",
        "\n",
        "def forFrame(frame_number, output_array, output_count):\n",
        "  global carcc, carconf, personcc, personconf\n",
        "  global motorbikecc, motorbikeconf, truckcc, truckconf\n",
        "  #print(\"FOR FRAME  \" , frame_number, \"   ++++++++++++++++++++++++++++++++++++++++++++++++++\")\n",
        "  #print(\"Output for each object : \", output_array)\n",
        "  #print(\"Output count for unique objects : \", output_count)\n",
        "  #print(type(output_array))\n",
        "  #print(\">>>>>\", output_array[0])\n",
        "  #for key,value in output_array[0].items():\n",
        "\t  #print(key, ':', value)\n",
        "\n",
        "  #  Countes/accumulators\n",
        "  for item in output_array:\n",
        "      conf = item.get(\"percentage_probability\")\n",
        "      flag = item.get(\"name\")\n",
        "      #print(\"*****\", flag, conf)\n",
        "      if flag == \"car\":\n",
        "        carcc = carcc + 1\n",
        "        carconf = carconf + conf/100\n",
        "        carplot.append(conf/100)\n",
        "      if flag == \"person\":\n",
        "        personcc = personcc + 1\n",
        "        personconf = personconf + conf/100\n",
        "        personplot.append(conf/100)\n",
        "      if flag == \"motorcycle\":\n",
        "        motorbikecc = motorbikecc + 1\n",
        "        motorbikeconf = motorbikeconf + conf/100\n",
        "        motorbikeplot.append(conf/100)\n",
        "      if flag == \"truck\":\n",
        "        truckcc = truckcc + 1\n",
        "        truckconf = truckconf + conf/100\n",
        "        truckplot.append(conf/100)\n",
        "\n",
        "      #print(\"CAR\", carcc, \"PERSON\", personcc, \"MOTORCYCLE\", motorbikecc, \"TRUCK\", truckcc)\n",
        "      fps.update()\n",
        "    \n",
        "   \n",
        "\n",
        "print(\"------------END OF A FRAME --------------\")\n",
        "\n",
        "# STANDARD Video Detection in Video code from ImageAI\n",
        "# YOLOv3 version\n",
        "\n",
        "detector = VideoObjectDetection()\n",
        "detector.setModelTypeAsYOLOv3()\n",
        "detector.setModelPath( os.path.join(execution_path , \"/content/drive/MyDrive/colab/yolo.h5\"))\n",
        "detector.loadModel()\n",
        "\n",
        "video_path = detector.detectObjectsFromVideo(input_file_path=os.path.join(execution_path, \"/content/drive/MyDrive/colab/nynight_bike_m.mp4\"),\n",
        "                                output_file_path=os.path.join(execution_path, \"/content/drive/MyDrive/colab/detected_nybikeai\")\n",
        "                                , frames_per_second=20, log_progress=True, display_percentage_probability=True, display_object_name=True, per_frame_function=forFrame)\n",
        "\n",
        "\n",
        "\n",
        "#  ENDING - REPORTS\n",
        "current_GMT = time.gmtime()\n",
        "time_stamp_end = calendar.timegm(current_GMT)\n",
        "print(\"Start:\", time_stamp_start)\n",
        "print(\"End:\", time_stamp_end)\n",
        "print(\"Time:\", time_stamp_end - time_stamp_start)\n",
        "\n",
        "\n",
        "\n",
        "fps.update()\n",
        "fps.stop()\n",
        "\n",
        "print(\"[INFO] elasped time: {:.2f}\".format(fps.elapsed()))\n",
        "print(\"[INFO] approx. FPS: {:.2f}\".format(fps.fps()))\n",
        "\n",
        "print(\"///////////// CARtotal \", carcc, carconf, carconf/carcc)\n",
        "print(\"///////////// PERSONtotal \", personcc, personconf, personconf/personcc)\n",
        "print(\"///////////// MOTORBIKEtotal \", motorbikecc, motorbikeconf, motorbikeconf/motorbikecc)\n",
        "print(\"///////////// TRUCKtotal \", truckcc, truckconf, truckconf/truckcc)\n",
        "print(video_path)"
      ]
    },
    {
      "cell_type": "code",
      "execution_count": null,
      "metadata": {
        "colab": {
          "base_uri": "https://localhost:8080/",
          "height": 471
        },
        "id": "86tSxSnNcApr",
        "outputId": "9febc665-738d-4d06-a298-498f67dfca85"
      },
      "outputs": [
        {
          "name": "stdout",
          "output_type": "stream",
          "text": [
            "Looking in indexes: https://pypi.org/simple, https://us-python.pkg.dev/colab-wheels/public/simple/\n",
            "Collecting matplotlib==3.1.3\n",
            "  Downloading matplotlib-3.1.3-cp37-cp37m-manylinux1_x86_64.whl (13.1 MB)\n",
            "\u001b[K     |████████████████████████████████| 13.1 MB 4.9 MB/s \n",
            "\u001b[?25hRequirement already satisfied: numpy>=1.11 in /usr/local/lib/python3.7/dist-packages (from matplotlib==3.1.3) (1.19.3)\n",
            "Requirement already satisfied: cycler>=0.10 in /usr/local/lib/python3.7/dist-packages (from matplotlib==3.1.3) (0.11.0)\n",
            "Requirement already satisfied: pyparsing!=2.0.4,!=2.1.2,!=2.1.6,>=2.0.1 in /usr/local/lib/python3.7/dist-packages (from matplotlib==3.1.3) (3.0.9)\n",
            "Requirement already satisfied: python-dateutil>=2.1 in /usr/local/lib/python3.7/dist-packages (from matplotlib==3.1.3) (2.8.2)\n",
            "Requirement already satisfied: kiwisolver>=1.0.1 in /usr/local/lib/python3.7/dist-packages (from matplotlib==3.1.3) (1.4.4)\n",
            "Requirement already satisfied: typing-extensions in /usr/local/lib/python3.7/dist-packages (from kiwisolver>=1.0.1->matplotlib==3.1.3) (3.7.4.3)\n",
            "Requirement already satisfied: six>=1.5 in /usr/local/lib/python3.7/dist-packages (from python-dateutil>=2.1->matplotlib==3.1.3) (1.15.0)\n",
            "Installing collected packages: matplotlib\n",
            "  Attempting uninstall: matplotlib\n",
            "    Found existing installation: matplotlib 3.3.2\n",
            "    Uninstalling matplotlib-3.3.2:\n",
            "      Successfully uninstalled matplotlib-3.3.2\n",
            "\u001b[31mERROR: pip's dependency resolver does not currently take into account all the packages that are installed. This behaviour is the source of the following dependency conflicts.\n",
            "plotnine 0.8.0 requires scipy>=1.5.0, but you have scipy 1.4.1 which is incompatible.\n",
            "imageai 2.1.6 requires matplotlib==3.3.2, but you have matplotlib 3.1.3 which is incompatible.\u001b[0m\n",
            "Successfully installed matplotlib-3.1.3\n"
          ]
        },
        {
          "data": {
            "application/vnd.colab-display-data+json": {
              "pip_warning": {
                "packages": [
                  "matplotlib",
                  "mpl_toolkits"
                ]
              }
            }
          },
          "metadata": {},
          "output_type": "display_data"
        }
      ],
      "source": [
        "\n",
        "pip install matplotlib==3.1.3"
      ]
    },
    {
      "cell_type": "code",
      "execution_count": null,
      "metadata": {
        "colab": {
          "base_uri": "https://localhost:8080/",
          "height": 317
        },
        "id": "MW9rz38BkozO",
        "outputId": "ae3de40e-36a7-48f3-b961-73637202d147"
      },
      "outputs": [
        {
          "name": "stdout",
          "output_type": "stream",
          "text": [
            "{'Cars': 0.7954159912832868, 'Persons': 0.6337859018428906, 'Motobikes': 0.485755367712541, 'Trucks': 0.7359619823563129}\n",
            "\n"
          ]
        },
        {
          "data": {
            "text/plain": [
              "(0.0, 1.0)"
            ]
          },
          "execution_count": 9,
          "metadata": {},
          "output_type": "execute_result"
        },
        {
          "data": {
            "image/png": "[encoded data removed]",
            "text/plain": [
              "<Figure size 432x288 with 1 Axes>"
            ]
          },
          "metadata": {},
          "output_type": "display_data"
        }
      ],
      "source": [
        "\n",
        "#  PLOT SCORE RESULTS\n",
        "\n",
        "import matplotlib.pyplot as plt\n",
        "import numpy as np\n",
        "plt.style.use('dark_background')\n",
        "\n",
        "xkeys = ['Cars', 'Persons', 'Motobikes', 'Trucks']\n",
        "xvalues = [carconf/carcc, personconf/personcc, motorbikeconf/motorbikecc, truckconf/truckcc]\n",
        "xd = dict(zip(xkeys, xvalues))\n",
        "print(xd)\n",
        "print()\n",
        "\n",
        "\n",
        "\n",
        "group_data = list(xd.values())\n",
        "group_names = list(xd.keys())\n",
        "group_mean = np.mean(group_data)\n",
        "\n",
        "fig, ax = plt.subplots()\n",
        "ax.barh(group_names, group_data)\n",
        "ax.set_xlim([0,1])"
      ]
    },
    {
      "cell_type": "code",
      "execution_count": null,
      "metadata": {
        "id": "NYTsb9-oko3Y"
      },
      "outputs": [],
      "source": []
    },
    {
      "cell_type": "code",
      "execution_count": null,
      "metadata": {
        "id": "QXo4_qRZko7l"
      },
      "outputs": [],
      "source": [
        "print(len(personplot))"
      ]
    },
    {
      "cell_type": "code",
      "execution_count": null,
      "metadata": {
        "id": "L0Ciswy_XImR"
      },
      "outputs": [],
      "source": [
        "#  This part transfer save to be load via drive in ImageAI notebook\n",
        "\n",
        "from matplotlib import docstring\n",
        "import numpy as np \n",
        "co06ai = carplot # create an array of 1000 1's for the example \n",
        "po06ai = personplot\n",
        "mo06ai = motorbikeplot\n",
        "to06ai = truckplot\n",
        "xv06ai = xvalues\n",
        "\n",
        "np.save('/content/drive/MyDrive/colab/var/co06ai', co06ai)\n",
        "\n",
        "np.save('/content/drive/MyDrive/colab/var/po06ai', po06ai)\n",
        "        \n",
        "np.save('/content/drive/MyDrive/colab/var/mo06ai', mo06ai)\n",
        "        \n",
        "np.save('/content/drive/MyDrive/colab/var/to06ai', to06ai)\n",
        "\n",
        "np.save('/content/drive/MyDrive/colab/var/xv06ai', xv06ai)"
      ]
    },
    {
      "cell_type": "code",
      "execution_count": null,
      "metadata": {
        "id": "gz7-lL8GSNaG"
      },
      "outputs": [],
      "source": [
        "#Tranfer timestamp of ImageAI\n",
        "\n",
        "tot_time =  time_stamp_end - time_stamp_start\n",
        "\n",
        "file = open(\"/content/drive/MyDrive/colab/var/transtime06ai.txt\", \"w\")\n",
        "str = repr(tot_time)\n",
        "file.write(str)\n",
        "file.close()\n",
        "\n"
      ]
    },
    {
      "cell_type": "code",
      "execution_count": null,
      "metadata": {
        "id": "nkHwv1eEjFm6"
      },
      "outputs": [],
      "source": [
        "#This is for future test without running all\n",
        "#  LOAD RESULTS FROM OPENCV\n",
        "\n",
        "import numpy as np\n",
        "import matplotlib.pyplot as plt\n",
        "\n",
        "carplot = np.load('/content/drive/MyDrive/colab/var/co02ai.npy') \n",
        "\n",
        "pensonplot = np.load('/content/drive/MyDrive/colab/var/po02ai.npy') \n",
        "\n",
        "miotorbikeplot = np.load('/content/drive/MyDrive/colab/var/mo02ai.npy') \n",
        "\n",
        "truckplot = np.load('/content/drive/MyDrive/colab/var/to02ai.npy') \n",
        "\n",
        "xvalues = np.load('/content/drive/MyDrive/colab/var/xv02ai.npy') \n"
      ]
    },
    {
      "cell_type": "code",
      "execution_count": null,
      "metadata": {
        "id": "ro7jqhE8x7ZV"
      },
      "outputs": [],
      "source": [
        "#  LOAD RESULTS FROM OPENCV\n",
        "\n",
        "import numpy as np\n",
        "import matplotlib.pyplot as plt\n",
        "\n",
        "ci = np.load('/content/drive/MyDrive/colab/var/co02cv.npy') \n",
        "\n",
        "pi = np.load('/content/drive/MyDrive/colab/var/po02cv.npy') \n",
        "\n",
        "mi = np.load('/content/drive/MyDrive/colab/var/mo02cv.npy') \n",
        "\n",
        "ti = np.load('/content/drive/MyDrive/colab/var/to02cv.npy') \n",
        "\n",
        "xi = np.load('/content/drive/MyDrive/colab/var/xv02cv.npy') \n"
      ]
    },
    {
      "cell_type": "code",
      "execution_count": null,
      "metadata": {
        "colab": {
          "base_uri": "https://localhost:8080/"
        },
        "id": "iI3B4xkdScM7",
        "outputId": "88f79229-1a30-42f8-9976-03503b09bf4f"
      },
      "outputs": [
        {
          "name": "stdout",
          "output_type": "stream",
          "text": [
            "[0.77304202 0.63026441 0.52373136 0.63976388]\n"
          ]
        }
      ],
      "source": [
        "print(xi)"
      ]
    },
    {
      "cell_type": "markdown",
      "metadata": {
        "id": "eWqcJMX-XTNk"
      },
      "source": [
        "BELOW WILL PLOT ALL DETECTIONS FROM OpenCV (CV) and ImageAI  (AI)\n"
      ]
    },
    {
      "cell_type": "code",
      "execution_count": null,
      "metadata": {
        "colab": {
          "base_uri": "https://localhost:8080/",
          "height": 283
        },
        "id": "NSt8CpFM5EmX",
        "outputId": "8b896ed5-1f03-4287-e50c-13bdf6dab39e"
      },
      "outputs": [
        {
          "data": {
            "image/png": "[encoded data removed]",
            "text/plain": [
              "<Figure size 432x288 with 2 Axes>"
            ]
          },
          "metadata": {},
          "output_type": "display_data"
        }
      ],
      "source": [
        "\n",
        "x1 = np.array(range(0, len(ci)))\n",
        "y1 = ci\n",
        "\n",
        "x2 = np.array(range(0, len(carplot)))\n",
        "y2 = carplot\n",
        "\n",
        "plt.subplot(1, 2, 1)\n",
        "plt.scatter(x1, y1)\n",
        "plt.xlabel(\"CARS CV\")\n",
        "plt.ylim([0,1])\n",
        "\n",
        "plt.subplot(1, 2, 2)\n",
        "plt.scatter(x2, y2)\n",
        "plt.xlabel(\"CARS AI\")\n",
        "plt.ylim([0,1])\n",
        "\n",
        "plt.show()"
      ]
    },
    {
      "cell_type": "code",
      "execution_count": null,
      "metadata": {
        "colab": {
          "base_uri": "https://localhost:8080/",
          "height": 283
        },
        "id": "9bZmJdd5lWYZ",
        "outputId": "8b21aa92-926a-41e8-c756-6506fa74c563"
      },
      "outputs": [
        {
          "data": {
            "image/png": "[encoded data removed]",
            "text/plain": [
              "<Figure size 432x288 with 2 Axes>"
            ]
          },
          "metadata": {},
          "output_type": "display_data"
        }
      ],
      "source": [
        "\n",
        "x1 = np.array(range(0, len(pi)))\n",
        "y1 =pi\n",
        "\n",
        "x2 = np.array(range(0, len(personplot)))\n",
        "y2 = personplot\n",
        "\n",
        "plt.subplot(1, 2, 1)\n",
        "plt.scatter(x1, y1, color = \"red\")\n",
        "plt.xlabel(\"PERSON CV\")\n",
        "plt.ylim([0,1])\n",
        "\n",
        "plt.subplot(1, 2, 2)\n",
        "plt.scatter(x2, y2, color = \"red\")\n",
        "plt.xlabel(\"PERSON AI/100\")\n",
        "plt.ylim([0,1])\n",
        "\n",
        "#plt.legend([\"blue\", \"green\"], loc =\"lower right\")\n",
        "\n",
        "plt.show()"
      ]
    },
    {
      "cell_type": "code",
      "execution_count": null,
      "metadata": {
        "colab": {
          "base_uri": "https://localhost:8080/",
          "height": 283
        },
        "id": "SHC6VyvPlWbt",
        "outputId": "25f04488-d257-4e71-e59c-56a9ab8a6628"
      },
      "outputs": [
        {
          "data": {
            "image/png": "[encoded data removed]",
            "text/plain": [
              "<Figure size 432x288 with 2 Axes>"
            ]
          },
          "metadata": {},
          "output_type": "display_data"
        }
      ],
      "source": [
        "\n",
        "x1 = np.array(range(0, len(mi)))\n",
        "y1 = mi\n",
        "\n",
        "x2 = np.array(range(0, len(motorbikeplot)))\n",
        "y2 = motorbikeplot\n",
        "\n",
        "plt.subplot(1, 2, 1)\n",
        "plt.scatter(x1, y1, color = \"blue\")\n",
        "plt.xlabel(\"MOTORCYCLES CV\")\n",
        "plt.ylim([0,1])\n",
        "\n",
        "plt.subplot(1, 2, 2)\n",
        "plt.scatter(x2, y2, color = \"blue\")\n",
        "plt.xlabel(\"MOTORCYCLES AI\")\n",
        "plt.ylim([0,1])\n",
        "\n",
        "plt.show()"
      ]
    },
    {
      "cell_type": "code",
      "execution_count": null,
      "metadata": {
        "colab": {
          "base_uri": "https://localhost:8080/",
          "height": 283
        },
        "id": "z9gi_p5olWe-",
        "outputId": "ba005bc8-df4c-42f2-b9de-5357ff0c06eb"
      },
      "outputs": [
        {
          "data": {
            "image/png": "[encoded data removed]",
            "text/plain": [
              "<Figure size 432x288 with 2 Axes>"
            ]
          },
          "metadata": {},
          "output_type": "display_data"
        }
      ],
      "source": [
        "\n",
        "x1 = np.array(range(0, len(ti)))\n",
        "y1 = ti\n",
        "\n",
        "x2 = np.array(range(0, len(truckplot)))\n",
        "y2 = truckplot\n",
        "\n",
        "plt.subplot(1, 2, 1)\n",
        "plt.scatter(x1, y1, color = \"yellow\")\n",
        "plt.xlabel(\"TRUCKS CV\")\n",
        "plt.ylim([0,1])\n",
        "\n",
        "plt.subplot(1, 2, 2)\n",
        "plt.scatter(x2, y2, color = \"yellow\")\n",
        "plt.xlabel(\"TRUCKS AI\")\n",
        "plt.ylim([0,1])\n",
        "\n",
        "plt.show()"
      ]
    },
    {
      "cell_type": "code",
      "execution_count": null,
      "metadata": {
        "id": "TOs6wvXse6Us"
      },
      "outputs": [],
      "source": []
    },
    {
      "cell_type": "markdown",
      "metadata": {
        "id": "OZRztn1KrVfV"
      },
      "source": [
        "ANALYSIS and FINDINGS REPORTS"
      ]
    },
    {
      "cell_type": "code",
      "execution_count": null,
      "metadata": {
        "colab": {
          "base_uri": "https://localhost:8080/",
          "height": 429
        },
        "id": "8krvC4dXe_4z",
        "outputId": "a06330f1-ba19-4caa-8dc7-a5e8d4fa74f5"
      },
      "outputs": [
        {
          "data": {
            "image/png": "[encoded data removed]",
            "text/plain": [
              "<Figure size 720x504 with 1 Axes>"
            ]
          },
          "metadata": {},
          "output_type": "display_data"
        }
      ],
      "source": [
        "# Import libraries\n",
        "from matplotlib import pyplot as plt\n",
        "import numpy as np\n",
        "plt.style.use('dark_background')\n",
        " \n",
        "#get timestamp from OpenCV\n",
        "# open the data file\n",
        "file = open(\"/content/drive/MyDrive/colab/var/transtime02cv.txt\")\n",
        "# read the file as a list\n",
        "data = file.readlines()\n",
        "# close the file\n",
        "file.close()\n",
        "cvtime = int(data[0])\n",
        "\n",
        "#get timestamp from ImageAI\n",
        "# open the data file\n",
        "file = open(\"/content/drive/MyDrive/colab/var/transtime02ai.txt\")\n",
        "# read the file as a list\n",
        "data = file.readlines()\n",
        "# close the file\n",
        "file.close()\n",
        "aitime = int(data[0])\n",
        "\n",
        "\n",
        "\n",
        "# Get ImageAI timestamp , mix and repot\n",
        "\n",
        "#aitime = time_stamp_end - time_stamp_start\n",
        " \n",
        "# Creating dataset\n",
        "\n",
        "totratio = cvtime + aitime\n",
        "tcvout = \"OPENCV \"+str(round(cvtime/totratio*100,2))+\"%\"\n",
        "taiout = \"IMAGEAI \"+str(round(aitime/totratio*100,2))+\"%\"\n",
        "\n",
        "libTime = [tcvout, taiout]\n",
        " \n",
        "data = [cvtime, aitime]\n",
        " \n",
        "# Creating plot\n",
        "fig = plt.figure(figsize =(10, 7))\n",
        "plt.pie(data, labels = libTime)\n",
        "plt.title(label=\"TimeStamp OpenCV and ImageAI\",\n",
        "          fontsize=15,\n",
        "          color=\"green\")\n",
        "\n",
        " \n",
        "# show plot\n",
        "plt.show()"
      ]
    },
    {
      "cell_type": "code",
      "execution_count": null,
      "metadata": {
        "colab": {
          "base_uri": "https://localhost:8080/",
          "height": 517
        },
        "id": "zaxUjEnwbtBf",
        "outputId": "dd56b49d-971f-402d-fea0-ca61a7e5175f"
      },
      "outputs": [
        {
          "data": {
            "image/png": "[encoded data removed]",
            "text/plain": [
              "<Figure size 576x576 with 1 Axes>"
            ]
          },
          "metadata": {},
          "output_type": "display_data"
        }
      ],
      "source": [
        "#  This is where the total of both is displayed\n",
        "\n",
        "import numpy as np\n",
        "import pandas as pd\n",
        "import seaborn as sns\n",
        "import matplotlib.pyplot as plt\n",
        "\n",
        "\n",
        "\n",
        "data = {\"Libraries\": [\"OpenCV\", \"ImageAI\"],\n",
        "\t\t\"RunTime\": [cvtime, aitime]}\n",
        "df = pd.DataFrame(data, columns=['Libraries', 'RunTime'])\n",
        "plt.figure(figsize=(8, 8))\n",
        "plots = sns.barplot(x=\"Libraries\", y=\"RunTime\", data=df)\n",
        "for bar in plots.patches:\n",
        "\tplots.annotate(format(bar.get_height(), '.2f'),\n",
        "\t\t\t\t(bar.get_x() + bar.get_width() / 2,\n",
        "\t\t\t\t\tbar.get_height()), ha='center', va='center',\n",
        "\t\t\t\tsize=15, xytext=(0, 8),\n",
        "\t\t\t\ttextcoords='offset points')\n",
        "plt.xlabel(\"Libraries\", size=14)\n",
        "plt.ylabel(\"RunTime\", size=14)\n",
        "plt.title(\"This is running time in seconds\")\n",
        "plt.show()\n",
        "\n"
      ]
    },
    {
      "cell_type": "code",
      "execution_count": null,
      "metadata": {
        "colab": {
          "base_uri": "https://localhost:8080/",
          "height": 352
        },
        "id": "Gr-LmvMTNdM-",
        "outputId": "29a3175b-5847-4070-ac13-7397d73e8fd7"
      },
      "outputs": [
        {
          "data": {
            "image/png": "[encoded data removed]",
            "text/plain": [
              "<Figure size 432x288 with 1 Axes>"
            ]
          },
          "metadata": {},
          "output_type": "display_data"
        }
      ],
      "source": [
        "import numpy as np\n",
        "import matplotlib.pyplot as plt\n",
        "xt = [\"Cars\", \"Persons\", \"Motorcycles\", \"Trucks\"]\n",
        "\n",
        "data = [[xi[0], xi[1], xi[2], xi[3]],\n",
        "[carconf/carcc, personconf/personcc, motorbikeconf/motorbikecc, truckconf/truckcc]]\n",
        "X = np.arange(4)\n",
        "fig = plt.figure()\n",
        "ax = fig.add_axes([0,0,1,1])\n",
        "ax.bar(xt, data[0], color = 'b', width = 0.25)\n",
        "ax.bar(X+0.50, data[1], color = 'g', width = 0.25)\n",
        "ax.set_ylim([0, 1])\n",
        "plt.title(\"Comparison objects scores both libraries\")\n",
        "\n",
        "plt.show()"
      ]
    },
    {
      "cell_type": "code",
      "execution_count": null,
      "metadata": {
        "colab": {
          "base_uri": "https://localhost:8080/"
        },
        "id": "-2JsIAvvjp02",
        "outputId": "524284d9-0573-40d9-d67c-53f8feecf567"
      },
      "outputs": [
        {
          "name": "stdout",
          "output_type": "stream",
          "text": [
            "0.6417004182512512 0.7245278231718827\n"
          ]
        }
      ],
      "source": [
        "import numpy as np\n",
        "import pandas as pd\n",
        "import seaborn as sns\n",
        "import matplotlib.pyplot as plt\n",
        "\n",
        "#  Calculating subtotals\n",
        "\n",
        "totalcv = ((xi[0] + xi[1] + xi[2] + xi[3]))/4\n",
        "\n",
        "totalai = (carconf/carcc + personconf/personcc + motorbikeconf/motorbikecc + truckconf/truckcc)/4\n",
        "\n",
        "print(totalcv, totalai)"
      ]
    },
    {
      "cell_type": "code",
      "execution_count": null,
      "metadata": {
        "colab": {
          "base_uri": "https://localhost:8080/",
          "height": 517
        },
        "id": "sYY4UYBPiA4B",
        "outputId": "ab4980ec-fbbf-4144-8526-d0122c9bff84"
      },
      "outputs": [
        {
          "data": {
            "image/png": "[encoded data removed]",
            "text/plain": [
              "<Figure size 576x576 with 1 Axes>"
            ]
          },
          "metadata": {},
          "output_type": "display_data"
        }
      ],
      "source": [
        "#  Another plot for the total of accurate hits for 4 objects\n",
        "data = {\"Libraries\": [\"OpenCV\", \"ImageAI\"],\n",
        "\t\t\"RunTime\": [totalcv, totalai]}\n",
        "df = pd.DataFrame(data, columns=['Libraries', 'RunTime'])\n",
        "plt.figure(figsize=(8, 8))\n",
        "plots = sns.barplot(x=\"Libraries\", y=\"RunTime\", data=df, color = \"salmon\")\n",
        "for bar in plots.patches:\n",
        "\tplots.annotate(format(bar.get_height(), '.2f'),\n",
        "\t\t\t\t(bar.get_x() + bar.get_width() / 2,\n",
        "\t\t\t\t\tbar.get_height()), ha='center', va='center',\n",
        "\t\t\t\tsize=15, xytext=(0, 8),\n",
        "\t\t\t\ttextcoords='offset points')\n",
        "plt.xlabel(\"Libraries\", size=14)\n",
        "plt.ylabel(\"RunTime\", size=14)\n",
        "plt.ylim ([0, 1])\n",
        "plt.title(\"Accurate hits total for all 4 objects\")\n",
        "plt.show()"
      ]
    }
  ],
  "metadata": {
    "accelerator": "GPU",
    "colab": {
      "collapsed_sections": [],
      "provenance": []
    },
    "gpuClass": "standard",
    "kernelspec": {
      "display_name": "Python 3.9.13 64-bit (microsoft store)",
      "language": "python",
      "name": "python3"
    },
    "language_info": {
      "name": "python",
      "version": "3.9.13"
    },
    "vscode": {
      "interpreter": {
        "hash": "a74c002d188b1aa5740b97468140ffb2c7f9d2ba79e32b4d6d1bd2ae5bb03638"
      }
    }
  },
  "nbformat": 4,
  "nbformat_minor": 0
}

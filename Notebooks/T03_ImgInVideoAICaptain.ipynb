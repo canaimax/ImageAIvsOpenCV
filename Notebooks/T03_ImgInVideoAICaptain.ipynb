{
  "cells": [
    {
      "cell_type": "code",
      "execution_count": 4,
      "metadata": {
        "id": "ZGz4tceyCga-"
      },
      "outputs": [],
      "source": []
    },
    {
      "cell_type": "code",
      "execution_count": 4,
      "metadata": {
        "id": "acKHaHZ-qnWE"
      },
      "outputs": [],
      "source": []
    },
    {
      "cell_type": "markdown",
      "metadata": {
        "id": "spCV35vkpKPb"
      },
      "source": [
        "Gus Marquez IS687\n",
        "\n",
        "Captain's ImageAI Object Detection in Video\n",
        "\n",
        "(Help for these code can be found in ImageAI\n",
        "\n",
        "  additional graphs in seaborn    numpy and pandas documentation)\n",
        "\n",
        "Google Drive Mounted /content/drive/MyDrive/colab/\n",
        "\n",
        "LOAD LIBRARIES and SETUP"
      ]
    },
    {
      "cell_type": "code",
      "execution_count": 4,
      "metadata": {
        "id": "YjRd7Nkvqogv"
      },
      "outputs": [],
      "source": []
    },
    {
      "cell_type": "code",
      "execution_count": 5,
      "metadata": {
        "colab": {
          "base_uri": "https://localhost:8080/"
        },
        "id": "z8vrfg_Vohu_",
        "outputId": "579239a0-dc98-4051-e6d7-df2a50e2c213"
      },
      "outputs": [
        {
          "name": "stdout",
          "output_type": "stream",
          "text": [
            "Mounted at /content/drive\n"
          ]
        }
      ],
      "source": [
        "from google.colab import drive\n",
        "drive.mount('/content/drive')"
      ]
    },
    {
      "cell_type": "markdown",
      "metadata": {
        "id": "H8obayaURKGr"
      },
      "source": [
        "SETUP Imports and counters/accumulators"
      ]
    },
    {
      "cell_type": "code",
      "execution_count": 6,
      "metadata": {
        "id": "6ySplNzLRIEs"
      },
      "outputs": [],
      "source": [
        "from imageai.Detection import VideoObjectDetection\n",
        "import os\n",
        "import time\n",
        "import calendar\n",
        "import imutils\n",
        "from imutils.video import FPS\n",
        "from imutils.video import VideoStream\n",
        "\n",
        "\n",
        "\n",
        "carcc = 0; carconf = 0; carplot=[]\n",
        "personcc = 0; personconf = 0; personplot=[]\n",
        "motorbikecc = 0; motorbikeconf = 0; motorbikeplot = []\n",
        "truckcc = 0; truckconf = 0; truckplot = []\n",
        "xxx=0"
      ]
    },
    {
      "cell_type": "markdown",
      "metadata": {
        "id": "HzFY2tSrRYwD"
      },
      "source": [
        "Run Detector"
      ]
    },
    {
      "cell_type": "code",
      "execution_count": 7,
      "metadata": {
        "colab": {
          "base_uri": "https://localhost:8080/"
        },
        "id": "J4RvR0hVqomi",
        "outputId": "fc501555-0c2d-4e9a-9520-3bbc8d68b253"
      },
      "outputs": [
        {
          "name": "stdout",
          "output_type": "stream",
          "text": [
            "Current timestamp: 1661926693\n",
            "------------END OF A FRAME --------------\n",
            "Processing Frame :  1\n",
            "Processing Frame :  2\n",
            "Processing Frame :  3\n",
            "Processing Frame :  4\n",
            "Processing Frame :  5\n",
            "Processing Frame :  6\n",
            "Processing Frame :  7\n",
            "Processing Frame :  8\n",
            "Processing Frame :  9\n",
            "Processing Frame :  10\n",
            "Processing Frame :  11\n",
            "Processing Frame :  12\n",
            "Processing Frame :  13\n",
            "Processing Frame :  14\n",
            "Processing Frame :  15\n",
            "Processing Frame :  16\n",
            "Processing Frame :  17\n",
            "Processing Frame :  18\n",
            "Processing Frame :  19\n",
            "Processing Frame :  20\n",
            "Processing Frame :  21\n",
            "Processing Frame :  22\n",
            "Processing Frame :  23\n",
            "Processing Frame :  24\n",
            "Processing Frame :  25\n",
            "Processing Frame :  26\n",
            "Processing Frame :  27\n",
            "Processing Frame :  28\n",
            "Processing Frame :  29\n",
            "Processing Frame :  30\n",
            "Processing Frame :  31\n",
            "Processing Frame :  32\n",
            "Processing Frame :  33\n",
            "Processing Frame :  34\n",
            "Processing Frame :  35\n",
            "Processing Frame :  36\n",
            "Processing Frame :  37\n",
            "Processing Frame :  38\n",
            "Processing Frame :  39\n",
            "Processing Frame :  40\n",
            "Processing Frame :  41\n",
            "Processing Frame :  42\n",
            "Processing Frame :  43\n",
            "Processing Frame :  44\n",
            "Processing Frame :  45\n",
            "Processing Frame :  46\n",
            "Processing Frame :  47\n",
            "Processing Frame :  48\n",
            "Processing Frame :  49\n",
            "Processing Frame :  50\n",
            "Processing Frame :  51\n",
            "Processing Frame :  52\n",
            "Processing Frame :  53\n",
            "Processing Frame :  54\n",
            "Processing Frame :  55\n",
            "Processing Frame :  56\n",
            "Processing Frame :  57\n",
            "Processing Frame :  58\n",
            "Processing Frame :  59\n",
            "Processing Frame :  60\n",
            "Processing Frame :  61\n",
            "Processing Frame :  62\n",
            "Processing Frame :  63\n",
            "Processing Frame :  64\n",
            "Processing Frame :  65\n",
            "Processing Frame :  66\n",
            "Processing Frame :  67\n",
            "Processing Frame :  68\n",
            "Processing Frame :  69\n",
            "Processing Frame :  70\n",
            "Processing Frame :  71\n",
            "Processing Frame :  72\n",
            "Processing Frame :  73\n",
            "Processing Frame :  74\n",
            "Processing Frame :  75\n",
            "Processing Frame :  76\n",
            "Processing Frame :  77\n",
            "Processing Frame :  78\n",
            "Processing Frame :  79\n",
            "Processing Frame :  80\n",
            "Processing Frame :  81\n",
            "Processing Frame :  82\n",
            "Processing Frame :  83\n",
            "Processing Frame :  84\n",
            "Processing Frame :  85\n",
            "Processing Frame :  86\n",
            "Processing Frame :  87\n",
            "Processing Frame :  88\n",
            "Processing Frame :  89\n",
            "Processing Frame :  90\n",
            "Processing Frame :  91\n",
            "Processing Frame :  92\n",
            "Processing Frame :  93\n",
            "Processing Frame :  94\n",
            "Processing Frame :  95\n",
            "Processing Frame :  96\n",
            "Processing Frame :  97\n",
            "Processing Frame :  98\n",
            "Processing Frame :  99\n",
            "Processing Frame :  100\n",
            "Processing Frame :  101\n",
            "Processing Frame :  102\n",
            "Processing Frame :  103\n",
            "Start: 1661926693\n",
            "End: 1661927326\n",
            "Time: 633\n",
            "[INFO] elasped time: 632.90\n",
            "[INFO] approx. FPS: 4.32\n",
            "///////////// CARtotal  1387 1257.9943560361862 0.9069894419871566\n",
            "///////////// PERSONtotal  722 565.7274845838547 0.7835560728308236\n",
            "///////////// MOTORBIKEtotal  601 542.9283499717712 0.9033749583556926\n",
            "///////////// TRUCKtotal  20 12.146565437316895 0.6073282718658447\n",
            "/content/traffic_detected.avi\n"
          ]
        }
      ],
      "source": [
        "\n",
        "#TIMER\n",
        "\n",
        "current_GMT = time.gmtime()\n",
        "time_stamp_start = calendar.timegm(current_GMT)\n",
        "print(\"Current timestamp:\", time_stamp_start)\n",
        "\n",
        "fps = FPS().start()\n",
        "\n",
        "#RUN\n",
        "execution_path = os.getcwd()\n",
        "\n",
        "# THIS IS THE OPTION FUNCTION FOR IMAGEAI THAT YOU CAN IMPROVISE\n",
        "# I USE IT FOR COUNTERS AND ACCUMULATORS\n",
        "\n",
        "def forFrame(frame_number, output_array, output_count):\n",
        "  global carcc, carconf, personcc, personconf\n",
        "  global motorbikecc, motorbikeconf, truckcc, truckconf\n",
        "  #print(\"FOR FRAME  \" , frame_number, \"   ++++++++++++++++++++++++++++++++++++++++++++++++++\")\n",
        "  #print(\"Output for each object : \", output_array)\n",
        "  #print(\"Output count for unique objects : \", output_count)\n",
        "  #print(type(output_array))\n",
        "  #print(\">>>>>\", output_array[0])\n",
        "  #for key,value in output_array[0].items():\n",
        "\t  #print(key, ':', value)\n",
        "\n",
        "  #  Countes/accumulators\n",
        "  for item in output_array:\n",
        "      conf = item.get(\"percentage_probability\")\n",
        "      flag = item.get(\"name\")\n",
        "      #print(\"*****\", flag, conf)\n",
        "      if flag == \"car\":\n",
        "        carcc = carcc + 1\n",
        "        carconf = carconf + conf/100\n",
        "        carplot.append(conf/100)\n",
        "      if flag == \"person\":\n",
        "        personcc = personcc + 1\n",
        "        personconf = personconf + conf/100\n",
        "        personplot.append(conf/100)\n",
        "      if flag == \"motorcycle\":\n",
        "        motorbikecc = motorbikecc + 1\n",
        "        motorbikeconf = motorbikeconf + conf/100\n",
        "        motorbikeplot.append(conf/100)\n",
        "      if flag == \"truck\":\n",
        "        truckcc = truckcc + 1\n",
        "        truckconf = truckconf + conf/100\n",
        "        truckplot.append(conf/100)\n",
        "\n",
        "      #print(\"CAR\", carcc, \"PERSON\", personcc, \"MOTORCYCLE\", motorbikecc, \"TRUCK\", truckcc)\n",
        "      fps.update()\n",
        "    \n",
        "   \n",
        "\n",
        "print(\"------------END OF A FRAME --------------\")\n",
        "\n",
        "# STANDARD Video Detection in Video code from ImageAI\n",
        "# YOLOv3 version\n",
        "\n",
        "detector = VideoObjectDetection()\n",
        "detector.setModelTypeAsYOLOv3()\n",
        "detector.setModelPath( os.path.join(execution_path , \"/content/drive/MyDrive/colab/yolo.h5\"))\n",
        "detector.loadModel()\n",
        "\n",
        "video_path = detector.detectObjectsFromVideo(input_file_path=os.path.join(execution_path, \"/content/drive/MyDrive/colab/traffictiny.mp4\"),\n",
        "                                output_file_path=os.path.join(execution_path, \"traffic_detected\")\n",
        "                                , frames_per_second=20, log_progress=True, display_percentage_probability=True, display_object_name=True, per_frame_function=forFrame)\n",
        "\n",
        "\n",
        "\n",
        "#  ENDING - REPORTS\n",
        "current_GMT = time.gmtime()\n",
        "time_stamp_end = calendar.timegm(current_GMT)\n",
        "print(\"Start:\", time_stamp_start)\n",
        "print(\"End:\", time_stamp_end)\n",
        "print(\"Time:\", time_stamp_end - time_stamp_start)\n",
        "\n",
        "\n",
        "fps.update()\n",
        "fps.stop()\n",
        "\n",
        "print(\"[INFO] elasped time: {:.2f}\".format(fps.elapsed()))\n",
        "print(\"[INFO] approx. FPS: {:.2f}\".format(fps.fps()))\n",
        "\n",
        "print(\"///////////// CARtotal \", carcc, carconf, carconf/carcc)\n",
        "print(\"///////////// PERSONtotal \", personcc, personconf, personconf/personcc)\n",
        "print(\"///////////// MOTORBIKEtotal \", motorbikecc, motorbikeconf, motorbikeconf/motorbikecc)\n",
        "print(\"///////////// TRUCKtotal \", truckcc, truckconf, truckconf/truckcc)\n",
        "print(video_path)"
      ]
    },
    {
      "cell_type": "code",
      "execution_count": 8,
      "metadata": {
        "colab": {
          "base_uri": "https://localhost:8080/"
        },
        "id": "npumCTGtqosM",
        "outputId": "5310643c-86b1-4098-eeeb-fc63b939e2e0"
      },
      "outputs": [
        {
          "name": "stdout",
          "output_type": "stream",
          "text": [
            "1387\n"
          ]
        }
      ],
      "source": [
        "print(len(carplot))"
      ]
    },
    {
      "cell_type": "code",
      "execution_count": 25,
      "metadata": {
        "colab": {
          "base_uri": "https://localhost:8080/",
          "height": 317
        },
        "id": "MW9rz38BkozO",
        "outputId": "7f12b38d-ce3d-408d-fe98-43cb81aa4891"
      },
      "outputs": [
        {
          "name": "stdout",
          "output_type": "stream",
          "text": [
            "{'Cars': 0.9069894419871566, 'Persons': 0.7835560728308236, 'Motobikes': 0.9033749583556926, 'Trucks': 0.6073282718658447}\n",
            "\n"
          ]
        },
        {
          "data": {
            "text/plain": [
              "<BarContainer object of 4 artists>"
            ]
          },
          "execution_count": 25,
          "metadata": {},
          "output_type": "execute_result"
        },
        {
          "data": {
            "image/png": "[encoded data removed]",
            "text/plain": [
              "<Figure size 432x288 with 1 Axes>"
            ]
          },
          "metadata": {},
          "output_type": "display_data"
        }
      ],
      "source": [
        "\n",
        "#  PLOT SCORE RESULTS\n",
        "\n",
        "import matplotlib.pyplot as plt\n",
        "import numpy as np\n",
        "plt.style.use('dark_background')\n",
        "\n",
        "xkeys = ['Cars', 'Persons', 'Motobikes', 'Trucks']\n",
        "xvalues = [carconf/carcc, personconf/personcc, motorbikeconf/motorbikecc, truckconf/truckcc]\n",
        "xd = dict(zip(xkeys, xvalues))\n",
        "print(xd)\n",
        "print()\n",
        "\n",
        "\n",
        "\n",
        "group_data = list(xd.values())\n",
        "group_names = list(xd.keys())\n",
        "group_mean = np.mean(group_data)\n",
        "\n",
        "fig, ax = plt.subplots()\n",
        "ax.set_xlim([0,1])\n",
        "ax.barh(group_names, group_data)"
      ]
    },
    {
      "cell_type": "code",
      "execution_count": 10,
      "metadata": {
        "id": "NYTsb9-oko3Y"
      },
      "outputs": [],
      "source": []
    },
    {
      "cell_type": "code",
      "execution_count": 11,
      "metadata": {
        "colab": {
          "base_uri": "https://localhost:8080/"
        },
        "id": "QXo4_qRZko7l",
        "outputId": "f92995c8-5f03-48f4-b8b4-fb809cb3727b"
      },
      "outputs": [
        {
          "name": "stdout",
          "output_type": "stream",
          "text": [
            "722\n"
          ]
        }
      ],
      "source": [
        "print(len(personplot))"
      ]
    },
    {
      "cell_type": "code",
      "execution_count": 11,
      "metadata": {
        "id": "L0Ciswy_XImR"
      },
      "outputs": [],
      "source": []
    },
    {
      "cell_type": "code",
      "execution_count": 12,
      "metadata": {
        "id": "ro7jqhE8x7ZV"
      },
      "outputs": [],
      "source": [
        "#  LOAD RESULTS FROM OPENCV\n",
        "\n",
        "import numpy as np\n",
        "import matplotlib.pyplot as plt\n",
        "\n",
        "ci = np.load('/content/drive/MyDrive/colab/co.npy') \n",
        "\n",
        "pi = np.load('/content/drive/MyDrive/colab/po.npy') \n",
        "\n",
        "mi = np.load('/content/drive/MyDrive/colab/mo.npy') \n",
        "\n",
        "ti = np.load('/content/drive/MyDrive/colab/to.npy') \n",
        "\n",
        "xi = np.load('/content/drive/MyDrive/colab/xv.npy') \n"
      ]
    },
    {
      "cell_type": "code",
      "execution_count": 13,
      "metadata": {
        "colab": {
          "base_uri": "https://localhost:8080/"
        },
        "id": "iI3B4xkdScM7",
        "outputId": "182b6818-c2e4-47e3-84d2-9e825a9d2a1f"
      },
      "outputs": [
        {
          "name": "stdout",
          "output_type": "stream",
          "text": [
            "0.9678861498832703\n"
          ]
        }
      ],
      "source": [
        "print(carplot[0])"
      ]
    },
    {
      "cell_type": "markdown",
      "metadata": {
        "id": "eWqcJMX-XTNk"
      },
      "source": [
        "BELOW WILL PLOT ALL DETECTIONS FROM OpenCV (CV) and ImageAI  (AI)\n"
      ]
    },
    {
      "cell_type": "code",
      "execution_count": 27,
      "metadata": {
        "colab": {
          "base_uri": "https://localhost:8080/",
          "height": 283
        },
        "id": "NSt8CpFM5EmX",
        "outputId": "e61cbf0a-261f-4e2a-abe4-2368e20e36ce"
      },
      "outputs": [
        {
          "data": {
            "image/png": "[encoded data removed]",
            "text/plain": [
              "<Figure size 432x288 with 2 Axes>"
            ]
          },
          "metadata": {},
          "output_type": "display_data"
        }
      ],
      "source": [
        "\n",
        "x1 = np.array(range(0, len(ci)))\n",
        "y1 = ci\n",
        "\n",
        "x2 = np.array(range(0, len(carplot)))\n",
        "y2 = carplot\n",
        "\n",
        "plt.subplot(1, 2, 1)\n",
        "plt.scatter(x1, y1)\n",
        "plt.xlabel(\"CARS CV\")\n",
        "plt.ylim([0,1])\n",
        "\n",
        "plt.subplot(1, 2, 2)\n",
        "plt.scatter(x2, y2)\n",
        "plt.xlabel(\"CARS AI\")\n",
        "plt.ylim([0,1])\n",
        "\n",
        "plt.show()"
      ]
    },
    {
      "cell_type": "code",
      "execution_count": 38,
      "metadata": {
        "colab": {
          "base_uri": "https://localhost:8080/",
          "height": 283
        },
        "id": "9bZmJdd5lWYZ",
        "outputId": "ffb907c1-2038-495f-e58b-be2bd10e5ad4"
      },
      "outputs": [
        {
          "data": {
            "image/png": "[encoded data removed]",
            "text/plain": [
              "<Figure size 432x288 with 2 Axes>"
            ]
          },
          "metadata": {},
          "output_type": "display_data"
        }
      ],
      "source": [
        "\n",
        "x1 = np.array(range(0, len(pi)))\n",
        "y1 =pi\n",
        "\n",
        "x2 = np.array(range(0, len(personplot)))\n",
        "y2 = personplot\n",
        "\n",
        "plt.subplot(1, 2, 1)\n",
        "plt.scatter(x1, y1, color = \"red\")\n",
        "plt.xlabel(\"PERSON CV\")\n",
        "plt.ylim([0,1])\n",
        "\n",
        "plt.subplot(1, 2, 2)\n",
        "plt.scatter(x2, y2, color = \"red\")\n",
        "plt.xlabel(\"PERSON AI/100\")\n",
        "plt.ylim([0,1])\n",
        "\n",
        "#plt.legend([\"blue\", \"green\"], loc =\"lower right\")\n",
        "\n",
        "plt.show()"
      ]
    },
    {
      "cell_type": "code",
      "execution_count": 29,
      "metadata": {
        "colab": {
          "base_uri": "https://localhost:8080/",
          "height": 283
        },
        "id": "SHC6VyvPlWbt",
        "outputId": "35d7bae5-a682-4ae0-f269-41fcd5be9733"
      },
      "outputs": [
        {
          "data": {
            "image/png": "[encoded data removed]",
            "text/plain": [
              "<Figure size 432x288 with 2 Axes>"
            ]
          },
          "metadata": {},
          "output_type": "display_data"
        }
      ],
      "source": [
        "\n",
        "x1 = np.array(range(0, len(mi)))\n",
        "y1 = mi\n",
        "\n",
        "x2 = np.array(range(0, len(motorbikeplot)))\n",
        "y2 = motorbikeplot\n",
        "\n",
        "plt.subplot(1, 2, 1)\n",
        "plt.scatter(x1, y1, color = \"blue\")\n",
        "plt.xlabel(\"MOTORCYCLES CV\")\n",
        "plt.ylim([0,1])\n",
        "\n",
        "plt.subplot(1, 2, 2)\n",
        "plt.scatter(x2, y2, color = \"blue\")\n",
        "plt.xlabel(\"MOTORCYCLES AI\")\n",
        "plt.ylim([0,1])\n",
        "\n",
        "plt.show()"
      ]
    },
    {
      "cell_type": "code",
      "execution_count": 30,
      "metadata": {
        "colab": {
          "base_uri": "https://localhost:8080/",
          "height": 283
        },
        "id": "z9gi_p5olWe-",
        "outputId": "6cfb620c-a032-431c-ea21-5ac53472785e"
      },
      "outputs": [
        {
          "data": {
            "image/png": "[encoded data removed]",
            "text/plain": [
              "<Figure size 432x288 with 2 Axes>"
            ]
          },
          "metadata": {},
          "output_type": "display_data"
        }
      ],
      "source": [
        "\n",
        "x1 = np.array(range(0, len(ti)))\n",
        "y1 = ti\n",
        "\n",
        "x2 = np.array(range(0, len(truckplot)))\n",
        "y2 = truckplot\n",
        "\n",
        "plt.subplot(1, 2, 1)\n",
        "plt.scatter(x1, y1, color = \"yellow\")\n",
        "plt.xlabel(\"TRUCKS CV\")\n",
        "plt.ylim([0,1])\n",
        "\n",
        "plt.subplot(1, 2, 2)\n",
        "plt.scatter(x2, y2, color = \"yellow\")\n",
        "plt.xlabel(\"TRUCKS AI\")\n",
        "plt.ylim([0,1])\n",
        "\n",
        "plt.show()"
      ]
    },
    {
      "cell_type": "code",
      "execution_count": 17,
      "metadata": {
        "id": "TOs6wvXse6Us"
      },
      "outputs": [],
      "source": []
    },
    {
      "cell_type": "markdown",
      "metadata": {
        "id": "OZRztn1KrVfV"
      },
      "source": [
        "ANALYSIS and FINDINGS REPORTS"
      ]
    },
    {
      "cell_type": "code",
      "execution_count": 18,
      "metadata": {
        "colab": {
          "base_uri": "https://localhost:8080/",
          "height": 429
        },
        "id": "8krvC4dXe_4z",
        "outputId": "26cc0ca1-0ad2-4910-fb9c-f119a1929b76"
      },
      "outputs": [
        {
          "data": {
            "image/png": "[encoded data removed]",
            "text/plain": [
              "<Figure size 720x504 with 1 Axes>"
            ]
          },
          "metadata": {},
          "output_type": "display_data"
        }
      ],
      "source": [
        "# Import libraries\n",
        "from matplotlib import pyplot as plt\n",
        "import numpy as np\n",
        "plt.style.use('dark_background')\n",
        " \n",
        "#get timestamp from OpenCV\n",
        "# open the data file\n",
        "file = open(\"/content/drive/MyDrive/colab/transtime.txt\")\n",
        "# read the file as a list\n",
        "data = file.readlines()\n",
        "# close the file\n",
        "file.close()\n",
        "cvtime = int(data[0])\n",
        "\n",
        "#get timestamp from OpenCV\n",
        "# open the data file\n",
        "file = open(\"/content/drive/MyDrive/colab/transtime.txt\")\n",
        "# read the file as a list\n",
        "data = file.readlines()\n",
        "# close the file\n",
        "file.close()\n",
        "cvtime = int(data[0])\n",
        "\n",
        "# Get ImageAI timestamp , mix and repot\n",
        "\n",
        "aitime = time_stamp_end - time_stamp_start\n",
        " \n",
        "# Creating dataset\n",
        "libTime = ['OPENCV', 'IMAGEAI']\n",
        " \n",
        "data = [cvtime, aitime]\n",
        " \n",
        "# Creating plot\n",
        "fig = plt.figure(figsize =(10, 7))\n",
        "plt.pie(data, labels = libTime)\n",
        "plt.title(label=\"TimeStamp OpenCV and ImageAI\",\n",
        "          fontsize=15,\n",
        "          color=\"green\")\n",
        "\n",
        " \n",
        "# show plot\n",
        "plt.show()"
      ]
    },
    {
      "cell_type": "code",
      "execution_count": 19,
      "metadata": {
        "colab": {
          "base_uri": "https://localhost:8080/",
          "height": 517
        },
        "id": "zaxUjEnwbtBf",
        "outputId": "5d5ce5a2-a563-473e-a5f4-fbeede8d3085"
      },
      "outputs": [
        {
          "data": {
            "image/png": "[encoded data removed]",
            "text/plain": [
              "<Figure size 576x576 with 1 Axes>"
            ]
          },
          "metadata": {},
          "output_type": "display_data"
        }
      ],
      "source": [
        "#  This is where the total of both is displayed\n",
        "\n",
        "import numpy as np\n",
        "import pandas as pd\n",
        "import seaborn as sns\n",
        "import matplotlib.pyplot as plt\n",
        "\n",
        "\n",
        "\n",
        "data = {\"Libraries\": [\"OpenCV\", \"ImageAI\"],\n",
        "\t\t\"RunTime\": [cvtime, aitime]}\n",
        "df = pd.DataFrame(data, columns=['Libraries', 'RunTime'])\n",
        "plt.figure(figsize=(8, 8))\n",
        "plots = sns.barplot(x=\"Libraries\", y=\"RunTime\", data=df)\n",
        "for bar in plots.patches:\n",
        "\tplots.annotate(format(bar.get_height(), '.2f'),\n",
        "\t\t\t\t(bar.get_x() + bar.get_width() / 2,\n",
        "\t\t\t\t\tbar.get_height()), ha='center', va='center',\n",
        "\t\t\t\tsize=15, xytext=(0, 8),\n",
        "\t\t\t\ttextcoords='offset points')\n",
        "plt.xlabel(\"Libraries\", size=14)\n",
        "plt.ylabel(\"RunTime\", size=14)\n",
        "plt.title(\"This is running time in seconds\")\n",
        "plt.show()\n",
        "\n"
      ]
    },
    {
      "cell_type": "code",
      "execution_count": 33,
      "metadata": {
        "colab": {
          "base_uri": "https://localhost:8080/",
          "height": 352
        },
        "id": "Gr-LmvMTNdM-",
        "outputId": "978a6e0a-a142-4fb2-be02-2b66a759ea4c"
      },
      "outputs": [
        {
          "data": {
            "image/png": "[encoded data removed]",
            "text/plain": [
              "<Figure size 432x288 with 1 Axes>"
            ]
          },
          "metadata": {},
          "output_type": "display_data"
        }
      ],
      "source": [
        "import numpy as np\n",
        "import matplotlib.pyplot as plt\n",
        "xt = [\"Cars\", \"Persons\", \"Motorcycles\", \"Trucks\"]\n",
        "\n",
        "data = [[xi[0], xi[1], xi[2], xi[3]],\n",
        "[carconf/carcc, personconf/personcc, motorbikeconf/motorbikecc, truckconf/truckcc]]\n",
        "X = np.arange(4)\n",
        "fig = plt.figure()\n",
        "ax = fig.add_axes([0,0,1,1])\n",
        "ax.bar(xt, data[0], color = 'b', width = 0.25)\n",
        "ax.bar(X+0.50, data[1], color = 'g', width = 0.25)\n",
        "ax.set_ylim([0,1])\n",
        "plt.title(\"Comparison objects scores both libraries\")\n",
        "\n",
        "plt.show()"
      ]
    },
    {
      "cell_type": "code",
      "execution_count": 21,
      "metadata": {
        "colab": {
          "base_uri": "https://localhost:8080/"
        },
        "id": "-2JsIAvvjp02",
        "outputId": "4b0c86f0-8929-49fe-c1a1-970b92f8d21e"
      },
      "outputs": [
        {
          "name": "stdout",
          "output_type": "stream",
          "text": [
            "77.16947973212014 0.8003121862598794\n"
          ]
        }
      ],
      "source": [
        "import numpy as np\n",
        "import pandas as pd\n",
        "import seaborn as sns\n",
        "import matplotlib.pyplot as plt\n",
        "\n",
        "#  Calculating subtotals\n",
        "\n",
        "totalcv = ((xi[0] + xi[1] + xi[2] + xi[3])*100)/4\n",
        "\n",
        "totalai = (carconf/carcc + personconf/personcc + motorbikeconf/motorbikecc + truckconf/truckcc)/4\n",
        "\n",
        "print(totalcv, totalai)"
      ]
    },
    {
      "cell_type": "code",
      "execution_count": 37,
      "metadata": {
        "colab": {
          "base_uri": "https://localhost:8080/",
          "height": 517
        },
        "id": "sYY4UYBPiA4B",
        "outputId": "5861521e-27f5-45b2-da85-7bfc18c2d104"
      },
      "outputs": [
        {
          "data": {
            "image/png": "[encoded data removed]",
            "text/plain": [
              "<Figure size 576x576 with 1 Axes>"
            ]
          },
          "metadata": {},
          "output_type": "display_data"
        }
      ],
      "source": [
        "#  Another plot for the total of accurate hits for 4 objects\n",
        "data = {\"Libraries\": [\"OpenCV\", \"ImageAI\"],\n",
        "\t\t\"RunTime\": [totalcv, totalai*100]}\n",
        "df = pd.DataFrame(data, columns=['Libraries', 'RunTime'])\n",
        "plt.figure(figsize=(8, 8))\n",
        "plots = sns.barplot(x=\"Libraries\", y=\"RunTime\", data=df, color = \"salmon\")\n",
        "for bar in plots.patches:\n",
        "\tplots.annotate(format(bar.get_height(), '.2f'),\n",
        "\t\t\t\t(bar.get_x() + bar.get_width() / 2,\n",
        "\t\t\t\t\tbar.get_height()), ha='center', va='center',\n",
        "\t\t\t\tsize=15, xytext=(0, 8),\n",
        "\t\t\t\ttextcoords='offset points')\n",
        "plt.xlabel(\"Libraries\", size=14)\n",
        "plt.ylabel(\"RunTime\", size=14)\n",
        "plt.ylim([0,100])\n",
        "plt.title(\"Accurate hits total for all 4 objects\")\n",
        "plt.show()"
      ]
    }
  ],
  "metadata": {
    "colab": {
      "collapsed_sections": [],
      "name": "T03_ImgInVideoAICaptain.ipynb",
      "provenance": []
    },
    "gpuClass": "standard",
    "kernelspec": {
      "display_name": "Python 3",
      "name": "python3"
    },
    "language_info": {
      "name": "python"
    }
  },
  "nbformat": 4,
  "nbformat_minor": 0
}

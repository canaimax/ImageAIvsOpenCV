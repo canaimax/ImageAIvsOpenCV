{
 "cells": [
  {
   "cell_type": "markdown",
   "metadata": {
    "id": "spCV35vkpKPb"
   },
   "source": [
    "Gus Marquez IS687\n",
    "\n",
    "Captain's ImageAI Object Detection in Video\n",
    "\n",
    "(Help for these code can be found in ImageAI)\n",
    "\n",
    "Google Drive Mounted /content/drive/MyDrive/colab/\n",
    "\n",
    "LOAD LIBRARIES and SETUP"
   ]
  },
  {
   "cell_type": "code",
   "execution_count": 4,
   "metadata": {
    "id": "YjRd7Nkvqogv"
   },
   "outputs": [],
   "source": []
  },
  {
   "cell_type": "code",
   "execution_count": 5,
   "metadata": {
    "colab": {
     "base_uri": "https://localhost:8080/"
    },
    "id": "z8vrfg_Vohu_",
    "outputId": "ba973123-40bb-40b6-95fe-8499400c9d4c"
   },
   "outputs": [
    {
     "name": "stdout",
     "output_type": "stream",
     "text": [
      "Mounted at /content/drive\n"
     ]
    }
   ],
   "source": [
    "from google.colab import drive\n",
    "drive.mount('/content/drive')"
   ]
  },
  {
   "cell_type": "markdown",
   "metadata": {
    "id": "H8obayaURKGr"
   },
   "source": [
    "SETUP Imports and counters/accumulators"
   ]
  },
  {
   "cell_type": "code",
   "execution_count": 6,
   "metadata": {
    "id": "6ySplNzLRIEs"
   },
   "outputs": [],
   "source": [
    "from imageai.Detection import VideoObjectDetection\n",
    "import os\n",
    "import time\n",
    "import calendar\n",
    "import imutils\n",
    "from imutils.video import FPS\n",
    "from imutils.video import VideoStream\n",
    "\n",
    "\n",
    "\n",
    "carcc = 0; carconf = 0; carplot=[]\n",
    "personcc = 0; personconf = 0; personplot=[]\n",
    "motorbikecc = 0; motorbikeconf = 0; motorbikeplot = []\n",
    "truckcc = 0; truckconf = 0; truckplot = []\n",
    "xxx=0"
   ]
  },
  {
   "cell_type": "markdown",
   "metadata": {
    "id": "HzFY2tSrRYwD"
   },
   "source": [
    "Run Detector"
   ]
  },
  {
   "cell_type": "code",
   "execution_count": 7,
   "metadata": {
    "colab": {
     "base_uri": "https://localhost:8080/"
    },
    "id": "J4RvR0hVqomi",
    "outputId": "e758457a-93b8-476f-8c8e-d26e6ea9e7e8"
   },
   "outputs": [
    {
     "name": "stdout",
     "output_type": "stream",
     "text": [
      "Current timestamp: 1661286271\n",
      "------------END OF A FRAME --------------\n",
      "Processing Frame :  1\n",
      "Processing Frame :  2\n",
      "Processing Frame :  3\n",
      "Processing Frame :  4\n",
      "Processing Frame :  5\n",
      "Processing Frame :  6\n",
      "Processing Frame :  7\n",
      "Processing Frame :  8\n",
      "Processing Frame :  9\n",
      "Processing Frame :  10\n",
      "Processing Frame :  11\n",
      "Processing Frame :  12\n",
      "Processing Frame :  13\n",
      "Processing Frame :  14\n",
      "Processing Frame :  15\n",
      "Processing Frame :  16\n",
      "Processing Frame :  17\n",
      "Processing Frame :  18\n",
      "Processing Frame :  19\n",
      "Processing Frame :  20\n",
      "Processing Frame :  21\n",
      "Processing Frame :  22\n",
      "Processing Frame :  23\n",
      "Processing Frame :  24\n",
      "Processing Frame :  25\n",
      "Processing Frame :  26\n",
      "Processing Frame :  27\n",
      "Processing Frame :  28\n",
      "Processing Frame :  29\n",
      "Processing Frame :  30\n",
      "Processing Frame :  31\n",
      "Processing Frame :  32\n",
      "Processing Frame :  33\n",
      "Processing Frame :  34\n",
      "Processing Frame :  35\n",
      "Processing Frame :  36\n",
      "Processing Frame :  37\n",
      "Processing Frame :  38\n",
      "Processing Frame :  39\n",
      "Processing Frame :  40\n",
      "Processing Frame :  41\n",
      "Processing Frame :  42\n",
      "Processing Frame :  43\n",
      "Processing Frame :  44\n",
      "Processing Frame :  45\n",
      "Processing Frame :  46\n",
      "Processing Frame :  47\n",
      "Processing Frame :  48\n",
      "Processing Frame :  49\n",
      "Processing Frame :  50\n",
      "Processing Frame :  51\n",
      "Processing Frame :  52\n",
      "Processing Frame :  53\n",
      "Processing Frame :  54\n",
      "Processing Frame :  55\n",
      "Processing Frame :  56\n",
      "Processing Frame :  57\n",
      "Processing Frame :  58\n",
      "Processing Frame :  59\n",
      "Processing Frame :  60\n",
      "Processing Frame :  61\n",
      "Processing Frame :  62\n",
      "Processing Frame :  63\n",
      "Processing Frame :  64\n",
      "Processing Frame :  65\n",
      "Processing Frame :  66\n",
      "Processing Frame :  67\n",
      "Processing Frame :  68\n",
      "Processing Frame :  69\n",
      "Processing Frame :  70\n",
      "Processing Frame :  71\n",
      "Processing Frame :  72\n",
      "Processing Frame :  73\n",
      "Processing Frame :  74\n",
      "Processing Frame :  75\n",
      "Processing Frame :  76\n",
      "Processing Frame :  77\n",
      "Processing Frame :  78\n",
      "Processing Frame :  79\n",
      "Processing Frame :  80\n",
      "Processing Frame :  81\n",
      "Processing Frame :  82\n",
      "Processing Frame :  83\n",
      "Processing Frame :  84\n",
      "Processing Frame :  85\n",
      "Processing Frame :  86\n",
      "Processing Frame :  87\n",
      "Processing Frame :  88\n",
      "Processing Frame :  89\n",
      "Processing Frame :  90\n",
      "Processing Frame :  91\n",
      "Processing Frame :  92\n",
      "Processing Frame :  93\n",
      "Processing Frame :  94\n",
      "Processing Frame :  95\n",
      "Processing Frame :  96\n",
      "Processing Frame :  97\n",
      "Processing Frame :  98\n",
      "Processing Frame :  99\n",
      "Processing Frame :  100\n",
      "Processing Frame :  101\n",
      "Processing Frame :  102\n",
      "Processing Frame :  103\n",
      "Start: 1661286271\n",
      "End: 1661286952\n",
      "Time: 681\n",
      "[INFO] elasped time: 681.06\n",
      "[INFO] approx. FPS: 4.01\n",
      "///////////// CARtotal  1387 125799.43560361862 90.69894419871567\n",
      "///////////// PERSONtotal  722 56572.74845838547 78.35560728308236\n",
      "///////////// MOTORBIKEtotal  601 54292.834997177124 90.33749583556926\n",
      "///////////// TRUCKtotal  20 1214.6565437316895 60.73282718658447\n",
      "/content/traffic_detected.avi\n"
     ]
    }
   ],
   "source": [
    "\n",
    "#TIMER\n",
    "\n",
    "current_GMT = time.gmtime()\n",
    "time_stamp_start = calendar.timegm(current_GMT)\n",
    "print(\"Current timestamp:\", time_stamp_start)\n",
    "\n",
    "fps = FPS().start()\n",
    "\n",
    "#RUN\n",
    "execution_path = os.getcwd()\n",
    "\n",
    "# THIS IS THE OPTION FUNCTION FOR IMAGEAI THAT YOU CAN IMPROVISE\n",
    "# I USE IT FOR COUNTERS AND ACCUMULATORS\n",
    "\n",
    "def forFrame(frame_number, output_array, output_count):\n",
    "  global carcc, carconf, personcc, personconf\n",
    "  global motorbikecc, motorbikeconf, truckcc, truckconf\n",
    "  #print(\"FOR FRAME  \" , frame_number, \"   ++++++++++++++++++++++++++++++++++++++++++++++++++\")\n",
    "  #print(\"Output for each object : \", output_array)\n",
    "  #print(\"Output count for unique objects : \", output_count)\n",
    "  #print(type(output_array))\n",
    "  #print(\">>>>>\", output_array[0])\n",
    "  #for key,value in output_array[0].items():\n",
    "\t  #print(key, ':', value)\n",
    "\n",
    "  #  Countes/accumulators\n",
    "  for item in output_array:\n",
    "      conf = item.get(\"percentage_probability\")\n",
    "      flag = item.get(\"name\")\n",
    "      #print(\"*****\", flag, conf)\n",
    "      if flag == \"car\":\n",
    "        carcc = carcc + 1\n",
    "        carconf = carconf + conf\n",
    "        carplot.append(conf)\n",
    "      if flag == \"person\":\n",
    "        personcc = personcc + 1\n",
    "        personconf = personconf + conf\n",
    "        personplot.append(conf)\n",
    "      if flag == \"motorcycle\":\n",
    "        motorbikecc = motorbikecc + 1\n",
    "        motorbikeconf = motorbikeconf + conf\n",
    "        motorbikeplot.append(conf)\n",
    "      if flag == \"truck\":\n",
    "        truckcc = truckcc + 1\n",
    "        truckconf = truckconf + conf\n",
    "        truckplot.append(conf)\n",
    "\n",
    "      #print(\"CAR\", carcc, \"PERSON\", personcc, \"MOTORCYCLE\", motorbikecc, \"TRUCK\", truckcc)\n",
    "      fps.update()\n",
    "    \n",
    "   \n",
    "\n",
    "print(\"------------END OF A FRAME --------------\")\n",
    "\n",
    "# STANDARD Video Detection in Video code from ImageAI\n",
    "# YOLOv3 version\n",
    "\n",
    "detector = VideoObjectDetection()\n",
    "detector.setModelTypeAsYOLOv3()\n",
    "detector.setModelPath( os.path.join(execution_path , \"/content/drive/MyDrive/colab/yolo.h5\"))\n",
    "detector.loadModel()\n",
    "\n",
    "video_path = detector.detectObjectsFromVideo(input_file_path=os.path.join(execution_path, \"/content/drive/MyDrive/colab/traffictiny.mp4\"),\n",
    "                                output_file_path=os.path.join(execution_path, \"traffic_detected\")\n",
    "                                , frames_per_second=20, log_progress=True, display_percentage_probability=True, display_object_name=True, per_frame_function=forFrame)\n",
    "\n",
    "\n",
    "\n",
    "#  ENDING - REPORTS\n",
    "current_GMT = time.gmtime()\n",
    "time_stamp_end = calendar.timegm(current_GMT)\n",
    "print(\"Start:\", time_stamp_start)\n",
    "print(\"End:\", time_stamp_end)\n",
    "print(\"Time:\", time_stamp_end - time_stamp_start)\n",
    "\n",
    "\n",
    "fps.update()\n",
    "fps.stop()\n",
    "\n",
    "print(\"[INFO] elasped time: {:.2f}\".format(fps.elapsed()))\n",
    "print(\"[INFO] approx. FPS: {:.2f}\".format(fps.fps()))\n",
    "\n",
    "print(\"///////////// CARtotal \", carcc, carconf, carconf/carcc)\n",
    "print(\"///////////// PERSONtotal \", personcc, personconf, personconf/personcc)\n",
    "print(\"///////////// MOTORBIKEtotal \", motorbikecc, motorbikeconf, motorbikeconf/motorbikecc)\n",
    "print(\"///////////// TRUCKtotal \", truckcc, truckconf, truckconf/truckcc)\n",
    "print(video_path)"
   ]
  },
  {
   "cell_type": "code",
   "execution_count": 8,
   "metadata": {
    "colab": {
     "base_uri": "https://localhost:8080/"
    },
    "id": "npumCTGtqosM",
    "outputId": "95262f36-32d7-4fe4-db1c-c276fd14170a"
   },
   "outputs": [
    {
     "name": "stdout",
     "output_type": "stream",
     "text": [
      "1387\n"
     ]
    }
   ],
   "source": [
    "print(len(carplot))"
   ]
  },
  {
   "cell_type": "code",
   "execution_count": 19,
   "metadata": {
    "colab": {
     "base_uri": "https://localhost:8080/",
     "height": 471
    },
    "id": "86tSxSnNcApr",
    "outputId": "b32254a5-5ce6-4ee9-f9fd-8e08b60aea50"
   },
   "outputs": [
    {
     "name": "stdout",
     "output_type": "stream",
     "text": [
      "Looking in indexes: https://pypi.org/simple, https://us-python.pkg.dev/colab-wheels/public/simple/\n",
      "Collecting matplotlib==3.1.3\n",
      "  Downloading matplotlib-3.1.3-cp37-cp37m-manylinux1_x86_64.whl (13.1 MB)\n",
      "\u001b[K     |████████████████████████████████| 13.1 MB 5.4 MB/s \n",
      "\u001b[?25hRequirement already satisfied: pyparsing!=2.0.4,!=2.1.2,!=2.1.6,>=2.0.1 in /usr/local/lib/python3.7/dist-packages (from matplotlib==3.1.3) (3.0.9)\n",
      "Requirement already satisfied: kiwisolver>=1.0.1 in /usr/local/lib/python3.7/dist-packages (from matplotlib==3.1.3) (1.4.4)\n",
      "Requirement already satisfied: python-dateutil>=2.1 in /usr/local/lib/python3.7/dist-packages (from matplotlib==3.1.3) (2.8.2)\n",
      "Requirement already satisfied: cycler>=0.10 in /usr/local/lib/python3.7/dist-packages (from matplotlib==3.1.3) (0.11.0)\n",
      "Requirement already satisfied: numpy>=1.11 in /usr/local/lib/python3.7/dist-packages (from matplotlib==3.1.3) (1.19.3)\n",
      "Requirement already satisfied: typing-extensions in /usr/local/lib/python3.7/dist-packages (from kiwisolver>=1.0.1->matplotlib==3.1.3) (3.7.4.3)\n",
      "Requirement already satisfied: six>=1.5 in /usr/local/lib/python3.7/dist-packages (from python-dateutil>=2.1->matplotlib==3.1.3) (1.15.0)\n",
      "Installing collected packages: matplotlib\n",
      "  Attempting uninstall: matplotlib\n",
      "    Found existing installation: matplotlib 3.3.2\n",
      "    Uninstalling matplotlib-3.3.2:\n",
      "      Successfully uninstalled matplotlib-3.3.2\n",
      "\u001b[31mERROR: pip's dependency resolver does not currently take into account all the packages that are installed. This behaviour is the source of the following dependency conflicts.\n",
      "plotnine 0.8.0 requires scipy>=1.5.0, but you have scipy 1.4.1 which is incompatible.\n",
      "imageai 2.1.6 requires matplotlib==3.3.2, but you have matplotlib 3.1.3 which is incompatible.\u001b[0m\n",
      "Successfully installed matplotlib-3.1.3\n"
     ]
    },
    {
     "data": {
      "application/vnd.colab-display-data+json": {
       "pip_warning": {
        "packages": [
         "matplotlib",
         "mpl_toolkits"
        ]
       }
      }
     },
     "metadata": {},
     "output_type": "display_data"
    }
   ],
   "source": [
    "\n",
    "pip install matplotlib==3.1.3"
   ]
  },
  {
   "cell_type": "code",
   "execution_count": 20,
   "metadata": {
    "colab": {
     "base_uri": "https://localhost:8080/",
     "height": 317
    },
    "id": "MW9rz38BkozO",
    "outputId": "2a973ec9-eb62-4a45-a957-4969e813b195"
   },
   "outputs": [
    {
     "name": "stdout",
     "output_type": "stream",
     "text": [
      "{'Cars': 0.9069894419871567, 'Persons': 0.7835560728308236, 'Motobikes': 0.9033749583556926, 'Trucks': 0.6073282718658447}\n",
      "\n"
     ]
    },
    {
     "data": {
      "text/plain": [
       "<BarContainer object of 4 artists>"
      ]
     },
     "execution_count": 20,
     "metadata": {},
     "output_type": "execute_result"
    },
    {
     "data": {
      "image/png": "[encoded data removed]",
      "text/plain": [
       "<Figure size 432x288 with 1 Axes>"
      ]
     },
     "metadata": {},
     "output_type": "display_data"
    }
   ],
   "source": [
    "\n",
    "#  PLOT SCORE RESULTS\n",
    "\n",
    "import matplotlib.pyplot as plt\n",
    "import numpy as np\n",
    "plt.style.use('dark_background')\n",
    "\n",
    "xkeys = ['Cars', 'Persons', 'Motobikes', 'Trucks']\n",
    "xvalues = [carconf/carcc/100, personconf/personcc/100, motorbikeconf/motorbikecc/100, truckconf/truckcc/100]\n",
    "xd = dict(zip(xkeys, xvalues))\n",
    "print(xd)\n",
    "print()\n",
    "\n",
    "\n",
    "\n",
    "group_data = list(xd.values())\n",
    "group_names = list(xd.keys())\n",
    "group_mean = np.mean(group_data)\n",
    "\n",
    "fig, ax = plt.subplots()\n",
    "ax.barh(group_names, group_data)"
   ]
  },
  {
   "cell_type": "code",
   "execution_count": 9,
   "metadata": {
    "id": "NYTsb9-oko3Y"
   },
   "outputs": [],
   "source": []
  },
  {
   "cell_type": "code",
   "execution_count": 10,
   "metadata": {
    "colab": {
     "base_uri": "https://localhost:8080/"
    },
    "id": "QXo4_qRZko7l",
    "outputId": "88a143cd-4ab1-483a-d4d8-8c9bed45c5aa"
   },
   "outputs": [
    {
     "name": "stdout",
     "output_type": "stream",
     "text": [
      "722\n"
     ]
    }
   ],
   "source": [
    "print(len(personplot))"
   ]
  },
  {
   "cell_type": "code",
   "execution_count": 10,
   "metadata": {
    "id": "L0Ciswy_XImR"
   },
   "outputs": [],
   "source": []
  },
  {
   "cell_type": "code",
   "execution_count": 11,
   "metadata": {
    "id": "ro7jqhE8x7ZV"
   },
   "outputs": [],
   "source": [
    "#  LOAD RESULTS FROM OPENCV\n",
    "\n",
    "import numpy as np\n",
    "import matplotlib.pyplot as plt\n",
    "\n",
    "ci = np.load('/content/drive/MyDrive/colab/co.npy') \n",
    "\n",
    "pi = np.load('/content/drive/MyDrive/colab/po.npy') \n",
    "\n",
    "mi = np.load('/content/drive/MyDrive/colab/mo.npy') \n",
    "\n",
    "ti = np.load('/content/drive/MyDrive/colab/to.npy') \n"
   ]
  },
  {
   "cell_type": "markdown",
   "metadata": {
    "id": "eWqcJMX-XTNk"
   },
   "source": [
    "BELOW WILL PLOT ALL DETECTIONS FROM OpenCV (CV) and ImageAI  (AI)\n"
   ]
  },
  {
   "cell_type": "code",
   "execution_count": 21,
   "metadata": {
    "colab": {
     "base_uri": "https://localhost:8080/",
     "height": 279
    },
    "id": "NSt8CpFM5EmX",
    "outputId": "9c9a4580-6005-40fe-a655-ca9e7dbf08b7"
   },
   "outputs": [
    {
     "data": {
      "image/png": "[encoded data removed]",
      "text/plain": [
       "<Figure size 432x288 with 2 Axes>"
      ]
     },
     "metadata": {},
     "output_type": "display_data"
    }
   ],
   "source": [
    "x1 = np.array(range(0, len(carplot)))\n",
    "y1 = carplot\n",
    "\n",
    "x2 = np.array(range(0, len(ci)))\n",
    "y2 = ci\n",
    "\n",
    "plt.subplot(1, 2, 2)\n",
    "plt.scatter(x2, y2)\n",
    "plt.xlabel(\"CARS CV\")\n",
    "\n",
    "plt.subplot(1, 2, 1)\n",
    "plt.scatter(x1, y1)\n",
    "plt.xlabel(\"CARS AI\")\n",
    "\n",
    "plt.show()"
   ]
  },
  {
   "cell_type": "code",
   "execution_count": 22,
   "metadata": {
    "colab": {
     "base_uri": "https://localhost:8080/",
     "height": 279
    },
    "id": "9bZmJdd5lWYZ",
    "outputId": "21b8a12b-3935-4e14-c29c-867451b05c6e"
   },
   "outputs": [
    {
     "data": {
      "image/png": "[encoded data removed]",
      "text/plain": [
       "<Figure size 432x288 with 2 Axes>"
      ]
     },
     "metadata": {},
     "output_type": "display_data"
    }
   ],
   "source": [
    "x1 = np.array(range(0, len(personplot)))\n",
    "y1 = personplot\n",
    "\n",
    "x2 = np.array(range(0, len(pi)))\n",
    "y2 = pi\n",
    "\n",
    "plt.subplot(1, 2, 2)\n",
    "plt.scatter(x2, y2, c='red')\n",
    "plt.xlabel(\"PERSON CV\")\n",
    "\n",
    "plt.subplot(1, 2, 1)\n",
    "plt.scatter(x1, y1, c='red')\n",
    "plt.xlabel(\"PERSON AI\")\n",
    "\n",
    "plt.show()"
   ]
  },
  {
   "cell_type": "code",
   "execution_count": 23,
   "metadata": {
    "colab": {
     "base_uri": "https://localhost:8080/",
     "height": 279
    },
    "id": "SHC6VyvPlWbt",
    "outputId": "7ec1d2a9-6fdc-44fe-8ae8-102c51a8be88"
   },
   "outputs": [
    {
     "data": {
      "image/png": "[encoded data removed]",
      "text/plain": [
       "<Figure size 432x288 with 2 Axes>"
      ]
     },
     "metadata": {},
     "output_type": "display_data"
    }
   ],
   "source": [
    "x1 = np.array(range(0, len(motorbikeplot)))\n",
    "y1 = motorbikeplot\n",
    "\n",
    "x2 = np.array(range(0, len(mi)))\n",
    "y2 = mi\n",
    "\n",
    "\n",
    "plt.subplot(1, 2, 2)\n",
    "plt.scatter(x2, y2, c='blue')\n",
    "plt.xlabel(\"MOTORCYCLES CV\")\n",
    "\n",
    "plt.subplot(1, 2, 1)\n",
    "plt.scatter(x1, y1, c='blue')\n",
    "plt.xlabel(\"MOTORCYCLES AI\")\n",
    "\n",
    "plt.show()"
   ]
  },
  {
   "cell_type": "code",
   "execution_count": 24,
   "metadata": {
    "colab": {
     "base_uri": "https://localhost:8080/",
     "height": 279
    },
    "id": "z9gi_p5olWe-",
    "outputId": "01833c1a-5253-47d9-cc67-aae30e23faf3"
   },
   "outputs": [
    {
     "data": {
      "image/png": "[encoded data removed]",
      "text/plain": [
       "<Figure size 432x288 with 2 Axes>"
      ]
     },
     "metadata": {},
     "output_type": "display_data"
    }
   ],
   "source": [
    "x1 = np.array(range(0, len(truckplot)))\n",
    "y1 = truckplot\n",
    "\n",
    "x2 = np.array(range(0, len(ti)))\n",
    "y2 = ti\n",
    "\n",
    "plt.subplot(1, 2, 2)\n",
    "plt.scatter(x2, y2, c='yellow')\n",
    "plt.xlabel(\"TRUCKS CV\")\n",
    "\n",
    "plt.subplot(1, 2, 1)\n",
    "plt.scatter(x1, y1, c='yellow')\n",
    "plt.xlabel(\"TRUCKS AI\")\n",
    "\n",
    "plt.show()"
   ]
  },
  {
   "cell_type": "code",
   "execution_count": 15,
   "metadata": {
    "id": "TOs6wvXse6Us"
   },
   "outputs": [],
   "source": []
  },
  {
   "cell_type": "code",
   "execution_count": 25,
   "metadata": {
    "colab": {
     "base_uri": "https://localhost:8080/",
     "height": 429
    },
    "id": "8krvC4dXe_4z",
    "outputId": "a0aee07b-e266-4185-92b3-8439e6d0eb65"
   },
   "outputs": [
    {
     "data": {
      "image/png": "[encoded data removed]",
      "text/plain": [
       "<Figure size 720x504 with 1 Axes>"
      ]
     },
     "metadata": {},
     "output_type": "display_data"
    }
   ],
   "source": [
    "# Import libraries\n",
    "from matplotlib import pyplot as plt\n",
    "import numpy as np\n",
    "plt.style.use('dark_background')\n",
    " \n",
    "#get timestamp from OpenCV\n",
    "# open the data file\n",
    "file = open(\"/content/drive/MyDrive/colab/transtime.txt\")\n",
    "# read the file as a list\n",
    "data = file.readlines()\n",
    "# close the file\n",
    "file.close()\n",
    "cvtime = int(data[0])\n",
    "\n",
    "# Get ImageAI timestamp , mix and repot\n",
    "\n",
    "aitime = time_stamp_end - time_stamp_start\n",
    " \n",
    "# Creating dataset\n",
    "libTime = ['OPENCV', 'IMAGEAI']\n",
    " \n",
    "data = [cvtime, aitime]\n",
    " \n",
    "# Creating plot\n",
    "fig = plt.figure(figsize =(10, 7))\n",
    "plt.pie(data, labels = libTime)\n",
    "plt.title(label=\"TimeStamp OpenCV and ImageAI\",\n",
    "          fontsize=15,\n",
    "          color=\"green\")\n",
    "\n",
    " \n",
    "# show plot\n",
    "plt.show()"
   ]
  }
 ],
 "metadata": {
  "colab": {
   "collapsed_sections": [],
   "name": "T03_ImgInVideoAICaptain.ipynb",
   "provenance": []
  },
  "gpuClass": "standard",
  "kernelspec": {
   "display_name": "Python 3 (ipykernel)",
   "language": "python",
   "name": "python3"
  },
  "language_info": {
   "codemirror_mode": {
    "name": "ipython",
    "version": 3
   },
   "file_extension": ".py",
   "mimetype": "text/x-python",
   "name": "python",
   "nbconvert_exporter": "python",
   "pygments_lexer": "ipython3",
   "version": "3.9.7"
  }
 },
 "nbformat": 4,
 "nbformat_minor": 1
}
